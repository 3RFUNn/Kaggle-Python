{
 "cells": [
  {
   "cell_type": "markdown",
   "id": "13075c51",
   "metadata": {
    "papermill": {
     "duration": 0.010212,
     "end_time": "2023-02-17T14:31:22.285143",
     "exception": false,
     "start_time": "2023-02-17T14:31:22.274931",
     "status": "completed"
    },
    "tags": []
   },
   "source": [
    "**This notebook is an exercise in the [Python](https://www.kaggle.com/learn/python) course.  You can reference the tutorial at [this link](https://www.kaggle.com/colinmorris/lists).**\n",
    "\n",
    "---\n"
   ]
  },
  {
   "cell_type": "markdown",
   "id": "c4941454",
   "metadata": {
    "papermill": {
     "duration": 0.004644,
     "end_time": "2023-02-17T14:31:22.295180",
     "exception": false,
     "start_time": "2023-02-17T14:31:22.290536",
     "status": "completed"
    },
    "tags": []
   },
   "source": [
    "Things get more interesting with lists. You'll apply your new knowledge to solve the questions below. Remember to run the following cell first."
   ]
  },
  {
   "cell_type": "code",
   "execution_count": 1,
   "id": "3334d87e",
   "metadata": {
    "execution": {
     "iopub.execute_input": "2023-02-17T14:31:22.307483Z",
     "iopub.status.busy": "2023-02-17T14:31:22.306895Z",
     "iopub.status.idle": "2023-02-17T14:31:22.361366Z",
     "shell.execute_reply": "2023-02-17T14:31:22.359958Z"
    },
    "papermill": {
     "duration": 0.066181,
     "end_time": "2023-02-17T14:31:22.366245",
     "exception": false,
     "start_time": "2023-02-17T14:31:22.300064",
     "status": "completed"
    },
    "tags": []
   },
   "outputs": [
    {
     "name": "stdout",
     "output_type": "stream",
     "text": [
      "Setup complete.\n"
     ]
    }
   ],
   "source": [
    "from learntools.core import binder; binder.bind(globals())\n",
    "from learntools.python.ex4 import *\n",
    "print('Setup complete.')"
   ]
  },
  {
   "cell_type": "markdown",
   "id": "a00f4a52",
   "metadata": {
    "papermill": {
     "duration": 0.00812,
     "end_time": "2023-02-17T14:31:22.381341",
     "exception": false,
     "start_time": "2023-02-17T14:31:22.373221",
     "status": "completed"
    },
    "tags": []
   },
   "source": [
    "# 1.\n",
    "\n",
    "Complete the function below according to its docstring."
   ]
  },
  {
   "cell_type": "code",
   "execution_count": 2,
   "id": "61ada4fa",
   "metadata": {
    "execution": {
     "iopub.execute_input": "2023-02-17T14:31:22.394330Z",
     "iopub.status.busy": "2023-02-17T14:31:22.393458Z",
     "iopub.status.idle": "2023-02-17T14:31:22.406666Z",
     "shell.execute_reply": "2023-02-17T14:31:22.405569Z"
    },
    "papermill": {
     "duration": 0.022312,
     "end_time": "2023-02-17T14:31:22.409059",
     "exception": false,
     "start_time": "2023-02-17T14:31:22.386747",
     "status": "completed"
    },
    "tags": []
   },
   "outputs": [
    {
     "data": {
      "application/javascript": [
       "parent.postMessage({\"jupyterEvent\": \"custom.exercise_interaction\", \"data\": {\"outcomeType\": 1, \"valueTowardsCompletion\": 0.2, \"interactionType\": 1, \"questionType\": 2, \"questionId\": \"1_SelectSecondItem\", \"learnToolsVersion\": \"0.3.4\", \"failureMessage\": \"\", \"exceptionClass\": \"\", \"trace\": \"\"}}, \"*\")"
      ],
      "text/plain": [
       "<IPython.core.display.Javascript object>"
      ]
     },
     "metadata": {},
     "output_type": "display_data"
    },
    {
     "data": {
      "text/markdown": [
       "<span style=\"color:#33cc33\">Correct</span>"
      ],
      "text/plain": [
       "Correct"
      ]
     },
     "metadata": {},
     "output_type": "display_data"
    }
   ],
   "source": [
    "def select_second(L):\n",
    "    \"\"\"Return the second element of the given list. If the list has no second\n",
    "    element, return None.\n",
    "    \"\"\"\n",
    "    if len(L) > 2 :\n",
    "        return L[1]\n",
    "    else : \n",
    "        return None\n",
    "\n",
    "\n",
    "# Check your answer\n",
    "q1.check()"
   ]
  },
  {
   "cell_type": "code",
   "execution_count": 3,
   "id": "9ca6e103",
   "metadata": {
    "execution": {
     "iopub.execute_input": "2023-02-17T14:31:22.420900Z",
     "iopub.status.busy": "2023-02-17T14:31:22.420543Z",
     "iopub.status.idle": "2023-02-17T14:31:22.425188Z",
     "shell.execute_reply": "2023-02-17T14:31:22.424035Z"
    },
    "papermill": {
     "duration": 0.013191,
     "end_time": "2023-02-17T14:31:22.427523",
     "exception": false,
     "start_time": "2023-02-17T14:31:22.414332",
     "status": "completed"
    },
    "tags": []
   },
   "outputs": [],
   "source": [
    "#q1.hint()\n",
    "#q1.solution()"
   ]
  },
  {
   "cell_type": "markdown",
   "id": "fe26721a",
   "metadata": {
    "papermill": {
     "duration": 0.004735,
     "end_time": "2023-02-17T14:31:22.437394",
     "exception": false,
     "start_time": "2023-02-17T14:31:22.432659",
     "status": "completed"
    },
    "tags": []
   },
   "source": [
    "# 2.\n",
    "\n",
    "You are analyzing sports teams.  Members of each team are stored in a list. The Coach is the first name in the list, the captain is the second name in the list, and other players are listed after that. \n",
    "These lists are stored in another list, which starts with the best team and proceeds through the list to the worst team last.  Complete the function below to select the **captain** of the worst team."
   ]
  },
  {
   "cell_type": "code",
   "execution_count": 4,
   "id": "0f84e065",
   "metadata": {
    "execution": {
     "iopub.execute_input": "2023-02-17T14:31:22.450224Z",
     "iopub.status.busy": "2023-02-17T14:31:22.448920Z",
     "iopub.status.idle": "2023-02-17T14:31:22.459479Z",
     "shell.execute_reply": "2023-02-17T14:31:22.458307Z"
    },
    "papermill": {
     "duration": 0.019245,
     "end_time": "2023-02-17T14:31:22.461612",
     "exception": false,
     "start_time": "2023-02-17T14:31:22.442367",
     "status": "completed"
    },
    "tags": []
   },
   "outputs": [
    {
     "data": {
      "application/javascript": [
       "parent.postMessage({\"jupyterEvent\": \"custom.exercise_interaction\", \"data\": {\"outcomeType\": 1, \"valueTowardsCompletion\": 0.2, \"interactionType\": 1, \"questionType\": 2, \"questionId\": \"2_LosingTeamCaptain\", \"learnToolsVersion\": \"0.3.4\", \"failureMessage\": \"\", \"exceptionClass\": \"\", \"trace\": \"\"}}, \"*\")"
      ],
      "text/plain": [
       "<IPython.core.display.Javascript object>"
      ]
     },
     "metadata": {},
     "output_type": "display_data"
    },
    {
     "data": {
      "text/markdown": [
       "<span style=\"color:#33cc33\">Correct</span>"
      ],
      "text/plain": [
       "Correct"
      ]
     },
     "metadata": {},
     "output_type": "display_data"
    }
   ],
   "source": [
    "def losing_team_captain(teams):\n",
    "    \"\"\"Given a list of teams, where each team is a list of names, return the 2nd player (captain)\n",
    "    from the last listed team\n",
    "    \"\"\"\n",
    "    return teams[-1][1]\n",
    "\n",
    "# Check your answer\n",
    "q2.check()"
   ]
  },
  {
   "cell_type": "code",
   "execution_count": 5,
   "id": "36f1e276",
   "metadata": {
    "execution": {
     "iopub.execute_input": "2023-02-17T14:31:22.474337Z",
     "iopub.status.busy": "2023-02-17T14:31:22.473913Z",
     "iopub.status.idle": "2023-02-17T14:31:22.477811Z",
     "shell.execute_reply": "2023-02-17T14:31:22.476955Z"
    },
    "papermill": {
     "duration": 0.012816,
     "end_time": "2023-02-17T14:31:22.479860",
     "exception": false,
     "start_time": "2023-02-17T14:31:22.467044",
     "status": "completed"
    },
    "tags": []
   },
   "outputs": [],
   "source": [
    "#q2.hint()\n",
    "#q2.solution()"
   ]
  },
  {
   "cell_type": "markdown",
   "id": "54534cd1",
   "metadata": {
    "papermill": {
     "duration": 0.005131,
     "end_time": "2023-02-17T14:31:22.490700",
     "exception": false,
     "start_time": "2023-02-17T14:31:22.485569",
     "status": "completed"
    },
    "tags": []
   },
   "source": [
    "# 3.\n",
    "\n",
    "The next iteration of Mario Kart will feature an extra-infuriating new item, the *Purple Shell*. When used, it warps the last place racer into first place and the first place racer into last place. Complete the function below to implement the Purple Shell's effect."
   ]
  },
  {
   "cell_type": "code",
   "execution_count": 6,
   "id": "a879e82e",
   "metadata": {
    "execution": {
     "iopub.execute_input": "2023-02-17T14:31:22.503575Z",
     "iopub.status.busy": "2023-02-17T14:31:22.502464Z",
     "iopub.status.idle": "2023-02-17T14:31:22.513050Z",
     "shell.execute_reply": "2023-02-17T14:31:22.511694Z"
    },
    "papermill": {
     "duration": 0.021424,
     "end_time": "2023-02-17T14:31:22.517289",
     "exception": false,
     "start_time": "2023-02-17T14:31:22.495865",
     "status": "completed"
    },
    "tags": []
   },
   "outputs": [
    {
     "data": {
      "application/javascript": [
       "parent.postMessage({\"jupyterEvent\": \"custom.exercise_interaction\", \"data\": {\"outcomeType\": 1, \"valueTowardsCompletion\": 0.2, \"interactionType\": 1, \"questionType\": 2, \"questionId\": \"3_PurpleShell\", \"learnToolsVersion\": \"0.3.4\", \"failureMessage\": \"\", \"exceptionClass\": \"\", \"trace\": \"\"}}, \"*\")"
      ],
      "text/plain": [
       "<IPython.core.display.Javascript object>"
      ]
     },
     "metadata": {},
     "output_type": "display_data"
    },
    {
     "data": {
      "text/markdown": [
       "<span style=\"color:#33cc33\">Correct</span>"
      ],
      "text/plain": [
       "Correct"
      ]
     },
     "metadata": {},
     "output_type": "display_data"
    }
   ],
   "source": [
    "def purple_shell(racers):\n",
    "    \"\"\"Given a list of racers, set the first place racer (at the front of the list) to last\n",
    "    place and vice versa.\n",
    "    \n",
    "    >>> r = [\"Mario\", \"Bowser\", \"Luigi\"]\n",
    "    >>> purple_shell(r)\n",
    "    >>> r\n",
    "    [\"Luigi\", \"Bowser\", \"Mario\"]\n",
    "    \"\"\"\n",
    "    extra = racers[0]\n",
    "    racers[0] = racers[-1]\n",
    "    racers[-1] = extra\n",
    "\n",
    "# Check your answer\n",
    "q3.check()"
   ]
  },
  {
   "cell_type": "code",
   "execution_count": 7,
   "id": "393a0bce",
   "metadata": {
    "execution": {
     "iopub.execute_input": "2023-02-17T14:31:22.532275Z",
     "iopub.status.busy": "2023-02-17T14:31:22.531540Z",
     "iopub.status.idle": "2023-02-17T14:31:22.535608Z",
     "shell.execute_reply": "2023-02-17T14:31:22.534854Z"
    },
    "papermill": {
     "duration": 0.013464,
     "end_time": "2023-02-17T14:31:22.537644",
     "exception": false,
     "start_time": "2023-02-17T14:31:22.524180",
     "status": "completed"
    },
    "tags": []
   },
   "outputs": [],
   "source": [
    "#q3.hint()\n",
    "#q3.solution()"
   ]
  },
  {
   "cell_type": "markdown",
   "id": "f92a3303",
   "metadata": {
    "papermill": {
     "duration": 0.005268,
     "end_time": "2023-02-17T14:31:22.548518",
     "exception": false,
     "start_time": "2023-02-17T14:31:22.543250",
     "status": "completed"
    },
    "tags": []
   },
   "source": [
    "# 4.\n",
    "\n",
    "What are the lengths of the following lists? Fill in the variable `lengths` with your predictions. (Try to make a prediction for each list *without* just calling `len()` on it.)"
   ]
  },
  {
   "cell_type": "code",
   "execution_count": 8,
   "id": "2b568f8f",
   "metadata": {
    "execution": {
     "iopub.execute_input": "2023-02-17T14:31:22.562755Z",
     "iopub.status.busy": "2023-02-17T14:31:22.561712Z",
     "iopub.status.idle": "2023-02-17T14:31:22.572288Z",
     "shell.execute_reply": "2023-02-17T14:31:22.571219Z"
    },
    "papermill": {
     "duration": 0.020603,
     "end_time": "2023-02-17T14:31:22.574552",
     "exception": false,
     "start_time": "2023-02-17T14:31:22.553949",
     "status": "completed"
    },
    "tags": []
   },
   "outputs": [
    {
     "data": {
      "application/javascript": [
       "parent.postMessage({\"jupyterEvent\": \"custom.exercise_interaction\", \"data\": {\"outcomeType\": 1, \"valueTowardsCompletion\": 0.2, \"interactionType\": 1, \"questionType\": 1, \"questionId\": \"4_UnderstandLen\", \"learnToolsVersion\": \"0.3.4\", \"failureMessage\": \"\", \"exceptionClass\": \"\", \"trace\": \"\"}}, \"*\")"
      ],
      "text/plain": [
       "<IPython.core.display.Javascript object>"
      ]
     },
     "metadata": {},
     "output_type": "display_data"
    },
    {
     "data": {
      "text/markdown": [
       "<span style=\"color:#33cc33\">Correct:</span> \n",
       "\n",
       "\n",
       "- a: There are three items in this list. Nothing tricky yet.\n",
       "- b: The list `[2, 3]` counts as a single item. It has one item before it. So we have 2 items in the list\n",
       "- c: The empty list has 0 items\n",
       "- d: The expression is the same as the list `[2, 3]`, which has length 2."
      ],
      "text/plain": [
       "Correct: \n",
       "\n",
       "\n",
       "- a: There are three items in this list. Nothing tricky yet.\n",
       "- b: The list `[2, 3]` counts as a single item. It has one item before it. So we have 2 items in the list\n",
       "- c: The empty list has 0 items\n",
       "- d: The expression is the same as the list `[2, 3]`, which has length 2."
      ]
     },
     "metadata": {},
     "output_type": "display_data"
    }
   ],
   "source": [
    "a = [1, 2, 3]\n",
    "b = [1, [2, 3]]\n",
    "c = []\n",
    "d = [1, 2, 3][1:]\n",
    "\n",
    "# Put your predictions in the list below. Lengths should contain 4 numbers, the\n",
    "# first being the length of a, the second being the length of b and so on.\n",
    "lengths = [3 , 2 , 0 , 2]\n",
    "\n",
    "# Check your answer\n",
    "q4.check()"
   ]
  },
  {
   "cell_type": "code",
   "execution_count": 9,
   "id": "ca06c10e",
   "metadata": {
    "execution": {
     "iopub.execute_input": "2023-02-17T14:31:22.589056Z",
     "iopub.status.busy": "2023-02-17T14:31:22.588508Z",
     "iopub.status.idle": "2023-02-17T14:31:22.593872Z",
     "shell.execute_reply": "2023-02-17T14:31:22.592611Z"
    },
    "papermill": {
     "duration": 0.01563,
     "end_time": "2023-02-17T14:31:22.596370",
     "exception": false,
     "start_time": "2023-02-17T14:31:22.580740",
     "status": "completed"
    },
    "tags": []
   },
   "outputs": [],
   "source": [
    "# line below provides some explanation\n",
    "# q4.solution()"
   ]
  },
  {
   "cell_type": "markdown",
   "id": "63401411",
   "metadata": {
    "papermill": {
     "duration": 0.005868,
     "end_time": "2023-02-17T14:31:22.609082",
     "exception": false,
     "start_time": "2023-02-17T14:31:22.603214",
     "status": "completed"
    },
    "tags": []
   },
   "source": [
    "# 5. <span title=\"A bit spicy\" style=\"color: darkgreen \">🌶️</span>\n",
    "\n",
    "We're using lists to record people who attended our party and what order they arrived in. For example, the following list represents a party with 7 guests, in which Adela showed up first and Ford was the last to arrive:\n",
    "\n",
    "    party_attendees = ['Adela', 'Fleda', 'Owen', 'May', 'Mona', 'Gilbert', 'Ford']\n",
    "\n",
    "A guest is considered 'fashionably late' if they arrived after at least half of the party's guests. However, they must not be the very last guest (that's taking it too far). In the above example, Mona and Gilbert are the only guests who were fashionably late.\n",
    "\n",
    "Complete the function below which takes a list of party attendees as well as a person, and tells us whether that person is fashionably late."
   ]
  },
  {
   "cell_type": "code",
   "execution_count": 10,
   "id": "e5c66db0",
   "metadata": {
    "execution": {
     "iopub.execute_input": "2023-02-17T14:31:22.623153Z",
     "iopub.status.busy": "2023-02-17T14:31:22.622650Z",
     "iopub.status.idle": "2023-02-17T14:31:22.632779Z",
     "shell.execute_reply": "2023-02-17T14:31:22.631715Z"
    },
    "papermill": {
     "duration": 0.019726,
     "end_time": "2023-02-17T14:31:22.634928",
     "exception": false,
     "start_time": "2023-02-17T14:31:22.615202",
     "status": "completed"
    },
    "tags": []
   },
   "outputs": [
    {
     "data": {
      "application/javascript": [
       "parent.postMessage({\"jupyterEvent\": \"custom.exercise_interaction\", \"data\": {\"outcomeType\": 1, \"valueTowardsCompletion\": 0.2, \"interactionType\": 1, \"questionType\": 2, \"questionId\": \"5_FashionablyLate\", \"learnToolsVersion\": \"0.3.4\", \"failureMessage\": \"\", \"exceptionClass\": \"\", \"trace\": \"\"}}, \"*\")"
      ],
      "text/plain": [
       "<IPython.core.display.Javascript object>"
      ]
     },
     "metadata": {},
     "output_type": "display_data"
    },
    {
     "data": {
      "text/markdown": [
       "<span style=\"color:#33cc33\">Correct</span>"
      ],
      "text/plain": [
       "Correct"
      ]
     },
     "metadata": {},
     "output_type": "display_data"
    }
   ],
   "source": [
    "def fashionably_late(arrivals, name):\n",
    "    \"\"\"Given an ordered list of arrivals to the party and a name, return whether the guest with that\n",
    "    name was fashionably late.\n",
    "    \"\"\"\n",
    "    number = arrivals.index(name)\n",
    "    return number >= len(arrivals) / 2 and number != len(arrivals) - 1\n",
    "\n",
    "# Check your answer\n",
    "q5.check()"
   ]
  },
  {
   "cell_type": "code",
   "execution_count": 11,
   "id": "99d6eedb",
   "metadata": {
    "execution": {
     "iopub.execute_input": "2023-02-17T14:31:22.649495Z",
     "iopub.status.busy": "2023-02-17T14:31:22.648814Z",
     "iopub.status.idle": "2023-02-17T14:31:22.652819Z",
     "shell.execute_reply": "2023-02-17T14:31:22.651955Z"
    },
    "papermill": {
     "duration": 0.01392,
     "end_time": "2023-02-17T14:31:22.654958",
     "exception": false,
     "start_time": "2023-02-17T14:31:22.641038",
     "status": "completed"
    },
    "tags": []
   },
   "outputs": [],
   "source": [
    "#q5.hint()\n",
    "#q5.solution()"
   ]
  },
  {
   "cell_type": "markdown",
   "id": "3b46cbb4",
   "metadata": {
    "papermill": {
     "duration": 0.005966,
     "end_time": "2023-02-17T14:31:22.667091",
     "exception": false,
     "start_time": "2023-02-17T14:31:22.661125",
     "status": "completed"
    },
    "tags": []
   },
   "source": [
    "# Keep Going\n",
    "\n",
    "That's it for lists and tuples! Now you have the baseline knowledge to **[learn about loops](https://www.kaggle.com/colinmorris/loops-and-list-comprehensions)**, which is where lists and tuples get really interesting. "
   ]
  },
  {
   "cell_type": "markdown",
   "id": "cd264978",
   "metadata": {
    "papermill": {
     "duration": 0.005647,
     "end_time": "2023-02-17T14:31:22.678639",
     "exception": false,
     "start_time": "2023-02-17T14:31:22.672992",
     "status": "completed"
    },
    "tags": []
   },
   "source": [
    "---\n",
    "\n",
    "\n",
    "\n",
    "\n",
    "*Have questions or comments? Visit the [course discussion forum](https://www.kaggle.com/learn/python/discussion) to chat with other learners.*"
   ]
  }
 ],
 "metadata": {
  "kernelspec": {
   "display_name": "Python 3",
   "language": "python",
   "name": "python3"
  },
  "language_info": {
   "codemirror_mode": {
    "name": "ipython",
    "version": 3
   },
   "file_extension": ".py",
   "mimetype": "text/x-python",
   "name": "python",
   "nbconvert_exporter": "python",
   "pygments_lexer": "ipython3",
   "version": "3.7.12"
  },
  "papermill": {
   "default_parameters": {},
   "duration": 10.067328,
   "end_time": "2023-02-17T14:31:23.408320",
   "environment_variables": {},
   "exception": null,
   "input_path": "__notebook__.ipynb",
   "output_path": "__notebook__.ipynb",
   "parameters": {},
   "start_time": "2023-02-17T14:31:13.340992",
   "version": "2.3.4"
  }
 },
 "nbformat": 4,
 "nbformat_minor": 5
}
