{
 "cells": [
  {
   "cell_type": "markdown",
   "id": "e123cf51",
   "metadata": {
    "papermill": {
     "duration": 0.010632,
     "end_time": "2023-02-17T12:18:33.521530",
     "exception": false,
     "start_time": "2023-02-17T12:18:33.510898",
     "status": "completed"
    },
    "tags": []
   },
   "source": [
    "**This notebook is an exercise in the [Python](https://www.kaggle.com/learn/python) course.  You can reference the tutorial at [this link](https://www.kaggle.com/colinmorris/functions-and-getting-help).**\n",
    "\n",
    "---\n"
   ]
  },
  {
   "cell_type": "markdown",
   "id": "70466178",
   "metadata": {
    "papermill": {
     "duration": 0.004923,
     "end_time": "2023-02-17T12:18:33.532213",
     "exception": false,
     "start_time": "2023-02-17T12:18:33.527290",
     "status": "completed"
    },
    "tags": []
   },
   "source": [
    "Functions are powerful. Try writing some yourself.\n",
    "\n",
    "As before, don't forget to run the setup code below before jumping into question 1."
   ]
  },
  {
   "cell_type": "code",
   "execution_count": 1,
   "id": "2c61b060",
   "metadata": {
    "_kg_hide-input": true,
    "_kg_hide-output": true,
    "execution": {
     "iopub.execute_input": "2023-02-17T12:18:33.544606Z",
     "iopub.status.busy": "2023-02-17T12:18:33.544086Z",
     "iopub.status.idle": "2023-02-17T12:18:33.597924Z",
     "shell.execute_reply": "2023-02-17T12:18:33.596576Z"
    },
    "papermill": {
     "duration": 0.063881,
     "end_time": "2023-02-17T12:18:33.601114",
     "exception": false,
     "start_time": "2023-02-17T12:18:33.537233",
     "status": "completed"
    },
    "tags": []
   },
   "outputs": [
    {
     "name": "stdout",
     "output_type": "stream",
     "text": [
      "Setup complete.\n"
     ]
    }
   ],
   "source": [
    "# SETUP. You don't need to worry for now about what this code does or how it works.\n",
    "from learntools.core import binder; binder.bind(globals())\n",
    "from learntools.python.ex2 import *\n",
    "print('Setup complete.')"
   ]
  },
  {
   "cell_type": "markdown",
   "id": "2f503158",
   "metadata": {
    "papermill": {
     "duration": 0.004645,
     "end_time": "2023-02-17T12:18:33.610984",
     "exception": false,
     "start_time": "2023-02-17T12:18:33.606339",
     "status": "completed"
    },
    "tags": []
   },
   "source": [
    "# 1.\n",
    "\n",
    "Complete the body of the following function according to its docstring.\n",
    "\n",
    "HINT: Python has a built-in function `round`."
   ]
  },
  {
   "cell_type": "code",
   "execution_count": 2,
   "id": "70a15054",
   "metadata": {
    "execution": {
     "iopub.execute_input": "2023-02-17T12:18:33.623504Z",
     "iopub.status.busy": "2023-02-17T12:18:33.623041Z",
     "iopub.status.idle": "2023-02-17T12:18:33.637702Z",
     "shell.execute_reply": "2023-02-17T12:18:33.636526Z"
    },
    "papermill": {
     "duration": 0.023707,
     "end_time": "2023-02-17T12:18:33.640391",
     "exception": false,
     "start_time": "2023-02-17T12:18:33.616684",
     "status": "completed"
    },
    "tags": []
   },
   "outputs": [
    {
     "data": {
      "application/javascript": [
       "parent.postMessage({\"jupyterEvent\": \"custom.exercise_interaction\", \"data\": {\"outcomeType\": 1, \"valueTowardsCompletion\": 0.16666666666666666, \"interactionType\": 1, \"questionType\": 2, \"questionId\": \"1_RoundFunctionProblem\", \"learnToolsVersion\": \"0.3.4\", \"failureMessage\": \"\", \"exceptionClass\": \"\", \"trace\": \"\"}}, \"*\")"
      ],
      "text/plain": [
       "<IPython.core.display.Javascript object>"
      ]
     },
     "metadata": {},
     "output_type": "display_data"
    },
    {
     "data": {
      "text/markdown": [
       "<span style=\"color:#33cc33\">Correct</span>"
      ],
      "text/plain": [
       "Correct"
      ]
     },
     "metadata": {},
     "output_type": "display_data"
    }
   ],
   "source": [
    "def round_to_two_places(num):\n",
    "    \"\"\"Return the given number rounded to two decimal places. \n",
    "    \n",
    "    >>> round_to_two_places(3.14159)\n",
    "    3.14\n",
    "    \"\"\"\n",
    "    return round(num, 2)\n",
    "    # Replace this body with your own code.\n",
    "    # (\"pass\" is a keyword that does literally nothing. We used it as a placeholder\n",
    "    # because after we begin a code block, Python requires at least one line of code)\n",
    "    pass\n",
    "\n",
    "\n",
    "# Check your answer\n",
    "q1.check()"
   ]
  },
  {
   "cell_type": "code",
   "execution_count": 3,
   "id": "cfda4ef8",
   "metadata": {
    "execution": {
     "iopub.execute_input": "2023-02-17T12:18:33.653648Z",
     "iopub.status.busy": "2023-02-17T12:18:33.653226Z",
     "iopub.status.idle": "2023-02-17T12:18:33.658088Z",
     "shell.execute_reply": "2023-02-17T12:18:33.656840Z"
    },
    "papermill": {
     "duration": 0.013989,
     "end_time": "2023-02-17T12:18:33.660412",
     "exception": false,
     "start_time": "2023-02-17T12:18:33.646423",
     "status": "completed"
    },
    "tags": []
   },
   "outputs": [],
   "source": [
    "# Uncomment the following for a hint\n",
    "#q1.hint()\n",
    "# Or uncomment the following to peek at the solution\n",
    "#q1.solution()"
   ]
  },
  {
   "cell_type": "markdown",
   "id": "2fe9b9d5",
   "metadata": {
    "papermill": {
     "duration": 0.004862,
     "end_time": "2023-02-17T12:18:33.670453",
     "exception": false,
     "start_time": "2023-02-17T12:18:33.665591",
     "status": "completed"
    },
    "tags": []
   },
   "source": [
    "# 2.\n",
    "The help for `round` says that `ndigits` (the second argument) may be negative.\n",
    "What do you think will happen when it is? Try some examples in the following cell."
   ]
  },
  {
   "cell_type": "code",
   "execution_count": 4,
   "id": "e5560ff6",
   "metadata": {
    "execution": {
     "iopub.execute_input": "2023-02-17T12:18:33.683285Z",
     "iopub.status.busy": "2023-02-17T12:18:33.682239Z",
     "iopub.status.idle": "2023-02-17T12:18:33.690835Z",
     "shell.execute_reply": "2023-02-17T12:18:33.689491Z"
    },
    "papermill": {
     "duration": 0.017491,
     "end_time": "2023-02-17T12:18:33.693224",
     "exception": false,
     "start_time": "2023-02-17T12:18:33.675733",
     "status": "completed"
    },
    "tags": []
   },
   "outputs": [
    {
     "data": {
      "text/plain": [
       "0.0"
      ]
     },
     "execution_count": 4,
     "metadata": {},
     "output_type": "execute_result"
    }
   ],
   "source": [
    "# Put your test code here\n",
    "round(12.456, -2)"
   ]
  },
  {
   "cell_type": "markdown",
   "id": "a7c592d3",
   "metadata": {
    "papermill": {
     "duration": 0.005052,
     "end_time": "2023-02-17T12:18:33.703786",
     "exception": false,
     "start_time": "2023-02-17T12:18:33.698734",
     "status": "completed"
    },
    "tags": []
   },
   "source": [
    "Can you think of a case where this would be useful?  Once you're ready, run the code cell below to see the answer and to receive credit for completing the problem."
   ]
  },
  {
   "cell_type": "code",
   "execution_count": 5,
   "id": "0a9ad122",
   "metadata": {
    "execution": {
     "iopub.execute_input": "2023-02-17T12:18:33.718113Z",
     "iopub.status.busy": "2023-02-17T12:18:33.717396Z",
     "iopub.status.idle": "2023-02-17T12:18:33.726631Z",
     "shell.execute_reply": "2023-02-17T12:18:33.725350Z"
    },
    "papermill": {
     "duration": 0.019352,
     "end_time": "2023-02-17T12:18:33.729482",
     "exception": false,
     "start_time": "2023-02-17T12:18:33.710130",
     "status": "completed"
    },
    "tags": []
   },
   "outputs": [
    {
     "data": {
      "application/javascript": [
       "parent.postMessage({\"jupyterEvent\": \"custom.exercise_interaction\", \"data\": {\"interactionType\": 3, \"questionType\": 4, \"questionId\": \"2_RoundNdigitsProblem\", \"learnToolsVersion\": \"0.3.4\", \"valueTowardsCompletion\": 0.0, \"failureMessage\": \"\", \"exceptionClass\": \"\", \"trace\": \"\", \"outcomeType\": 4}}, \"*\")"
      ],
      "text/plain": [
       "<IPython.core.display.Javascript object>"
      ]
     },
     "metadata": {},
     "output_type": "display_data"
    },
    {
     "data": {
      "text/markdown": [
       "<span style=\"color:#33cc99\">Solution:</span> As you've seen, `ndigits=-1` rounds to the nearest 10, `ndigits=-2` rounds to the nearest 100 and so on. Where might this be useful? Suppose we're dealing with large numbers:\n",
       "\n",
       "> The area of Finland is 338,424 km²  \n",
       "> The area of Greenland is 2,166,086 km²\n",
       "\n",
       "We probably don't care whether it's really 338,424, or 338,425, or 338,177. All those digits of accuracy are just distracting. We can chop them off by calling `round()` with `ndigits=-3`:\n",
       "\n",
       "> The area of Finland is 338,000 km²  \n",
       "> The area of Greenland is 2,166,000 km²\n",
       "\n",
       "(We'll talk about how we would get the commas later when we talk about string formatting :))\n"
      ],
      "text/plain": [
       "Solution: As you've seen, `ndigits=-1` rounds to the nearest 10, `ndigits=-2` rounds to the nearest 100 and so on. Where might this be useful? Suppose we're dealing with large numbers:\n",
       "\n",
       "> The area of Finland is 338,424 km²  \n",
       "> The area of Greenland is 2,166,086 km²\n",
       "\n",
       "We probably don't care whether it's really 338,424, or 338,425, or 338,177. All those digits of accuracy are just distracting. We can chop them off by calling `round()` with `ndigits=-3`:\n",
       "\n",
       "> The area of Finland is 338,000 km²  \n",
       "> The area of Greenland is 2,166,000 km²\n",
       "\n",
       "(We'll talk about how we would get the commas later when we talk about string formatting :))"
      ]
     },
     "metadata": {},
     "output_type": "display_data"
    }
   ],
   "source": [
    "# Check your answer (Run this code cell to receive credit!)\n",
    "q2.solution()"
   ]
  },
  {
   "cell_type": "markdown",
   "id": "4efc16ef",
   "metadata": {
    "papermill": {
     "duration": 0.005513,
     "end_time": "2023-02-17T12:18:33.742137",
     "exception": false,
     "start_time": "2023-02-17T12:18:33.736624",
     "status": "completed"
    },
    "tags": []
   },
   "source": [
    "# 3.\n",
    "\n",
    "In the previous exercise, the candy-sharing friends Alice, Bob and Carol tried to split candies evenly. For the sake of their friendship, any candies left over would be smashed. For example, if they collectively bring home 91 candies, they'll take 30 each and smash 1.\n",
    "\n",
    "Below is a simple function that will calculate the number of candies to smash for *any* number of total candies.\n",
    "\n",
    "Modify it so that it optionally takes a second argument representing the number of friends the candies are being split between. If no second argument is provided, it should assume 3 friends, as before.\n",
    "\n",
    "Update the docstring to reflect this new behaviour."
   ]
  },
  {
   "cell_type": "code",
   "execution_count": 6,
   "id": "f671b01a",
   "metadata": {
    "execution": {
     "iopub.execute_input": "2023-02-17T12:18:33.756309Z",
     "iopub.status.busy": "2023-02-17T12:18:33.755194Z",
     "iopub.status.idle": "2023-02-17T12:18:33.765855Z",
     "shell.execute_reply": "2023-02-17T12:18:33.764649Z"
    },
    "papermill": {
     "duration": 0.020203,
     "end_time": "2023-02-17T12:18:33.768219",
     "exception": false,
     "start_time": "2023-02-17T12:18:33.748016",
     "status": "completed"
    },
    "tags": []
   },
   "outputs": [
    {
     "data": {
      "application/javascript": [
       "parent.postMessage({\"jupyterEvent\": \"custom.exercise_interaction\", \"data\": {\"outcomeType\": 1, \"valueTowardsCompletion\": 0.16666666666666666, \"interactionType\": 1, \"questionType\": 2, \"questionId\": \"3_CandySmashingFunctionProblem\", \"learnToolsVersion\": \"0.3.4\", \"failureMessage\": \"\", \"exceptionClass\": \"\", \"trace\": \"\"}}, \"*\")"
      ],
      "text/plain": [
       "<IPython.core.display.Javascript object>"
      ]
     },
     "metadata": {},
     "output_type": "display_data"
    },
    {
     "data": {
      "text/markdown": [
       "<span style=\"color:#33cc33\">Correct</span>"
      ],
      "text/plain": [
       "Correct"
      ]
     },
     "metadata": {},
     "output_type": "display_data"
    }
   ],
   "source": [
    "def to_smash(total_candies, mod = 3):\n",
    "    \"\"\"Return the number of leftover candies that must be smashed after distributing\n",
    "    the given number of candies evenly between N friends but if no second argument is given then it assumes N = 3.\n",
    "    \n",
    "    >>> to_smash(91)\n",
    "    1\n",
    "    \"\"\"\n",
    "    return total_candies % mod\n",
    "\n",
    "# Check your answer\n",
    "q3.check()"
   ]
  },
  {
   "cell_type": "code",
   "execution_count": 7,
   "id": "ce13d3e6",
   "metadata": {
    "execution": {
     "iopub.execute_input": "2023-02-17T12:18:33.782447Z",
     "iopub.status.busy": "2023-02-17T12:18:33.781781Z",
     "iopub.status.idle": "2023-02-17T12:18:33.787604Z",
     "shell.execute_reply": "2023-02-17T12:18:33.786048Z"
    },
    "papermill": {
     "duration": 0.015863,
     "end_time": "2023-02-17T12:18:33.790211",
     "exception": false,
     "start_time": "2023-02-17T12:18:33.774348",
     "status": "completed"
    },
    "tags": []
   },
   "outputs": [],
   "source": [
    "#q3.hint()"
   ]
  },
  {
   "cell_type": "code",
   "execution_count": 8,
   "id": "a561888a",
   "metadata": {
    "execution": {
     "iopub.execute_input": "2023-02-17T12:18:33.804634Z",
     "iopub.status.busy": "2023-02-17T12:18:33.803906Z",
     "iopub.status.idle": "2023-02-17T12:18:33.808121Z",
     "shell.execute_reply": "2023-02-17T12:18:33.807167Z"
    },
    "papermill": {
     "duration": 0.014149,
     "end_time": "2023-02-17T12:18:33.810493",
     "exception": false,
     "start_time": "2023-02-17T12:18:33.796344",
     "status": "completed"
    },
    "tags": []
   },
   "outputs": [],
   "source": [
    "#q3.solution()"
   ]
  },
  {
   "cell_type": "markdown",
   "id": "4bdf519b",
   "metadata": {
    "papermill": {
     "duration": 0.00584,
     "end_time": "2023-02-17T12:18:33.822563",
     "exception": false,
     "start_time": "2023-02-17T12:18:33.816723",
     "status": "completed"
    },
    "tags": []
   },
   "source": [
    "# 4. (Optional)\n",
    "\n",
    "It may not be fun, but reading and understanding error messages will be an important part of your Python career.\n",
    "\n",
    "Each code cell below contains some commented buggy code. For each cell...\n",
    "\n",
    "1. Read the code and predict what you think will happen when it's run.\n",
    "2. Then uncomment the code and run it to see what happens. (**Tip**: In the kernel editor, you can highlight several lines and press `ctrl`+`/` to toggle commenting.)\n",
    "3. Fix the code (so that it accomplishes its intended purpose without throwing an exception)\n",
    "\n",
    "<!-- TODO: should this be autochecked? Delta is probably pretty small. -->"
   ]
  },
  {
   "cell_type": "code",
   "execution_count": 9,
   "id": "24f44ca2",
   "metadata": {
    "execution": {
     "iopub.execute_input": "2023-02-17T12:18:33.837148Z",
     "iopub.status.busy": "2023-02-17T12:18:33.836040Z",
     "iopub.status.idle": "2023-02-17T12:18:33.841872Z",
     "shell.execute_reply": "2023-02-17T12:18:33.840631Z"
    },
    "papermill": {
     "duration": 0.016001,
     "end_time": "2023-02-17T12:18:33.844747",
     "exception": false,
     "start_time": "2023-02-17T12:18:33.828746",
     "status": "completed"
    },
    "tags": []
   },
   "outputs": [],
   "source": [
    "#  ruound_to_two_places(9.9999)"
   ]
  },
  {
   "cell_type": "code",
   "execution_count": 10,
   "id": "62be80b0",
   "metadata": {
    "execution": {
     "iopub.execute_input": "2023-02-17T12:18:33.859035Z",
     "iopub.status.busy": "2023-02-17T12:18:33.858622Z",
     "iopub.status.idle": "2023-02-17T12:18:33.863339Z",
     "shell.execute_reply": "2023-02-17T12:18:33.861836Z"
    },
    "papermill": {
     "duration": 0.015164,
     "end_time": "2023-02-17T12:18:33.866162",
     "exception": false,
     "start_time": "2023-02-17T12:18:33.850998",
     "status": "completed"
    },
    "tags": []
   },
   "outputs": [],
   "source": [
    "# x = -10\n",
    "# y = 5\n",
    "# # Which of the two variables above has the smallest absolute value?\n",
    "# smallest_abs = min(abs(x, y))"
   ]
  },
  {
   "cell_type": "code",
   "execution_count": 11,
   "id": "bd8101e9",
   "metadata": {
    "execution": {
     "iopub.execute_input": "2023-02-17T12:18:33.880815Z",
     "iopub.status.busy": "2023-02-17T12:18:33.880381Z",
     "iopub.status.idle": "2023-02-17T12:18:33.884976Z",
     "shell.execute_reply": "2023-02-17T12:18:33.883729Z"
    },
    "papermill": {
     "duration": 0.015189,
     "end_time": "2023-02-17T12:18:33.887621",
     "exception": false,
     "start_time": "2023-02-17T12:18:33.872432",
     "status": "completed"
    },
    "tags": []
   },
   "outputs": [],
   "source": [
    "# def f(x):\n",
    "#     y = abs(x)\n",
    "# return y\n",
    "\n",
    "# print(f(5))"
   ]
  },
  {
   "cell_type": "markdown",
   "id": "516a76f2",
   "metadata": {
    "papermill": {
     "duration": 0.005785,
     "end_time": "2023-02-17T12:18:33.899793",
     "exception": false,
     "start_time": "2023-02-17T12:18:33.894008",
     "status": "completed"
    },
    "tags": []
   },
   "source": [
    "# Keep Going\n",
    "\n",
    "Nice job with the code. Next up, you'll learn about *conditionals*, which you'll need to **[write interesting programs](https://www.kaggle.com/colinmorris/booleans-and-conditionals)**. "
   ]
  },
  {
   "cell_type": "markdown",
   "id": "d341a0e6",
   "metadata": {
    "papermill": {
     "duration": 0.005687,
     "end_time": "2023-02-17T12:18:33.911540",
     "exception": false,
     "start_time": "2023-02-17T12:18:33.905853",
     "status": "completed"
    },
    "tags": []
   },
   "source": [
    "---\n",
    "\n",
    "\n",
    "\n",
    "\n",
    "*Have questions or comments? Visit the [course discussion forum](https://www.kaggle.com/learn/python/discussion) to chat with other learners.*"
   ]
  }
 ],
 "metadata": {
  "kernelspec": {
   "display_name": "Python 3",
   "language": "python",
   "name": "python3"
  },
  "language_info": {
   "codemirror_mode": {
    "name": "ipython",
    "version": 3
   },
   "file_extension": ".py",
   "mimetype": "text/x-python",
   "name": "python",
   "nbconvert_exporter": "python",
   "pygments_lexer": "ipython3",
   "version": "3.7.12"
  },
  "papermill": {
   "default_parameters": {},
   "duration": 10.249741,
   "end_time": "2023-02-17T12:18:34.640555",
   "environment_variables": {},
   "exception": null,
   "input_path": "__notebook__.ipynb",
   "output_path": "__notebook__.ipynb",
   "parameters": {},
   "start_time": "2023-02-17T12:18:24.390814",
   "version": "2.3.4"
  }
 },
 "nbformat": 4,
 "nbformat_minor": 5
}
