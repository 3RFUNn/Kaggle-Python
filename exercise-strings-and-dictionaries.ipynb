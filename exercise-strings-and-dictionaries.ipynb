{
 "cells": [
  {
   "cell_type": "markdown",
   "id": "9f87e242",
   "metadata": {
    "papermill": {
     "duration": 0.007175,
     "end_time": "2023-02-17T16:00:40.410718",
     "exception": false,
     "start_time": "2023-02-17T16:00:40.403543",
     "status": "completed"
    },
    "tags": []
   },
   "source": [
    "**This notebook is an exercise in the [Python](https://www.kaggle.com/learn/python) course.  You can reference the tutorial at [this link](https://www.kaggle.com/colinmorris/strings-and-dictionaries).**\n",
    "\n",
    "---\n"
   ]
  },
  {
   "cell_type": "markdown",
   "id": "d974cd03",
   "metadata": {
    "papermill": {
     "duration": 0.005264,
     "end_time": "2023-02-17T16:00:40.422032",
     "exception": false,
     "start_time": "2023-02-17T16:00:40.416768",
     "status": "completed"
    },
    "tags": []
   },
   "source": [
    "You are almost done with the course. Nice job!\n",
    "\n",
    "We have a couple more interesting problems for you before you go. \n",
    "\n",
    "As always, run the setup code below before working on the questions."
   ]
  },
  {
   "cell_type": "code",
   "execution_count": 1,
   "id": "8dbd7373",
   "metadata": {
    "execution": {
     "iopub.execute_input": "2023-02-17T16:00:40.435986Z",
     "iopub.status.busy": "2023-02-17T16:00:40.435329Z",
     "iopub.status.idle": "2023-02-17T16:00:40.493491Z",
     "shell.execute_reply": "2023-02-17T16:00:40.492196Z"
    },
    "papermill": {
     "duration": 0.068653,
     "end_time": "2023-02-17T16:00:40.496278",
     "exception": false,
     "start_time": "2023-02-17T16:00:40.427625",
     "status": "completed"
    },
    "tags": []
   },
   "outputs": [
    {
     "name": "stdout",
     "output_type": "stream",
     "text": [
      "Setup complete.\n"
     ]
    }
   ],
   "source": [
    "from learntools.core import binder; binder.bind(globals())\n",
    "from learntools.python.ex6 import *\n",
    "print('Setup complete.')"
   ]
  },
  {
   "cell_type": "markdown",
   "id": "70ba5118",
   "metadata": {
    "papermill": {
     "duration": 0.005207,
     "end_time": "2023-02-17T16:00:40.506988",
     "exception": false,
     "start_time": "2023-02-17T16:00:40.501781",
     "status": "completed"
    },
    "tags": []
   },
   "source": [
    "Let's start with a string lightning round to warm up. What are the lengths of the strings below?\n",
    "\n",
    "For each of the five strings below, predict what `len()` would return when passed that string. Use the variable `length` to record your answer, then run the cell to check whether you were right.  \n",
    "\n",
    "# 0a."
   ]
  },
  {
   "cell_type": "code",
   "execution_count": 2,
   "id": "7b07bb62",
   "metadata": {
    "execution": {
     "iopub.execute_input": "2023-02-17T16:00:40.520308Z",
     "iopub.status.busy": "2023-02-17T16:00:40.519077Z",
     "iopub.status.idle": "2023-02-17T16:00:40.530953Z",
     "shell.execute_reply": "2023-02-17T16:00:40.529518Z"
    },
    "papermill": {
     "duration": 0.020742,
     "end_time": "2023-02-17T16:00:40.533203",
     "exception": false,
     "start_time": "2023-02-17T16:00:40.512461",
     "status": "completed"
    },
    "tags": []
   },
   "outputs": [
    {
     "data": {
      "application/javascript": [
       "parent.postMessage({\"jupyterEvent\": \"custom.exercise_interaction\", \"data\": {\"outcomeType\": 1, \"valueTowardsCompletion\": 0.3333333333333333, \"interactionType\": 1, \"questionType\": 1, \"questionId\": \"0.1_ZA\", \"learnToolsVersion\": \"0.3.4\", \"failureMessage\": \"\", \"exceptionClass\": \"\", \"trace\": \"\"}}, \"*\")"
      ],
      "text/plain": [
       "<IPython.core.display.Javascript object>"
      ]
     },
     "metadata": {},
     "output_type": "display_data"
    },
    {
     "data": {
      "text/markdown": [
       "<span style=\"color:#33cc33\">Correct:</span> \n",
       "\n",
       "The empty string has length zero. Note that the empty string is also the only string that Python considers as False when converting to boolean."
      ],
      "text/plain": [
       "Correct: \n",
       "\n",
       "The empty string has length zero. Note that the empty string is also the only string that Python considers as False when converting to boolean."
      ]
     },
     "metadata": {},
     "output_type": "display_data"
    }
   ],
   "source": [
    "a = \"\"\n",
    "length = 0\n",
    "q0.a.check()"
   ]
  },
  {
   "cell_type": "markdown",
   "id": "6003c8e3",
   "metadata": {
    "papermill": {
     "duration": 0.005639,
     "end_time": "2023-02-17T16:00:40.544874",
     "exception": false,
     "start_time": "2023-02-17T16:00:40.539235",
     "status": "completed"
    },
    "tags": []
   },
   "source": [
    "# 0b."
   ]
  },
  {
   "cell_type": "code",
   "execution_count": 3,
   "id": "4acf6d8a",
   "metadata": {
    "execution": {
     "iopub.execute_input": "2023-02-17T16:00:40.558122Z",
     "iopub.status.busy": "2023-02-17T16:00:40.557679Z",
     "iopub.status.idle": "2023-02-17T16:00:40.565446Z",
     "shell.execute_reply": "2023-02-17T16:00:40.564418Z"
    },
    "papermill": {
     "duration": 0.017067,
     "end_time": "2023-02-17T16:00:40.567624",
     "exception": false,
     "start_time": "2023-02-17T16:00:40.550557",
     "status": "completed"
    },
    "tags": []
   },
   "outputs": [
    {
     "data": {
      "application/javascript": [
       "parent.postMessage({\"jupyterEvent\": \"custom.exercise_interaction\", \"data\": {\"outcomeType\": 1, \"valueTowardsCompletion\": 0.3333333333333333, \"interactionType\": 1, \"questionType\": 1, \"questionId\": \"0.2_ZB\", \"learnToolsVersion\": \"0.3.4\", \"failureMessage\": \"\", \"exceptionClass\": \"\", \"trace\": \"\"}}, \"*\")"
      ],
      "text/plain": [
       "<IPython.core.display.Javascript object>"
      ]
     },
     "metadata": {},
     "output_type": "display_data"
    },
    {
     "data": {
      "text/markdown": [
       "<span style=\"color:#33cc33\">Correct:</span> \n",
       "\n",
       "Keep in mind Python includes spaces (and punctuation) when counting string length."
      ],
      "text/plain": [
       "Correct: \n",
       "\n",
       "Keep in mind Python includes spaces (and punctuation) when counting string length."
      ]
     },
     "metadata": {},
     "output_type": "display_data"
    }
   ],
   "source": [
    "b = \"it's ok\"\n",
    "length = 7\n",
    "q0.b.check()"
   ]
  },
  {
   "cell_type": "markdown",
   "id": "cfdb78d9",
   "metadata": {
    "papermill": {
     "duration": 0.006127,
     "end_time": "2023-02-17T16:00:40.579887",
     "exception": false,
     "start_time": "2023-02-17T16:00:40.573760",
     "status": "completed"
    },
    "tags": []
   },
   "source": [
    "# 0c."
   ]
  },
  {
   "cell_type": "code",
   "execution_count": 4,
   "id": "2dfc4ed8",
   "metadata": {
    "execution": {
     "iopub.execute_input": "2023-02-17T16:00:40.593853Z",
     "iopub.status.busy": "2023-02-17T16:00:40.593443Z",
     "iopub.status.idle": "2023-02-17T16:00:40.602272Z",
     "shell.execute_reply": "2023-02-17T16:00:40.601161Z"
    },
    "papermill": {
     "duration": 0.018594,
     "end_time": "2023-02-17T16:00:40.604630",
     "exception": false,
     "start_time": "2023-02-17T16:00:40.586036",
     "status": "completed"
    },
    "tags": []
   },
   "outputs": [
    {
     "data": {
      "application/javascript": [
       "parent.postMessage({\"jupyterEvent\": \"custom.exercise_interaction\", \"data\": {\"outcomeType\": 1, \"valueTowardsCompletion\": 0.3333333333333333, \"interactionType\": 1, \"questionType\": 1, \"questionId\": \"0.3_ZC\", \"learnToolsVersion\": \"0.3.4\", \"failureMessage\": \"\", \"exceptionClass\": \"\", \"trace\": \"\"}}, \"*\")"
      ],
      "text/plain": [
       "<IPython.core.display.Javascript object>"
      ]
     },
     "metadata": {},
     "output_type": "display_data"
    },
    {
     "data": {
      "text/markdown": [
       "<span style=\"color:#33cc33\">Correct:</span> \n",
       "\n",
       "Even though we use different syntax to create it, the string `c` is identical to `b`. In particular, note that the backslash is not part of the string, so it doesn't contribute to its length."
      ],
      "text/plain": [
       "Correct: \n",
       "\n",
       "Even though we use different syntax to create it, the string `c` is identical to `b`. In particular, note that the backslash is not part of the string, so it doesn't contribute to its length."
      ]
     },
     "metadata": {},
     "output_type": "display_data"
    }
   ],
   "source": [
    "c = 'it\\'s ok'\n",
    "length = 7\n",
    "q0.c.check()"
   ]
  },
  {
   "cell_type": "markdown",
   "id": "07c4963a",
   "metadata": {
    "papermill": {
     "duration": 0.006016,
     "end_time": "2023-02-17T16:00:40.616916",
     "exception": false,
     "start_time": "2023-02-17T16:00:40.610900",
     "status": "completed"
    },
    "tags": []
   },
   "source": [
    "# 0d."
   ]
  },
  {
   "cell_type": "code",
   "execution_count": 5,
   "id": "9a477fce",
   "metadata": {
    "execution": {
     "iopub.execute_input": "2023-02-17T16:00:40.631257Z",
     "iopub.status.busy": "2023-02-17T16:00:40.630423Z",
     "iopub.status.idle": "2023-02-17T16:00:40.639695Z",
     "shell.execute_reply": "2023-02-17T16:00:40.638477Z"
    },
    "papermill": {
     "duration": 0.018888,
     "end_time": "2023-02-17T16:00:40.641880",
     "exception": false,
     "start_time": "2023-02-17T16:00:40.622992",
     "status": "completed"
    },
    "tags": []
   },
   "outputs": [
    {
     "data": {
      "application/javascript": [
       "parent.postMessage({\"jupyterEvent\": \"custom.exercise_interaction\", \"data\": {\"outcomeType\": 1, \"valueTowardsCompletion\": 0.3333333333333333, \"interactionType\": 1, \"questionType\": 1, \"questionId\": \"0.4_ZD\", \"learnToolsVersion\": \"0.3.4\", \"failureMessage\": \"\", \"exceptionClass\": \"\", \"trace\": \"\"}}, \"*\")"
      ],
      "text/plain": [
       "<IPython.core.display.Javascript object>"
      ]
     },
     "metadata": {},
     "output_type": "display_data"
    },
    {
     "data": {
      "text/markdown": [
       "<span style=\"color:#33cc33\">Correct:</span> \n",
       "\n",
       "The fact that this string was created using triple-quote syntax doesn't make any difference in terms of its content or length. This string is exactly the same as `'hey'`."
      ],
      "text/plain": [
       "Correct: \n",
       "\n",
       "The fact that this string was created using triple-quote syntax doesn't make any difference in terms of its content or length. This string is exactly the same as `'hey'`."
      ]
     },
     "metadata": {},
     "output_type": "display_data"
    }
   ],
   "source": [
    "d = \"\"\"hey\"\"\"\n",
    "length = 3\n",
    "q0.d.check()"
   ]
  },
  {
   "cell_type": "markdown",
   "id": "c413fe1d",
   "metadata": {
    "papermill": {
     "duration": 0.006113,
     "end_time": "2023-02-17T16:00:40.654299",
     "exception": false,
     "start_time": "2023-02-17T16:00:40.648186",
     "status": "completed"
    },
    "tags": []
   },
   "source": [
    "# 0e."
   ]
  },
  {
   "cell_type": "code",
   "execution_count": 6,
   "id": "ffde07ef",
   "metadata": {
    "execution": {
     "iopub.execute_input": "2023-02-17T16:00:40.669194Z",
     "iopub.status.busy": "2023-02-17T16:00:40.668744Z",
     "iopub.status.idle": "2023-02-17T16:00:40.677762Z",
     "shell.execute_reply": "2023-02-17T16:00:40.676719Z"
    },
    "papermill": {
     "duration": 0.019333,
     "end_time": "2023-02-17T16:00:40.679880",
     "exception": false,
     "start_time": "2023-02-17T16:00:40.660547",
     "status": "completed"
    },
    "tags": []
   },
   "outputs": [
    {
     "data": {
      "application/javascript": [
       "parent.postMessage({\"jupyterEvent\": \"custom.exercise_interaction\", \"data\": {\"outcomeType\": 1, \"valueTowardsCompletion\": 0.3333333333333333, \"interactionType\": 1, \"questionType\": 1, \"questionId\": \"0.5_ZE\", \"learnToolsVersion\": \"0.3.4\", \"failureMessage\": \"\", \"exceptionClass\": \"\", \"trace\": \"\"}}, \"*\")"
      ],
      "text/plain": [
       "<IPython.core.display.Javascript object>"
      ]
     },
     "metadata": {},
     "output_type": "display_data"
    },
    {
     "data": {
      "text/markdown": [
       "<span style=\"color:#33cc33\">Correct:</span> \n",
       "\n",
       "The newline character is just a single character! (Even though we represent it to Python using a combination of two characters.)"
      ],
      "text/plain": [
       "Correct: \n",
       "\n",
       "The newline character is just a single character! (Even though we represent it to Python using a combination of two characters.)"
      ]
     },
     "metadata": {},
     "output_type": "display_data"
    }
   ],
   "source": [
    "e = '\\n'\n",
    "length = 1\n",
    "q0.e.check()"
   ]
  },
  {
   "cell_type": "markdown",
   "id": "6fcd03c0",
   "metadata": {
    "papermill": {
     "duration": 0.006812,
     "end_time": "2023-02-17T16:00:40.693629",
     "exception": false,
     "start_time": "2023-02-17T16:00:40.686817",
     "status": "completed"
    },
    "tags": []
   },
   "source": [
    "# 1.\n",
    "\n",
    "There is a saying that \"Data scientists spend 80% of their time cleaning data, and 20% of their time complaining about cleaning data.\" Let's see if you can write a function to help clean US zip code data. Given a string, it should return whether or not that string represents a valid zip code. For our purposes, a valid zip code is any string consisting of exactly 5 digits.\n",
    "\n",
    "HINT: `str` has a method that will be useful here. Use `help(str)` to review a list of string methods."
   ]
  },
  {
   "cell_type": "code",
   "execution_count": 7,
   "id": "9b6b95bd",
   "metadata": {
    "execution": {
     "iopub.execute_input": "2023-02-17T16:00:40.709383Z",
     "iopub.status.busy": "2023-02-17T16:00:40.708619Z",
     "iopub.status.idle": "2023-02-17T16:00:40.723876Z",
     "shell.execute_reply": "2023-02-17T16:00:40.722788Z"
    },
    "papermill": {
     "duration": 0.025799,
     "end_time": "2023-02-17T16:00:40.726260",
     "exception": false,
     "start_time": "2023-02-17T16:00:40.700461",
     "status": "completed"
    },
    "tags": []
   },
   "outputs": [
    {
     "data": {
      "application/javascript": [
       "parent.postMessage({\"jupyterEvent\": \"custom.exercise_interaction\", \"data\": {\"outcomeType\": 1, \"valueTowardsCompletion\": 0.3333333333333333, \"interactionType\": 1, \"questionType\": 2, \"questionId\": \"1_ZipValidator\", \"learnToolsVersion\": \"0.3.4\", \"failureMessage\": \"\", \"exceptionClass\": \"\", \"trace\": \"\"}}, \"*\")"
      ],
      "text/plain": [
       "<IPython.core.display.Javascript object>"
      ]
     },
     "metadata": {},
     "output_type": "display_data"
    },
    {
     "data": {
      "text/markdown": [
       "<span style=\"color:#33cc33\">Correct</span>"
      ],
      "text/plain": [
       "Correct"
      ]
     },
     "metadata": {},
     "output_type": "display_data"
    }
   ],
   "source": [
    "def is_valid_zip(zip_code):\n",
    "    \"\"\"Returns whether the input string is a valid (5 digit) zip code\n",
    "    \"\"\"\n",
    "    return len(zip_code) == 5 and zip_code.isdigit() \n",
    "    \n",
    "\n",
    "# Check your answer\n",
    "q1.check()"
   ]
  },
  {
   "cell_type": "code",
   "execution_count": 8,
   "id": "41003bec",
   "metadata": {
    "execution": {
     "iopub.execute_input": "2023-02-17T16:00:40.742154Z",
     "iopub.status.busy": "2023-02-17T16:00:40.741720Z",
     "iopub.status.idle": "2023-02-17T16:00:40.745985Z",
     "shell.execute_reply": "2023-02-17T16:00:40.744853Z"
    },
    "papermill": {
     "duration": 0.015133,
     "end_time": "2023-02-17T16:00:40.748277",
     "exception": false,
     "start_time": "2023-02-17T16:00:40.733144",
     "status": "completed"
    },
    "tags": []
   },
   "outputs": [],
   "source": [
    "#q1.hint()\n",
    "#q1.solution()"
   ]
  },
  {
   "cell_type": "markdown",
   "id": "1409bd5b",
   "metadata": {
    "papermill": {
     "duration": 0.006784,
     "end_time": "2023-02-17T16:00:40.762032",
     "exception": false,
     "start_time": "2023-02-17T16:00:40.755248",
     "status": "completed"
    },
    "tags": []
   },
   "source": [
    "# 2.\n",
    "\n",
    "A researcher has gathered thousands of news articles. But she wants to focus her attention on articles including a specific word. Complete the function below to help her filter her list of articles.\n",
    "\n",
    "Your function should meet the following criteria:\n",
    "\n",
    "- Do not include documents where the keyword string shows up only as a part of a larger word. For example, if she were looking for the keyword “closed”, you would not include the string “enclosed.” \n",
    "- She does not want you to distinguish upper case from lower case letters. So the phrase “Closed the case.” would be included when the keyword is “closed”\n",
    "- Do not let periods or commas affect what is matched. “It is closed.” would be included when the keyword is “closed”. But you can assume there are no other types of punctuation."
   ]
  },
  {
   "cell_type": "code",
   "execution_count": 9,
   "id": "fa8ea434",
   "metadata": {
    "execution": {
     "iopub.execute_input": "2023-02-17T16:00:40.778045Z",
     "iopub.status.busy": "2023-02-17T16:00:40.777340Z",
     "iopub.status.idle": "2023-02-17T16:00:40.787690Z",
     "shell.execute_reply": "2023-02-17T16:00:40.786422Z"
    },
    "papermill": {
     "duration": 0.021205,
     "end_time": "2023-02-17T16:00:40.790134",
     "exception": false,
     "start_time": "2023-02-17T16:00:40.768929",
     "status": "completed"
    },
    "tags": []
   },
   "outputs": [
    {
     "data": {
      "application/javascript": [
       "parent.postMessage({\"jupyterEvent\": \"custom.exercise_interaction\", \"data\": {\"outcomeType\": 1, \"valueTowardsCompletion\": 0.3333333333333333, \"interactionType\": 1, \"questionType\": 2, \"questionId\": \"2_WordSearch\", \"learnToolsVersion\": \"0.3.4\", \"failureMessage\": \"\", \"exceptionClass\": \"\", \"trace\": \"\"}}, \"*\")"
      ],
      "text/plain": [
       "<IPython.core.display.Javascript object>"
      ]
     },
     "metadata": {},
     "output_type": "display_data"
    },
    {
     "data": {
      "text/markdown": [
       "<span style=\"color:#33cc33\">Correct</span>"
      ],
      "text/plain": [
       "Correct"
      ]
     },
     "metadata": {},
     "output_type": "display_data"
    }
   ],
   "source": [
    "def word_search(doc_list, keyword):\n",
    "    \"\"\"\n",
    "    Takes a list of documents (each document is a string) and a keyword. \n",
    "    Returns list of the index values into the original list for all documents \n",
    "    containing the keyword.\n",
    "\n",
    "    Example:\n",
    "    doc_list = [\"The Learn Python Challenge Casino.\", \"They bought a car\", \"Casinoville\"]\n",
    "    >>> word_search(doc_list, 'casino')\n",
    "    >>> [0]\n",
    "    \"\"\"\n",
    "    indices = [] \n",
    "    \n",
    "    for i, doc in enumerate(doc_list):\n",
    "        tokens = doc.split()\n",
    "        normalized = [token.rstrip('.,').lower() for token in tokens]\n",
    "        if keyword.lower() in normalized:\n",
    "            indices.append(i)\n",
    "    return indices\n",
    "\n",
    "# Check your answer\n",
    "q2.check()"
   ]
  },
  {
   "cell_type": "code",
   "execution_count": 10,
   "id": "3e6fb590",
   "metadata": {
    "execution": {
     "iopub.execute_input": "2023-02-17T16:00:40.809542Z",
     "iopub.status.busy": "2023-02-17T16:00:40.808472Z",
     "iopub.status.idle": "2023-02-17T16:00:40.814794Z",
     "shell.execute_reply": "2023-02-17T16:00:40.813046Z"
    },
    "papermill": {
     "duration": 0.020177,
     "end_time": "2023-02-17T16:00:40.817616",
     "exception": false,
     "start_time": "2023-02-17T16:00:40.797439",
     "status": "completed"
    },
    "tags": []
   },
   "outputs": [],
   "source": [
    "#q2.hint()\n",
    "#q2.solution()"
   ]
  },
  {
   "cell_type": "markdown",
   "id": "fcdae193",
   "metadata": {
    "papermill": {
     "duration": 0.010095,
     "end_time": "2023-02-17T16:00:40.836039",
     "exception": false,
     "start_time": "2023-02-17T16:00:40.825944",
     "status": "completed"
    },
    "tags": []
   },
   "source": [
    "# 3.\n",
    "\n",
    "Now the researcher wants to supply multiple keywords to search for. Complete the function below to help her.\n",
    "\n",
    "(You're encouraged to use the `word_search` function you just wrote when implementing this function. Reusing code in this way makes your programs more robust and readable - and it saves typing!)"
   ]
  },
  {
   "cell_type": "code",
   "execution_count": 11,
   "id": "d389bbb4",
   "metadata": {
    "execution": {
     "iopub.execute_input": "2023-02-17T16:00:40.854273Z",
     "iopub.status.busy": "2023-02-17T16:00:40.853768Z",
     "iopub.status.idle": "2023-02-17T16:00:40.868622Z",
     "shell.execute_reply": "2023-02-17T16:00:40.867134Z"
    },
    "papermill": {
     "duration": 0.027318,
     "end_time": "2023-02-17T16:00:40.871629",
     "exception": false,
     "start_time": "2023-02-17T16:00:40.844311",
     "status": "completed"
    },
    "tags": []
   },
   "outputs": [
    {
     "data": {
      "application/javascript": [
       "parent.postMessage({\"jupyterEvent\": \"custom.exercise_interaction\", \"data\": {\"outcomeType\": 1, \"valueTowardsCompletion\": 0.3333333333333333, \"interactionType\": 1, \"questionType\": 2, \"questionId\": \"3_MultiWordSearch\", \"learnToolsVersion\": \"0.3.4\", \"failureMessage\": \"\", \"exceptionClass\": \"\", \"trace\": \"\"}}, \"*\")"
      ],
      "text/plain": [
       "<IPython.core.display.Javascript object>"
      ]
     },
     "metadata": {},
     "output_type": "display_data"
    },
    {
     "data": {
      "text/markdown": [
       "<span style=\"color:#33cc33\">Correct</span>"
      ],
      "text/plain": [
       "Correct"
      ]
     },
     "metadata": {},
     "output_type": "display_data"
    }
   ],
   "source": [
    "def multi_word_search(doc_list, keywords):\n",
    "    \"\"\"\n",
    "    Takes list of documents (each document is a string) and a list of keywords.  \n",
    "    Returns a dictionary where each key is a keyword, and the value is a list of indices\n",
    "    (from doc_list) of the documents containing that keyword\n",
    "\n",
    "    >>> doc_list = [\"The Learn Python Challenge Casino.\", \"They bought a car and a casino\", \"Casinoville\"]\n",
    "    >>> keywords = ['casino', 'they']\n",
    "    >>> multi_word_search(doc_list, keywords)\n",
    "    {'casino': [0, 1], 'they': [1]}\n",
    "    \"\"\"\n",
    "    keyword_to_indices = {}\n",
    "    for keyword in keywords:\n",
    "        keyword_to_indices[keyword] = word_search(doc_list, keyword)\n",
    "    return keyword_to_indices\n",
    "\n",
    "# Check your answer\n",
    "q3.check()"
   ]
  },
  {
   "cell_type": "code",
   "execution_count": 12,
   "id": "119ae378",
   "metadata": {
    "execution": {
     "iopub.execute_input": "2023-02-17T16:00:40.889319Z",
     "iopub.status.busy": "2023-02-17T16:00:40.888890Z",
     "iopub.status.idle": "2023-02-17T16:00:40.899148Z",
     "shell.execute_reply": "2023-02-17T16:00:40.897657Z"
    },
    "papermill": {
     "duration": 0.021928,
     "end_time": "2023-02-17T16:00:40.901478",
     "exception": false,
     "start_time": "2023-02-17T16:00:40.879550",
     "status": "completed"
    },
    "tags": []
   },
   "outputs": [
    {
     "data": {
      "application/javascript": [
       "parent.postMessage({\"jupyterEvent\": \"custom.exercise_interaction\", \"data\": {\"interactionType\": 3, \"questionType\": 2, \"questionId\": \"3_MultiWordSearch\", \"learnToolsVersion\": \"0.3.4\", \"valueTowardsCompletion\": 0.0, \"failureMessage\": \"\", \"exceptionClass\": \"\", \"trace\": \"\", \"outcomeType\": 4}}, \"*\")"
      ],
      "text/plain": [
       "<IPython.core.display.Javascript object>"
      ]
     },
     "metadata": {},
     "output_type": "display_data"
    },
    {
     "data": {
      "text/markdown": [
       "<span style=\"color:#33cc99\">Solution:</span> \n",
       "```python\n",
       "def multi_word_search(documents, keywords):\n",
       "    keyword_to_indices = {}\n",
       "    for keyword in keywords:\n",
       "        keyword_to_indices[keyword] = word_search(documents, keyword)\n",
       "    return keyword_to_indices\n",
       "```"
      ],
      "text/plain": [
       "Solution: \n",
       "```python\n",
       "def multi_word_search(documents, keywords):\n",
       "    keyword_to_indices = {}\n",
       "    for keyword in keywords:\n",
       "        keyword_to_indices[keyword] = word_search(documents, keyword)\n",
       "    return keyword_to_indices\n",
       "```"
      ]
     },
     "metadata": {},
     "output_type": "display_data"
    }
   ],
   "source": [
    "q3.solution()"
   ]
  },
  {
   "cell_type": "markdown",
   "id": "1daf6acf",
   "metadata": {
    "papermill": {
     "duration": 0.007849,
     "end_time": "2023-02-17T16:00:40.917087",
     "exception": false,
     "start_time": "2023-02-17T16:00:40.909238",
     "status": "completed"
    },
    "tags": []
   },
   "source": [
    "# Keep Going\n",
    "\n",
    "You've learned a lot. But even the best programmers rely heavily on \"libraries\" of code from other programmers. You'll learn about that in **[the last lesson](https://www.kaggle.com/colinmorris/working-with-external-libraries)**.\n"
   ]
  },
  {
   "cell_type": "markdown",
   "id": "3e01fd3d",
   "metadata": {
    "papermill": {
     "duration": 0.007443,
     "end_time": "2023-02-17T16:00:40.932297",
     "exception": false,
     "start_time": "2023-02-17T16:00:40.924854",
     "status": "completed"
    },
    "tags": []
   },
   "source": [
    "---\n",
    "\n",
    "\n",
    "\n",
    "\n",
    "*Have questions or comments? Visit the [course discussion forum](https://www.kaggle.com/learn/python/discussion) to chat with other learners.*"
   ]
  }
 ],
 "metadata": {
  "kernelspec": {
   "display_name": "Python 3",
   "language": "python",
   "name": "python3"
  },
  "language_info": {
   "codemirror_mode": {
    "name": "ipython",
    "version": 3
   },
   "file_extension": ".py",
   "mimetype": "text/x-python",
   "name": "python",
   "nbconvert_exporter": "python",
   "pygments_lexer": "ipython3",
   "version": "3.7.12"
  },
  "papermill": {
   "default_parameters": {},
   "duration": 9.524245,
   "end_time": "2023-02-17T16:00:41.561080",
   "environment_variables": {},
   "exception": null,
   "input_path": "__notebook__.ipynb",
   "output_path": "__notebook__.ipynb",
   "parameters": {},
   "start_time": "2023-02-17T16:00:32.036835",
   "version": "2.3.4"
  }
 },
 "nbformat": 4,
 "nbformat_minor": 5
}
