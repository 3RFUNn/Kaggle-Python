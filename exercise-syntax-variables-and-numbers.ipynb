{
 "cells": [
  {
   "cell_type": "markdown",
   "id": "8541db78",
   "metadata": {
    "papermill": {
     "duration": 0.014519,
     "end_time": "2023-02-17T11:10:59.246142",
     "exception": false,
     "start_time": "2023-02-17T11:10:59.231623",
     "status": "completed"
    },
    "tags": []
   },
   "source": [
    "**This notebook is an exercise in the [Python](https://www.kaggle.com/learn/python) course.  You can reference the tutorial at [this link](https://www.kaggle.com/colinmorris/hello-python).**\n",
    "\n",
    "---\n"
   ]
  },
  {
   "cell_type": "markdown",
   "id": "7f3c6c9b",
   "metadata": {
    "papermill": {
     "duration": 0.006836,
     "end_time": "2023-02-17T11:10:59.260579",
     "exception": false,
     "start_time": "2023-02-17T11:10:59.253743",
     "status": "completed"
    },
    "tags": []
   },
   "source": [
    "Welcome to your first set of Python coding problems.  If this is your first time using Kaggle Notebooks, welcome! \n",
    "\n",
    "Notebooks are composed of blocks (called \"cells\") of text and code. Each of these is editable, though you'll mainly be editing the code cells to answer some questions.\n",
    "\n",
    "To get started, try running the code cell below (by pressing the ► button, or clicking on the cell and pressing ctrl+enter on your keyboard)."
   ]
  },
  {
   "cell_type": "code",
   "execution_count": null,
   "id": "d115cb11",
   "metadata": {
    "papermill": {
     "duration": 0.007191,
     "end_time": "2023-02-17T11:10:59.275390",
     "exception": false,
     "start_time": "2023-02-17T11:10:59.268199",
     "status": "completed"
    },
    "tags": []
   },
   "outputs": [],
   "source": []
  },
  {
   "cell_type": "code",
   "execution_count": 1,
   "id": "5e98bbdc",
   "metadata": {
    "execution": {
     "iopub.execute_input": "2023-02-17T11:10:59.291974Z",
     "iopub.status.busy": "2023-02-17T11:10:59.291359Z",
     "iopub.status.idle": "2023-02-17T11:10:59.305533Z",
     "shell.execute_reply": "2023-02-17T11:10:59.304460Z"
    },
    "papermill": {
     "duration": 0.025881,
     "end_time": "2023-02-17T11:10:59.308505",
     "exception": false,
     "start_time": "2023-02-17T11:10:59.282624",
     "status": "completed"
    },
    "tags": []
   },
   "outputs": [
    {
     "name": "stdout",
     "output_type": "stream",
     "text": [
      "You've successfully run some Python code\n",
      "Congratulations!\n",
      "Hello, world!\n"
     ]
    }
   ],
   "source": [
    "print(\"You've successfully run some Python code\")\n",
    "print(\"Congratulations!\")\n",
    "print(\"Hello, world!\")"
   ]
  },
  {
   "cell_type": "code",
   "execution_count": null,
   "id": "68f9553c",
   "metadata": {
    "papermill": {
     "duration": 0.006877,
     "end_time": "2023-02-17T11:10:59.323716",
     "exception": false,
     "start_time": "2023-02-17T11:10:59.316839",
     "status": "completed"
    },
    "tags": []
   },
   "outputs": [],
   "source": []
  },
  {
   "cell_type": "markdown",
   "id": "b465d658",
   "metadata": {
    "papermill": {
     "duration": 0.006839,
     "end_time": "2023-02-17T11:10:59.337727",
     "exception": false,
     "start_time": "2023-02-17T11:10:59.330888",
     "status": "completed"
    },
    "tags": []
   },
   "source": [
    "Try adding another line of code in the cell above and re-running it. \n",
    "\n",
    "Now let's get a little fancier:  Add a new code cell by clicking on an existing code cell, hitting the escape key, and then hitting the `a` or `b` key.  The `a` key will add a cell above the current cell, and `b` adds a cell below.\n",
    "\n",
    "Great! Now you know how to use Notebooks.\n",
    "\n",
    "Each hands-on exercise starts by setting up our feedback and code checking mechanism. Run the code cell below to do that. Then you'll be ready to move on to question 0."
   ]
  },
  {
   "cell_type": "code",
   "execution_count": 2,
   "id": "9b3f1b77",
   "metadata": {
    "_kg_hide-input": true,
    "_kg_hide-output": true,
    "execution": {
     "iopub.execute_input": "2023-02-17T11:10:59.354720Z",
     "iopub.status.busy": "2023-02-17T11:10:59.353802Z",
     "iopub.status.idle": "2023-02-17T11:10:59.397420Z",
     "shell.execute_reply": "2023-02-17T11:10:59.396167Z"
    },
    "papermill": {
     "duration": 0.058256,
     "end_time": "2023-02-17T11:10:59.403119",
     "exception": false,
     "start_time": "2023-02-17T11:10:59.344863",
     "status": "completed"
    },
    "tags": []
   },
   "outputs": [
    {
     "name": "stdout",
     "output_type": "stream",
     "text": [
      "Setup complete! You're ready to start question 0.\n"
     ]
    }
   ],
   "source": [
    "from learntools.core import binder; binder.bind(globals())\n",
    "from learntools.python.ex1 import *\n",
    "print(\"Setup complete! You're ready to start question 0.\")"
   ]
  },
  {
   "cell_type": "markdown",
   "id": "ad7f2666",
   "metadata": {
    "papermill": {
     "duration": 0.007498,
     "end_time": "2023-02-17T11:10:59.419207",
     "exception": false,
     "start_time": "2023-02-17T11:10:59.411709",
     "status": "completed"
    },
    "tags": []
   },
   "source": [
    "# 0.\n",
    "\n",
    "*This is a silly question intended as an introduction to the format we use for hands-on exercises throughout all Kaggle courses.*\n",
    "\n",
    "**What is your favorite color? **\n",
    "\n",
    "To complete this question, create a variable called `color` in the cell below with an appropriate value. The function call `q0.check()` (which we've already provided in the cell below) will check your answer."
   ]
  },
  {
   "cell_type": "code",
   "execution_count": 3,
   "id": "a30b09e3",
   "metadata": {
    "execution": {
     "iopub.execute_input": "2023-02-17T11:10:59.437906Z",
     "iopub.status.busy": "2023-02-17T11:10:59.437486Z",
     "iopub.status.idle": "2023-02-17T11:10:59.449312Z",
     "shell.execute_reply": "2023-02-17T11:10:59.448149Z"
    },
    "papermill": {
     "duration": 0.02498,
     "end_time": "2023-02-17T11:10:59.451608",
     "exception": false,
     "start_time": "2023-02-17T11:10:59.426628",
     "status": "completed"
    },
    "tags": []
   },
   "outputs": [
    {
     "data": {
      "application/javascript": [
       "parent.postMessage({\"jupyterEvent\": \"custom.exercise_interaction\", \"data\": {\"outcomeType\": 1, \"valueTowardsCompletion\": 0.25, \"interactionType\": 1, \"questionType\": 2, \"questionId\": \"0_ExerciseFormatTutorial\", \"learnToolsVersion\": \"0.3.4\", \"failureMessage\": \"\", \"exceptionClass\": \"\", \"trace\": \"\"}}, \"*\")"
      ],
      "text/plain": [
       "<IPython.core.display.Javascript object>"
      ]
     },
     "metadata": {},
     "output_type": "display_data"
    },
    {
     "data": {
      "text/markdown": [
       "<span style=\"color:#33cc33\">Correct:</span> What?! You got it right without needing a hint or anything? Drats. Well hey, you should still continue to the next step to get some practice asking for a hint and checking solutions. (Even though you obviously don't need any help here.)"
      ],
      "text/plain": [
       "Correct: What?! You got it right without needing a hint or anything? Drats. Well hey, you should still continue to the next step to get some practice asking for a hint and checking solutions. (Even though you obviously don't need any help here.)"
      ]
     },
     "metadata": {},
     "output_type": "display_data"
    }
   ],
   "source": [
    "# create a variable called color with an appropriate value on the line below\n",
    "# (Remember, strings in Python must be enclosed in 'single' or \"double\" quotes)\n",
    "# ____\n",
    "color = \"blue\"\n",
    "# Check your answer\n",
    "q0.check()"
   ]
  },
  {
   "cell_type": "markdown",
   "id": "c19d6fa4",
   "metadata": {
    "papermill": {
     "duration": 0.007279,
     "end_time": "2023-02-17T11:10:59.466417",
     "exception": false,
     "start_time": "2023-02-17T11:10:59.459138",
     "status": "completed"
    },
    "tags": []
   },
   "source": [
    "Didn't get the right answer? How do you not even know your own favorite color?!\n",
    "\n",
    "Delete the `#` in the line below to make one of the lines run. You can choose between getting a hint or the full answer by choosing which line to remove the `#` from. \n",
    "\n",
    "Removing the `#` is called uncommenting, because it changes that line from a \"comment\" which Python doesn't run to code, which Python does run."
   ]
  },
  {
   "cell_type": "code",
   "execution_count": 4,
   "id": "366a1fe6",
   "metadata": {
    "execution": {
     "iopub.execute_input": "2023-02-17T11:10:59.484166Z",
     "iopub.status.busy": "2023-02-17T11:10:59.483276Z",
     "iopub.status.idle": "2023-02-17T11:10:59.488409Z",
     "shell.execute_reply": "2023-02-17T11:10:59.487364Z"
    },
    "papermill": {
     "duration": 0.017064,
     "end_time": "2023-02-17T11:10:59.490922",
     "exception": false,
     "start_time": "2023-02-17T11:10:59.473858",
     "status": "completed"
    },
    "tags": []
   },
   "outputs": [],
   "source": [
    "#q0.hint()\n",
    "#q0.solution()"
   ]
  },
  {
   "cell_type": "markdown",
   "id": "07b7d901",
   "metadata": {
    "papermill": {
     "duration": 0.00793,
     "end_time": "2023-02-17T11:10:59.506887",
     "exception": false,
     "start_time": "2023-02-17T11:10:59.498957",
     "status": "completed"
    },
    "tags": []
   },
   "source": [
    "The upcoming questions work the same way. The only thing that will change are the question numbers. For the next question, you'll call `q1.check()`, `q1.hint()`, `q1.solution()`, for question 2, you'll call `q2.check()`, and so on."
   ]
  },
  {
   "cell_type": "markdown",
   "id": "a4f539e0",
   "metadata": {
    "papermill": {
     "duration": 0.007277,
     "end_time": "2023-02-17T11:10:59.521847",
     "exception": false,
     "start_time": "2023-02-17T11:10:59.514570",
     "status": "completed"
    },
    "tags": []
   },
   "source": [
    "<hr/>\n",
    "\n",
    "# 1.\n",
    "\n",
    "Complete the code below. In case it's helpful, here is the table of available arithmetic operations:\n",
    "\n",
    "\n",
    "\n",
    "| Operator     | Name           | Description                                            |\n",
    "|--------------|----------------|--------------------------------------------------------|\n",
    "| ``a + b``    | Addition       | Sum of ``a`` and ``b``                                 |\n",
    "| ``a - b``    | Subtraction    | Difference of ``a`` and ``b``                          |\n",
    "| ``a * b``    | Multiplication | Product of ``a`` and ``b``                             |\n",
    "| ``a / b``    | True division  | Quotient of ``a`` and ``b``                            |\n",
    "| ``a // b``   | Floor division | Quotient of ``a`` and ``b``, removing fractional parts |\n",
    "| ``a % b``    | Modulus        | Integer remainder after division of ``a`` by ``b``     |\n",
    "| ``a ** b``   | Exponentiation | ``a`` raised to the power of ``b``                     |\n",
    "| ``-a``       | Negation       | The negative of ``a``                                  |\n",
    "\n",
    "<span style=\"display:none\"></span>\n"
   ]
  },
  {
   "cell_type": "code",
   "execution_count": 5,
   "id": "40f41b85",
   "metadata": {
    "execution": {
     "iopub.execute_input": "2023-02-17T11:10:59.539793Z",
     "iopub.status.busy": "2023-02-17T11:10:59.539380Z",
     "iopub.status.idle": "2023-02-17T11:10:59.547952Z",
     "shell.execute_reply": "2023-02-17T11:10:59.546761Z"
    },
    "papermill": {
     "duration": 0.020746,
     "end_time": "2023-02-17T11:10:59.550270",
     "exception": false,
     "start_time": "2023-02-17T11:10:59.529524",
     "status": "completed"
    },
    "tags": []
   },
   "outputs": [
    {
     "data": {
      "application/javascript": [
       "parent.postMessage({\"jupyterEvent\": \"custom.exercise_interaction\", \"data\": {\"outcomeType\": 4, \"interactionType\": 1, \"questionType\": 1, \"questionId\": \"1_CircleArea\", \"learnToolsVersion\": \"0.3.4\", \"valueTowardsCompletion\": 0.0, \"failureMessage\": \"\", \"exceptionClass\": \"\", \"trace\": \"\"}}, \"*\")"
      ],
      "text/plain": [
       "<IPython.core.display.Javascript object>"
      ]
     },
     "metadata": {},
     "output_type": "display_data"
    },
    {
     "data": {
      "text/markdown": [
       "<span style=\"color:#ccaa33\">Check:</span> When you've updated the starter code, `check()` will tell you whether your code is correct. Remember, you must create the following variables: `radius`, `area`"
      ],
      "text/plain": [
       "Check: When you've updated the starter code, `check()` will tell you whether your code is correct. Remember, you must create the following variables: `radius`, `area`"
      ]
     },
     "metadata": {},
     "output_type": "display_data"
    }
   ],
   "source": [
    "pi = 3.14159 # approximate\n",
    "diameter = 3\n",
    "\n",
    "# Create a variable called 'radius' equal to half the diameter\n",
    "____\n",
    "\n",
    "# Create a variable called 'area', using the formula for the area of a circle: pi times the radius squared\n",
    "____\n",
    "\n",
    "# Check your answer\n",
    "q1.check()"
   ]
  },
  {
   "cell_type": "code",
   "execution_count": 6,
   "id": "bfbe2393",
   "metadata": {
    "execution": {
     "iopub.execute_input": "2023-02-17T11:10:59.568317Z",
     "iopub.status.busy": "2023-02-17T11:10:59.567914Z",
     "iopub.status.idle": "2023-02-17T11:10:59.572045Z",
     "shell.execute_reply": "2023-02-17T11:10:59.570919Z"
    },
    "papermill": {
     "duration": 0.016846,
     "end_time": "2023-02-17T11:10:59.574882",
     "exception": false,
     "start_time": "2023-02-17T11:10:59.558036",
     "status": "completed"
    },
    "tags": []
   },
   "outputs": [],
   "source": [
    "# Uncomment and run the lines below if you need help.\n",
    "#q1.hint()\n",
    "#q1.solution()"
   ]
  },
  {
   "cell_type": "markdown",
   "id": "2744aafe",
   "metadata": {
    "papermill": {
     "duration": 0.007635,
     "end_time": "2023-02-17T11:10:59.590731",
     "exception": false,
     "start_time": "2023-02-17T11:10:59.583096",
     "status": "completed"
    },
    "tags": []
   },
   "source": [
    "<hr/>\n",
    "\n",
    "# 2.\n",
    "\n",
    "Add code to the following cell to swap variables `a` and `b` (so that `a` refers to the object previously referred to by `b` and vice versa)."
   ]
  },
  {
   "cell_type": "code",
   "execution_count": 7,
   "id": "90e4f590",
   "metadata": {
    "execution": {
     "iopub.execute_input": "2023-02-17T11:10:59.608189Z",
     "iopub.status.busy": "2023-02-17T11:10:59.607753Z",
     "iopub.status.idle": "2023-02-17T11:10:59.617215Z",
     "shell.execute_reply": "2023-02-17T11:10:59.616136Z"
    },
    "papermill": {
     "duration": 0.020903,
     "end_time": "2023-02-17T11:10:59.619432",
     "exception": false,
     "start_time": "2023-02-17T11:10:59.598529",
     "status": "completed"
    },
    "tags": []
   },
   "outputs": [
    {
     "data": {
      "application/javascript": [
       "parent.postMessage({\"jupyterEvent\": \"custom.exercise_interaction\", \"data\": {\"outcomeType\": 2, \"failureMessage\": \"`a` and `b` still have their original values.\", \"interactionType\": 1, \"questionType\": 2, \"questionId\": \"2_VariableSwap\", \"learnToolsVersion\": \"0.3.4\", \"valueTowardsCompletion\": 0.0, \"exceptionClass\": \"\", \"trace\": \"\"}}, \"*\")"
      ],
      "text/plain": [
       "<IPython.core.display.Javascript object>"
      ]
     },
     "metadata": {},
     "output_type": "display_data"
    },
    {
     "data": {
      "text/markdown": [
       "<span style=\"color:#cc3333\">Incorrect:</span> `a` and `b` still have their original values."
      ],
      "text/plain": [
       "Incorrect: `a` and `b` still have their original values."
      ]
     },
     "metadata": {},
     "output_type": "display_data"
    }
   ],
   "source": [
    "########### Setup code - don't touch this part ######################\n",
    "# If you're curious, these are examples of lists. We'll talk about \n",
    "# them in depth a few lessons from now. For now, just know that they're\n",
    "# yet another type of Python object, like int or float.\n",
    "a = [1, 2, 3]\n",
    "b = [3, 2, 1]\n",
    "q2.store_original_ids()\n",
    "######################################################################\n",
    "\n",
    "# Your code goes here. Swap the values to which a and b refer.\n",
    "# If you get stuck, you can always uncomment one or both of the lines in\n",
    "# the next cell for a hint, or to peek at the solution.\n",
    "\n",
    "######################################################################\n",
    "\n",
    "# Check your answer\n",
    "q2.check()"
   ]
  },
  {
   "cell_type": "code",
   "execution_count": 8,
   "id": "fe45348a",
   "metadata": {
    "execution": {
     "iopub.execute_input": "2023-02-17T11:10:59.637552Z",
     "iopub.status.busy": "2023-02-17T11:10:59.637164Z",
     "iopub.status.idle": "2023-02-17T11:10:59.641825Z",
     "shell.execute_reply": "2023-02-17T11:10:59.640671Z"
    },
    "papermill": {
     "duration": 0.016664,
     "end_time": "2023-02-17T11:10:59.644001",
     "exception": false,
     "start_time": "2023-02-17T11:10:59.627337",
     "status": "completed"
    },
    "tags": []
   },
   "outputs": [],
   "source": [
    "#q2.hint()"
   ]
  },
  {
   "cell_type": "code",
   "execution_count": 9,
   "id": "13639bbb",
   "metadata": {
    "execution": {
     "iopub.execute_input": "2023-02-17T11:10:59.661640Z",
     "iopub.status.busy": "2023-02-17T11:10:59.661234Z",
     "iopub.status.idle": "2023-02-17T11:10:59.665816Z",
     "shell.execute_reply": "2023-02-17T11:10:59.664747Z"
    },
    "papermill": {
     "duration": 0.015758,
     "end_time": "2023-02-17T11:10:59.667918",
     "exception": false,
     "start_time": "2023-02-17T11:10:59.652160",
     "status": "completed"
    },
    "tags": []
   },
   "outputs": [],
   "source": [
    "#q2.solution()"
   ]
  },
  {
   "cell_type": "markdown",
   "id": "35f45466",
   "metadata": {
    "papermill": {
     "duration": 0.007692,
     "end_time": "2023-02-17T11:10:59.683575",
     "exception": false,
     "start_time": "2023-02-17T11:10:59.675883",
     "status": "completed"
    },
    "tags": []
   },
   "source": [
    "<hr/>\n",
    "\n",
    "# 3a.\n",
    "\n",
    "Add parentheses to the following expression so that it evaluates to 1."
   ]
  },
  {
   "cell_type": "code",
   "execution_count": 10,
   "id": "62a3d1c4",
   "metadata": {
    "execution": {
     "iopub.execute_input": "2023-02-17T11:10:59.701421Z",
     "iopub.status.busy": "2023-02-17T11:10:59.700671Z",
     "iopub.status.idle": "2023-02-17T11:10:59.706687Z",
     "shell.execute_reply": "2023-02-17T11:10:59.705608Z"
    },
    "papermill": {
     "duration": 0.017268,
     "end_time": "2023-02-17T11:10:59.708790",
     "exception": false,
     "start_time": "2023-02-17T11:10:59.691522",
     "status": "completed"
    },
    "tags": []
   },
   "outputs": [
    {
     "data": {
      "text/plain": [
       "4"
      ]
     },
     "execution_count": 10,
     "metadata": {},
     "output_type": "execute_result"
    }
   ],
   "source": [
    "5 - 3 // 2"
   ]
  },
  {
   "cell_type": "code",
   "execution_count": 11,
   "id": "887e17a4",
   "metadata": {
    "execution": {
     "iopub.execute_input": "2023-02-17T11:10:59.727118Z",
     "iopub.status.busy": "2023-02-17T11:10:59.726329Z",
     "iopub.status.idle": "2023-02-17T11:10:59.730523Z",
     "shell.execute_reply": "2023-02-17T11:10:59.729499Z"
    },
    "papermill": {
     "duration": 0.015962,
     "end_time": "2023-02-17T11:10:59.732728",
     "exception": false,
     "start_time": "2023-02-17T11:10:59.716766",
     "status": "completed"
    },
    "tags": []
   },
   "outputs": [],
   "source": [
    "#q3.a.hint()"
   ]
  },
  {
   "cell_type": "code",
   "execution_count": 12,
   "id": "806832ef",
   "metadata": {
    "execution": {
     "iopub.execute_input": "2023-02-17T11:10:59.750884Z",
     "iopub.status.busy": "2023-02-17T11:10:59.750485Z",
     "iopub.status.idle": "2023-02-17T11:10:59.758332Z",
     "shell.execute_reply": "2023-02-17T11:10:59.757320Z"
    },
    "papermill": {
     "duration": 0.019703,
     "end_time": "2023-02-17T11:10:59.760443",
     "exception": false,
     "start_time": "2023-02-17T11:10:59.740740",
     "status": "completed"
    },
    "tags": []
   },
   "outputs": [
    {
     "data": {
      "application/javascript": [
       "parent.postMessage({\"jupyterEvent\": \"custom.exercise_interaction\", \"data\": {\"interactionType\": 3, \"questionType\": 4, \"questionId\": \"3.1_ArithmeticParensEasy\", \"learnToolsVersion\": \"0.3.4\", \"valueTowardsCompletion\": 0.0, \"failureMessage\": \"\", \"exceptionClass\": \"\", \"trace\": \"\", \"outcomeType\": 4}}, \"*\")"
      ],
      "text/plain": [
       "<IPython.core.display.Javascript object>"
      ]
     },
     "metadata": {},
     "output_type": "display_data"
    },
    {
     "data": {
      "text/markdown": [
       "<span style=\"color:#33cc99\">Solution:</span> \n",
       "```python\n",
       "(5 - 3) // 2\n",
       "```"
      ],
      "text/plain": [
       "Solution: \n",
       "```python\n",
       "(5 - 3) // 2\n",
       "```"
      ]
     },
     "metadata": {},
     "output_type": "display_data"
    }
   ],
   "source": [
    "# Check your answer (Run this code cell to receive credit!)\n",
    "q3.a.solution()"
   ]
  },
  {
   "cell_type": "markdown",
   "id": "441964a2",
   "metadata": {
    "papermill": {
     "duration": 0.008478,
     "end_time": "2023-02-17T11:10:59.777416",
     "exception": false,
     "start_time": "2023-02-17T11:10:59.768938",
     "status": "completed"
    },
    "tags": []
   },
   "source": [
    "# 3b.  <span title=\"A bit spicy\" style=\"color: darkgreen \">🌶️</span>\n",
    "\n",
    "<small>Questions, like this one, marked a spicy pepper are a bit harder.</small>\n",
    "\n",
    "Add parentheses to the following expression so that it evaluates to 0."
   ]
  },
  {
   "cell_type": "code",
   "execution_count": 13,
   "id": "cf5ad3c1",
   "metadata": {
    "execution": {
     "iopub.execute_input": "2023-02-17T11:10:59.796264Z",
     "iopub.status.busy": "2023-02-17T11:10:59.795541Z",
     "iopub.status.idle": "2023-02-17T11:10:59.800986Z",
     "shell.execute_reply": "2023-02-17T11:10:59.800271Z"
    },
    "papermill": {
     "duration": 0.017067,
     "end_time": "2023-02-17T11:10:59.802886",
     "exception": false,
     "start_time": "2023-02-17T11:10:59.785819",
     "status": "completed"
    },
    "tags": []
   },
   "outputs": [
    {
     "data": {
      "text/plain": [
       "2"
      ]
     },
     "execution_count": 13,
     "metadata": {},
     "output_type": "execute_result"
    }
   ],
   "source": [
    "8 - 3 * 2 - 1 + 1"
   ]
  },
  {
   "cell_type": "code",
   "execution_count": 14,
   "id": "8334e24a",
   "metadata": {
    "execution": {
     "iopub.execute_input": "2023-02-17T11:10:59.821810Z",
     "iopub.status.busy": "2023-02-17T11:10:59.821093Z",
     "iopub.status.idle": "2023-02-17T11:10:59.825262Z",
     "shell.execute_reply": "2023-02-17T11:10:59.824400Z"
    },
    "papermill": {
     "duration": 0.016256,
     "end_time": "2023-02-17T11:10:59.827441",
     "exception": false,
     "start_time": "2023-02-17T11:10:59.811185",
     "status": "completed"
    },
    "tags": []
   },
   "outputs": [],
   "source": [
    "#q3.b.hint()"
   ]
  },
  {
   "cell_type": "code",
   "execution_count": 15,
   "id": "e59033e3",
   "metadata": {
    "execution": {
     "iopub.execute_input": "2023-02-17T11:10:59.846109Z",
     "iopub.status.busy": "2023-02-17T11:10:59.845655Z",
     "iopub.status.idle": "2023-02-17T11:10:59.854395Z",
     "shell.execute_reply": "2023-02-17T11:10:59.853396Z"
    },
    "papermill": {
     "duration": 0.020509,
     "end_time": "2023-02-17T11:10:59.856381",
     "exception": false,
     "start_time": "2023-02-17T11:10:59.835872",
     "status": "completed"
    },
    "tags": []
   },
   "outputs": [
    {
     "data": {
      "application/javascript": [
       "parent.postMessage({\"jupyterEvent\": \"custom.exercise_interaction\", \"data\": {\"interactionType\": 3, \"questionType\": 4, \"questionId\": \"3.2_ArithmeticParensHard\", \"learnToolsVersion\": \"0.3.4\", \"valueTowardsCompletion\": 0.0, \"failureMessage\": \"\", \"exceptionClass\": \"\", \"trace\": \"\", \"outcomeType\": 4}}, \"*\")"
      ],
      "text/plain": [
       "<IPython.core.display.Javascript object>"
      ]
     },
     "metadata": {},
     "output_type": "display_data"
    },
    {
     "data": {
      "text/markdown": [
       "<span style=\"color:#33cc99\">Solution:</span> `(8 - 3) * (2 - (1 + 1))` is one solution. There may be others."
      ],
      "text/plain": [
       "Solution: `(8 - 3) * (2 - (1 + 1))` is one solution. There may be others."
      ]
     },
     "metadata": {},
     "output_type": "display_data"
    }
   ],
   "source": [
    "# Check your answer (Run this code cell to receive credit!)\n",
    "q3.b.solution()"
   ]
  },
  {
   "cell_type": "markdown",
   "id": "33e03a4e",
   "metadata": {
    "papermill": {
     "duration": 0.008329,
     "end_time": "2023-02-17T11:10:59.873431",
     "exception": false,
     "start_time": "2023-02-17T11:10:59.865102",
     "status": "completed"
    },
    "tags": []
   },
   "source": [
    "<hr/>\n",
    "\n",
    "# 4. \n",
    "Alice, Bob and Carol have agreed to pool their Halloween candy and split it evenly among themselves.\n",
    "For the sake of their friendship, any candies left over will be smashed. For example, if they collectively\n",
    "bring home 91 candies, they'll take 30 each and smash 1.\n",
    "\n",
    "Write an arithmetic expression below to calculate how many candies they must smash for a given haul."
   ]
  },
  {
   "cell_type": "code",
   "execution_count": 16,
   "id": "5ebf09a2",
   "metadata": {
    "execution": {
     "iopub.execute_input": "2023-02-17T11:10:59.892776Z",
     "iopub.status.busy": "2023-02-17T11:10:59.892106Z",
     "iopub.status.idle": "2023-02-17T11:10:59.899813Z",
     "shell.execute_reply": "2023-02-17T11:10:59.899030Z"
    },
    "papermill": {
     "duration": 0.019889,
     "end_time": "2023-02-17T11:10:59.901929",
     "exception": false,
     "start_time": "2023-02-17T11:10:59.882040",
     "status": "completed"
    },
    "tags": []
   },
   "outputs": [
    {
     "data": {
      "application/javascript": [
       "parent.postMessage({\"jupyterEvent\": \"custom.exercise_interaction\", \"data\": {\"outcomeType\": 4, \"interactionType\": 1, \"questionType\": 1, \"questionId\": \"4_CandySplitting\", \"learnToolsVersion\": \"0.3.4\", \"valueTowardsCompletion\": 0.0, \"failureMessage\": \"\", \"exceptionClass\": \"\", \"trace\": \"\"}}, \"*\")"
      ],
      "text/plain": [
       "<IPython.core.display.Javascript object>"
      ]
     },
     "metadata": {},
     "output_type": "display_data"
    },
    {
     "data": {
      "text/markdown": [
       "<span style=\"color:#ccaa33\">Check:</span> When you've updated the starter code, `check()` will tell you whether your code is correct. You need to update the code that creates variable `to_smash`"
      ],
      "text/plain": [
       "Check: When you've updated the starter code, `check()` will tell you whether your code is correct. You need to update the code that creates variable `to_smash`"
      ]
     },
     "metadata": {},
     "output_type": "display_data"
    }
   ],
   "source": [
    "# Variables representing the number of candies collected by alice, bob, and carol\n",
    "alice_candies = 121\n",
    "bob_candies = 77\n",
    "carol_candies = 109\n",
    "\n",
    "# Your code goes here! Replace the right-hand side of this assignment with an expression\n",
    "# involving alice_candies, bob_candies, and carol_candies\n",
    "to_smash = -1\n",
    "\n",
    "# Check your answer\n",
    "q4.check()"
   ]
  },
  {
   "cell_type": "code",
   "execution_count": 17,
   "id": "455e2184",
   "metadata": {
    "execution": {
     "iopub.execute_input": "2023-02-17T11:10:59.921905Z",
     "iopub.status.busy": "2023-02-17T11:10:59.921234Z",
     "iopub.status.idle": "2023-02-17T11:10:59.925004Z",
     "shell.execute_reply": "2023-02-17T11:10:59.924251Z"
    },
    "papermill": {
     "duration": 0.016293,
     "end_time": "2023-02-17T11:10:59.927169",
     "exception": false,
     "start_time": "2023-02-17T11:10:59.910876",
     "status": "completed"
    },
    "tags": []
   },
   "outputs": [],
   "source": [
    "#q4.hint()\n",
    "#q4.solution()"
   ]
  },
  {
   "cell_type": "markdown",
   "id": "ac9aa290",
   "metadata": {
    "papermill": {
     "duration": 0.008525,
     "end_time": "2023-02-17T11:10:59.944770",
     "exception": false,
     "start_time": "2023-02-17T11:10:59.936245",
     "status": "completed"
    },
    "tags": []
   },
   "source": [
    "# Keep Going\n",
    "\n",
    "Next up, you'll **[learn to write new functions and understand functions others write](https://www.kaggle.com/colinmorris/functions-and-getting-help)**. This will make you at least 10 times more productive as a Python programmer. "
   ]
  },
  {
   "cell_type": "markdown",
   "id": "dd38684c",
   "metadata": {
    "papermill": {
     "duration": 0.009018,
     "end_time": "2023-02-17T11:10:59.962912",
     "exception": false,
     "start_time": "2023-02-17T11:10:59.953894",
     "status": "completed"
    },
    "tags": []
   },
   "source": [
    "---\n",
    "\n",
    "\n",
    "\n",
    "\n",
    "*Have questions or comments? Visit the [course discussion forum](https://www.kaggle.com/learn/python/discussion) to chat with other learners.*"
   ]
  }
 ],
 "metadata": {
  "kernelspec": {
   "display_name": "Python 3",
   "language": "python",
   "name": "python3"
  },
  "language_info": {
   "codemirror_mode": {
    "name": "ipython",
    "version": 3
   },
   "file_extension": ".py",
   "mimetype": "text/x-python",
   "name": "python",
   "nbconvert_exporter": "python",
   "pygments_lexer": "ipython3",
   "version": "3.7.12"
  },
  "papermill": {
   "default_parameters": {},
   "duration": 10.202533,
   "end_time": "2023-02-17T11:11:00.593295",
   "environment_variables": {},
   "exception": null,
   "input_path": "__notebook__.ipynb",
   "output_path": "__notebook__.ipynb",
   "parameters": {},
   "start_time": "2023-02-17T11:10:50.390762",
   "version": "2.3.4"
  }
 },
 "nbformat": 4,
 "nbformat_minor": 5
}
