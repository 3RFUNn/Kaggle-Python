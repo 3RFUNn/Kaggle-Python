{
 "cells": [
  {
   "cell_type": "markdown",
   "id": "6f817bd3",
   "metadata": {
    "papermill": {
     "duration": 0.014211,
     "end_time": "2023-02-17T11:43:16.983532",
     "exception": false,
     "start_time": "2023-02-17T11:43:16.969321",
     "status": "completed"
    },
    "tags": []
   },
   "source": [
    "**This notebook is an exercise in the [Python](https://www.kaggle.com/learn/python) course.  You can reference the tutorial at [this link](https://www.kaggle.com/colinmorris/hello-python).**\n",
    "\n",
    "---\n"
   ]
  },
  {
   "cell_type": "markdown",
   "id": "fc0fcaf4",
   "metadata": {
    "papermill": {
     "duration": 0.007644,
     "end_time": "2023-02-17T11:43:17.002427",
     "exception": false,
     "start_time": "2023-02-17T11:43:16.994783",
     "status": "completed"
    },
    "tags": []
   },
   "source": [
    "Welcome to your first set of Python coding problems.  If this is your first time using Kaggle Notebooks, welcome! \n",
    "\n",
    "Notebooks are composed of blocks (called \"cells\") of text and code. Each of these is editable, though you'll mainly be editing the code cells to answer some questions.\n",
    "\n",
    "To get started, try running the code cell below (by pressing the ► button, or clicking on the cell and pressing ctrl+enter on your keyboard)."
   ]
  },
  {
   "cell_type": "code",
   "execution_count": null,
   "id": "f0dead82",
   "metadata": {
    "papermill": {
     "duration": 0.007571,
     "end_time": "2023-02-17T11:43:17.018903",
     "exception": false,
     "start_time": "2023-02-17T11:43:17.011332",
     "status": "completed"
    },
    "tags": []
   },
   "outputs": [],
   "source": []
  },
  {
   "cell_type": "code",
   "execution_count": 1,
   "id": "a6e8356b",
   "metadata": {
    "execution": {
     "iopub.execute_input": "2023-02-17T11:43:17.040217Z",
     "iopub.status.busy": "2023-02-17T11:43:17.039571Z",
     "iopub.status.idle": "2023-02-17T11:43:17.054157Z",
     "shell.execute_reply": "2023-02-17T11:43:17.052369Z"
    },
    "papermill": {
     "duration": 0.02789,
     "end_time": "2023-02-17T11:43:17.057179",
     "exception": false,
     "start_time": "2023-02-17T11:43:17.029289",
     "status": "completed"
    },
    "tags": []
   },
   "outputs": [
    {
     "name": "stdout",
     "output_type": "stream",
     "text": [
      "You've successfully run some Python code\n",
      "Congratulations!\n",
      "Hello, world!\n"
     ]
    }
   ],
   "source": [
    "print(\"You've successfully run some Python code\")\n",
    "print(\"Congratulations!\")\n",
    "print(\"Hello, world!\")"
   ]
  },
  {
   "cell_type": "code",
   "execution_count": null,
   "id": "9fe7d953",
   "metadata": {
    "papermill": {
     "duration": 0.007924,
     "end_time": "2023-02-17T11:43:17.075916",
     "exception": false,
     "start_time": "2023-02-17T11:43:17.067992",
     "status": "completed"
    },
    "tags": []
   },
   "outputs": [],
   "source": []
  },
  {
   "cell_type": "markdown",
   "id": "427005ac",
   "metadata": {
    "papermill": {
     "duration": 0.006832,
     "end_time": "2023-02-17T11:43:17.090044",
     "exception": false,
     "start_time": "2023-02-17T11:43:17.083212",
     "status": "completed"
    },
    "tags": []
   },
   "source": [
    "Try adding another line of code in the cell above and re-running it. \n",
    "\n",
    "Now let's get a little fancier:  Add a new code cell by clicking on an existing code cell, hitting the escape key, and then hitting the `a` or `b` key.  The `a` key will add a cell above the current cell, and `b` adds a cell below.\n",
    "\n",
    "Great! Now you know how to use Notebooks.\n",
    "\n",
    "Each hands-on exercise starts by setting up our feedback and code checking mechanism. Run the code cell below to do that. Then you'll be ready to move on to question 0."
   ]
  },
  {
   "cell_type": "code",
   "execution_count": 2,
   "id": "9ded77d4",
   "metadata": {
    "_kg_hide-input": true,
    "_kg_hide-output": true,
    "execution": {
     "iopub.execute_input": "2023-02-17T11:43:17.106812Z",
     "iopub.status.busy": "2023-02-17T11:43:17.106050Z",
     "iopub.status.idle": "2023-02-17T11:43:17.146799Z",
     "shell.execute_reply": "2023-02-17T11:43:17.145894Z"
    },
    "papermill": {
     "duration": 0.053365,
     "end_time": "2023-02-17T11:43:17.150830",
     "exception": false,
     "start_time": "2023-02-17T11:43:17.097465",
     "status": "completed"
    },
    "tags": []
   },
   "outputs": [
    {
     "name": "stdout",
     "output_type": "stream",
     "text": [
      "Setup complete! You're ready to start question 0.\n"
     ]
    }
   ],
   "source": [
    "from learntools.core import binder; binder.bind(globals())\n",
    "from learntools.python.ex1 import *\n",
    "print(\"Setup complete! You're ready to start question 0.\")"
   ]
  },
  {
   "cell_type": "markdown",
   "id": "ba99d984",
   "metadata": {
    "papermill": {
     "duration": 0.007194,
     "end_time": "2023-02-17T11:43:17.166219",
     "exception": false,
     "start_time": "2023-02-17T11:43:17.159025",
     "status": "completed"
    },
    "tags": []
   },
   "source": [
    "# 0.\n",
    "\n",
    "*This is a silly question intended as an introduction to the format we use for hands-on exercises throughout all Kaggle courses.*\n",
    "\n",
    "**What is your favorite color? **\n",
    "\n",
    "To complete this question, create a variable called `color` in the cell below with an appropriate value. The function call `q0.check()` (which we've already provided in the cell below) will check your answer."
   ]
  },
  {
   "cell_type": "code",
   "execution_count": 3,
   "id": "e367a3f8",
   "metadata": {
    "execution": {
     "iopub.execute_input": "2023-02-17T11:43:17.183239Z",
     "iopub.status.busy": "2023-02-17T11:43:17.182494Z",
     "iopub.status.idle": "2023-02-17T11:43:17.192849Z",
     "shell.execute_reply": "2023-02-17T11:43:17.192025Z"
    },
    "papermill": {
     "duration": 0.0215,
     "end_time": "2023-02-17T11:43:17.195054",
     "exception": false,
     "start_time": "2023-02-17T11:43:17.173554",
     "status": "completed"
    },
    "tags": []
   },
   "outputs": [
    {
     "data": {
      "application/javascript": [
       "parent.postMessage({\"jupyterEvent\": \"custom.exercise_interaction\", \"data\": {\"outcomeType\": 1, \"valueTowardsCompletion\": 0.25, \"interactionType\": 1, \"questionType\": 2, \"questionId\": \"0_ExerciseFormatTutorial\", \"learnToolsVersion\": \"0.3.4\", \"failureMessage\": \"\", \"exceptionClass\": \"\", \"trace\": \"\"}}, \"*\")"
      ],
      "text/plain": [
       "<IPython.core.display.Javascript object>"
      ]
     },
     "metadata": {},
     "output_type": "display_data"
    },
    {
     "data": {
      "text/markdown": [
       "<span style=\"color:#33cc33\">Correct:</span> What?! You got it right without needing a hint or anything? Drats. Well hey, you should still continue to the next step to get some practice asking for a hint and checking solutions. (Even though you obviously don't need any help here.)"
      ],
      "text/plain": [
       "Correct: What?! You got it right without needing a hint or anything? Drats. Well hey, you should still continue to the next step to get some practice asking for a hint and checking solutions. (Even though you obviously don't need any help here.)"
      ]
     },
     "metadata": {},
     "output_type": "display_data"
    }
   ],
   "source": [
    "# create a variable called color with an appropriate value on the line below\n",
    "# (Remember, strings in Python must be enclosed in 'single' or \"double\" quotes)\n",
    "# ____\n",
    "color = \"blue\"\n",
    "# Check your answer\n",
    "q0.check()"
   ]
  },
  {
   "cell_type": "markdown",
   "id": "7e97a17a",
   "metadata": {
    "papermill": {
     "duration": 0.007401,
     "end_time": "2023-02-17T11:43:17.210293",
     "exception": false,
     "start_time": "2023-02-17T11:43:17.202892",
     "status": "completed"
    },
    "tags": []
   },
   "source": [
    "Didn't get the right answer? How do you not even know your own favorite color?!\n",
    "\n",
    "Delete the `#` in the line below to make one of the lines run. You can choose between getting a hint or the full answer by choosing which line to remove the `#` from. \n",
    "\n",
    "Removing the `#` is called uncommenting, because it changes that line from a \"comment\" which Python doesn't run to code, which Python does run."
   ]
  },
  {
   "cell_type": "code",
   "execution_count": 4,
   "id": "af5bb8d5",
   "metadata": {
    "execution": {
     "iopub.execute_input": "2023-02-17T11:43:17.228029Z",
     "iopub.status.busy": "2023-02-17T11:43:17.227326Z",
     "iopub.status.idle": "2023-02-17T11:43:17.238347Z",
     "shell.execute_reply": "2023-02-17T11:43:17.237246Z"
    },
    "papermill": {
     "duration": 0.022374,
     "end_time": "2023-02-17T11:43:17.240633",
     "exception": false,
     "start_time": "2023-02-17T11:43:17.218259",
     "status": "completed"
    },
    "tags": []
   },
   "outputs": [
    {
     "data": {
      "application/javascript": [
       "parent.postMessage({\"jupyterEvent\": \"custom.exercise_interaction\", \"data\": {\"interactionType\": 2, \"questionType\": 2, \"questionId\": \"0_ExerciseFormatTutorial\", \"learnToolsVersion\": \"0.3.4\", \"valueTowardsCompletion\": 0.0, \"failureMessage\": \"\", \"exceptionClass\": \"\", \"trace\": \"\", \"outcomeType\": 4}}, \"*\")"
      ],
      "text/plain": [
       "<IPython.core.display.Javascript object>"
      ]
     },
     "metadata": {},
     "output_type": "display_data"
    },
    {
     "data": {
      "text/markdown": [
       "<span style=\"color:#3366cc\">Hint:</span> Your favorite color rhymes with *glue*."
      ],
      "text/plain": [
       "Hint: Your favorite color rhymes with *glue*."
      ]
     },
     "metadata": {},
     "output_type": "display_data"
    },
    {
     "data": {
      "application/javascript": [
       "parent.postMessage({\"jupyterEvent\": \"custom.exercise_interaction\", \"data\": {\"interactionType\": 3, \"questionType\": 2, \"questionId\": \"0_ExerciseFormatTutorial\", \"learnToolsVersion\": \"0.3.4\", \"valueTowardsCompletion\": 0.0, \"failureMessage\": \"\", \"exceptionClass\": \"\", \"trace\": \"\", \"outcomeType\": 4}}, \"*\")"
      ],
      "text/plain": [
       "<IPython.core.display.Javascript object>"
      ]
     },
     "metadata": {},
     "output_type": "display_data"
    },
    {
     "data": {
      "text/markdown": [
       "<span style=\"color:#33cc99\">Solution:</span> \n",
       "```python\n",
       "color = \"blue\"\n",
       "```"
      ],
      "text/plain": [
       "Solution: \n",
       "```python\n",
       "color = \"blue\"\n",
       "```"
      ]
     },
     "metadata": {},
     "output_type": "display_data"
    }
   ],
   "source": [
    "q0.hint()\n",
    "q0.solution()"
   ]
  },
  {
   "cell_type": "markdown",
   "id": "ed091a3d",
   "metadata": {
    "papermill": {
     "duration": 0.008003,
     "end_time": "2023-02-17T11:43:17.256939",
     "exception": false,
     "start_time": "2023-02-17T11:43:17.248936",
     "status": "completed"
    },
    "tags": []
   },
   "source": [
    "The upcoming questions work the same way. The only thing that will change are the question numbers. For the next question, you'll call `q1.check()`, `q1.hint()`, `q1.solution()`, for question 2, you'll call `q2.check()`, and so on."
   ]
  },
  {
   "cell_type": "markdown",
   "id": "078401b5",
   "metadata": {
    "papermill": {
     "duration": 0.007996,
     "end_time": "2023-02-17T11:43:17.273075",
     "exception": false,
     "start_time": "2023-02-17T11:43:17.265079",
     "status": "completed"
    },
    "tags": []
   },
   "source": [
    "<hr/>\n",
    "\n",
    "# 1.\n",
    "\n",
    "Complete the code below. In case it's helpful, here is the table of available arithmetic operations:\n",
    "\n",
    "\n",
    "\n",
    "| Operator     | Name           | Description                                            |\n",
    "|--------------|----------------|--------------------------------------------------------|\n",
    "| ``a + b``    | Addition       | Sum of ``a`` and ``b``                                 |\n",
    "| ``a - b``    | Subtraction    | Difference of ``a`` and ``b``                          |\n",
    "| ``a * b``    | Multiplication | Product of ``a`` and ``b``                             |\n",
    "| ``a / b``    | True division  | Quotient of ``a`` and ``b``                            |\n",
    "| ``a // b``   | Floor division | Quotient of ``a`` and ``b``, removing fractional parts |\n",
    "| ``a % b``    | Modulus        | Integer remainder after division of ``a`` by ``b``     |\n",
    "| ``a ** b``   | Exponentiation | ``a`` raised to the power of ``b``                     |\n",
    "| ``-a``       | Negation       | The negative of ``a``                                  |\n",
    "\n",
    "<span style=\"display:none\"></span>\n"
   ]
  },
  {
   "cell_type": "code",
   "execution_count": 5,
   "id": "6e695b70",
   "metadata": {
    "execution": {
     "iopub.execute_input": "2023-02-17T11:43:17.291846Z",
     "iopub.status.busy": "2023-02-17T11:43:17.291168Z",
     "iopub.status.idle": "2023-02-17T11:43:17.300910Z",
     "shell.execute_reply": "2023-02-17T11:43:17.300004Z"
    },
    "papermill": {
     "duration": 0.021891,
     "end_time": "2023-02-17T11:43:17.303334",
     "exception": false,
     "start_time": "2023-02-17T11:43:17.281443",
     "status": "completed"
    },
    "tags": []
   },
   "outputs": [
    {
     "data": {
      "application/javascript": [
       "parent.postMessage({\"jupyterEvent\": \"custom.exercise_interaction\", \"data\": {\"outcomeType\": 1, \"valueTowardsCompletion\": 0.25, \"interactionType\": 1, \"questionType\": 1, \"questionId\": \"1_CircleArea\", \"learnToolsVersion\": \"0.3.4\", \"failureMessage\": \"\", \"exceptionClass\": \"\", \"trace\": \"\"}}, \"*\")"
      ],
      "text/plain": [
       "<IPython.core.display.Javascript object>"
      ]
     },
     "metadata": {},
     "output_type": "display_data"
    },
    {
     "data": {
      "text/markdown": [
       "<span style=\"color:#33cc33\">Correct</span>"
      ],
      "text/plain": [
       "Correct"
      ]
     },
     "metadata": {},
     "output_type": "display_data"
    }
   ],
   "source": [
    "pi = 3.14159 # approximate\n",
    "diameter = 3\n",
    "\n",
    "# Create a variable called 'radius' equal to half the diameter\n",
    "radius = 1.5\n",
    "\n",
    "# Create a variable called 'area', using the formula for the area of a circle: pi times the radius squared\n",
    "area = pi * radius ** 2\n",
    "\n",
    "# Check your answer\n",
    "q1.check()"
   ]
  },
  {
   "cell_type": "code",
   "execution_count": 6,
   "id": "5e644afb",
   "metadata": {
    "execution": {
     "iopub.execute_input": "2023-02-17T11:43:17.322051Z",
     "iopub.status.busy": "2023-02-17T11:43:17.321603Z",
     "iopub.status.idle": "2023-02-17T11:43:17.326223Z",
     "shell.execute_reply": "2023-02-17T11:43:17.324938Z"
    },
    "papermill": {
     "duration": 0.016805,
     "end_time": "2023-02-17T11:43:17.328523",
     "exception": false,
     "start_time": "2023-02-17T11:43:17.311718",
     "status": "completed"
    },
    "tags": []
   },
   "outputs": [],
   "source": [
    "# Uncomment and run the lines below if you need help.\n",
    "#q1.hint()\n",
    "#q1.solution()"
   ]
  },
  {
   "cell_type": "markdown",
   "id": "34003f0a",
   "metadata": {
    "papermill": {
     "duration": 0.007999,
     "end_time": "2023-02-17T11:43:17.344934",
     "exception": false,
     "start_time": "2023-02-17T11:43:17.336935",
     "status": "completed"
    },
    "tags": []
   },
   "source": [
    "<hr/>\n",
    "\n",
    "# 2.\n",
    "\n",
    "Add code to the following cell to swap variables `a` and `b` (so that `a` refers to the object previously referred to by `b` and vice versa)."
   ]
  },
  {
   "cell_type": "code",
   "execution_count": 7,
   "id": "64a3c691",
   "metadata": {
    "execution": {
     "iopub.execute_input": "2023-02-17T11:43:17.363132Z",
     "iopub.status.busy": "2023-02-17T11:43:17.362706Z",
     "iopub.status.idle": "2023-02-17T11:43:17.372982Z",
     "shell.execute_reply": "2023-02-17T11:43:17.371952Z"
    },
    "papermill": {
     "duration": 0.021778,
     "end_time": "2023-02-17T11:43:17.375023",
     "exception": false,
     "start_time": "2023-02-17T11:43:17.353245",
     "status": "completed"
    },
    "tags": []
   },
   "outputs": [
    {
     "data": {
      "application/javascript": [
       "parent.postMessage({\"jupyterEvent\": \"custom.exercise_interaction\", \"data\": {\"outcomeType\": 1, \"valueTowardsCompletion\": 0.25, \"interactionType\": 1, \"questionType\": 2, \"questionId\": \"2_VariableSwap\", \"learnToolsVersion\": \"0.3.4\", \"failureMessage\": \"\", \"exceptionClass\": \"\", \"trace\": \"\"}}, \"*\")"
      ],
      "text/plain": [
       "<IPython.core.display.Javascript object>"
      ]
     },
     "metadata": {},
     "output_type": "display_data"
    },
    {
     "data": {
      "text/markdown": [
       "<span style=\"color:#33cc33\">Correct:</span> \n",
       "\n",
       "The most straightforward solution is to use a third variable to temporarily store one of the old values. e.g.:\n",
       "\n",
       "    tmp = a\n",
       "    a = b\n",
       "    b = tmp\n",
       "\n",
       "If you've read lots of Python code, you might have seen the following trick to swap two variables in one line:\n",
       "\n",
       "    a, b = b, a\n",
       "\n",
       "We'll demystify this bit of Python magic later when we talk about *tuples*."
      ],
      "text/plain": [
       "Correct: \n",
       "\n",
       "The most straightforward solution is to use a third variable to temporarily store one of the old values. e.g.:\n",
       "\n",
       "    tmp = a\n",
       "    a = b\n",
       "    b = tmp\n",
       "\n",
       "If you've read lots of Python code, you might have seen the following trick to swap two variables in one line:\n",
       "\n",
       "    a, b = b, a\n",
       "\n",
       "We'll demystify this bit of Python magic later when we talk about *tuples*."
      ]
     },
     "metadata": {},
     "output_type": "display_data"
    }
   ],
   "source": [
    "########### Setup code - don't touch this part ######################\n",
    "# If you're curious, these are examples of lists. We'll talk about \n",
    "# them in depth a few lessons from now. For now, just know that they're\n",
    "# yet another type of Python object, like int or float.\n",
    "a = [1, 2, 3]\n",
    "b = [3, 2, 1]\n",
    "q2.store_original_ids()\n",
    "######################################################################\n",
    "\n",
    "# Your code goes here. Swap the values to which a and b refer.\n",
    "# If you get stuck, you can always uncomment one or both of the lines in\n",
    "# the next cell for a hint, or to peek at the solution.\n",
    "a , b = b , a\n",
    "\n",
    "######################################################################\n",
    "\n",
    "# Check your answer\n",
    "q2.check()"
   ]
  },
  {
   "cell_type": "code",
   "execution_count": 8,
   "id": "5310a999",
   "metadata": {
    "execution": {
     "iopub.execute_input": "2023-02-17T11:43:17.394467Z",
     "iopub.status.busy": "2023-02-17T11:43:17.393278Z",
     "iopub.status.idle": "2023-02-17T11:43:17.397972Z",
     "shell.execute_reply": "2023-02-17T11:43:17.397144Z"
    },
    "papermill": {
     "duration": 0.016537,
     "end_time": "2023-02-17T11:43:17.400114",
     "exception": false,
     "start_time": "2023-02-17T11:43:17.383577",
     "status": "completed"
    },
    "tags": []
   },
   "outputs": [],
   "source": [
    "#q2.hint()"
   ]
  },
  {
   "cell_type": "code",
   "execution_count": 9,
   "id": "0913bca7",
   "metadata": {
    "execution": {
     "iopub.execute_input": "2023-02-17T11:43:17.419346Z",
     "iopub.status.busy": "2023-02-17T11:43:17.418520Z",
     "iopub.status.idle": "2023-02-17T11:43:17.423429Z",
     "shell.execute_reply": "2023-02-17T11:43:17.422252Z"
    },
    "papermill": {
     "duration": 0.017103,
     "end_time": "2023-02-17T11:43:17.425902",
     "exception": false,
     "start_time": "2023-02-17T11:43:17.408799",
     "status": "completed"
    },
    "tags": []
   },
   "outputs": [],
   "source": [
    "#q2.solution()"
   ]
  },
  {
   "cell_type": "markdown",
   "id": "88a2fde1",
   "metadata": {
    "papermill": {
     "duration": 0.00828,
     "end_time": "2023-02-17T11:43:17.443074",
     "exception": false,
     "start_time": "2023-02-17T11:43:17.434794",
     "status": "completed"
    },
    "tags": []
   },
   "source": [
    "<hr/>\n",
    "\n",
    "# 3a.\n",
    "\n",
    "Add parentheses to the following expression so that it evaluates to 1."
   ]
  },
  {
   "cell_type": "code",
   "execution_count": 10,
   "id": "afb85744",
   "metadata": {
    "execution": {
     "iopub.execute_input": "2023-02-17T11:43:17.461666Z",
     "iopub.status.busy": "2023-02-17T11:43:17.461253Z",
     "iopub.status.idle": "2023-02-17T11:43:17.468006Z",
     "shell.execute_reply": "2023-02-17T11:43:17.467055Z"
    },
    "papermill": {
     "duration": 0.018629,
     "end_time": "2023-02-17T11:43:17.470129",
     "exception": false,
     "start_time": "2023-02-17T11:43:17.451500",
     "status": "completed"
    },
    "tags": []
   },
   "outputs": [
    {
     "data": {
      "text/plain": [
       "1"
      ]
     },
     "execution_count": 10,
     "metadata": {},
     "output_type": "execute_result"
    }
   ],
   "source": [
    "( 5 - 3 ) // 2\n"
   ]
  },
  {
   "cell_type": "code",
   "execution_count": 11,
   "id": "be90ce22",
   "metadata": {
    "execution": {
     "iopub.execute_input": "2023-02-17T11:43:17.489819Z",
     "iopub.status.busy": "2023-02-17T11:43:17.489152Z",
     "iopub.status.idle": "2023-02-17T11:43:17.492922Z",
     "shell.execute_reply": "2023-02-17T11:43:17.492114Z"
    },
    "papermill": {
     "duration": 0.016381,
     "end_time": "2023-02-17T11:43:17.495223",
     "exception": false,
     "start_time": "2023-02-17T11:43:17.478842",
     "status": "completed"
    },
    "tags": []
   },
   "outputs": [],
   "source": [
    "#q3.a.hint()"
   ]
  },
  {
   "cell_type": "code",
   "execution_count": 12,
   "id": "faba34a8",
   "metadata": {
    "execution": {
     "iopub.execute_input": "2023-02-17T11:43:17.514625Z",
     "iopub.status.busy": "2023-02-17T11:43:17.514179Z",
     "iopub.status.idle": "2023-02-17T11:43:17.523820Z",
     "shell.execute_reply": "2023-02-17T11:43:17.522632Z"
    },
    "papermill": {
     "duration": 0.022354,
     "end_time": "2023-02-17T11:43:17.526242",
     "exception": false,
     "start_time": "2023-02-17T11:43:17.503888",
     "status": "completed"
    },
    "tags": []
   },
   "outputs": [
    {
     "data": {
      "application/javascript": [
       "parent.postMessage({\"jupyterEvent\": \"custom.exercise_interaction\", \"data\": {\"interactionType\": 3, \"questionType\": 4, \"questionId\": \"3.1_ArithmeticParensEasy\", \"learnToolsVersion\": \"0.3.4\", \"valueTowardsCompletion\": 0.0, \"failureMessage\": \"\", \"exceptionClass\": \"\", \"trace\": \"\", \"outcomeType\": 4}}, \"*\")"
      ],
      "text/plain": [
       "<IPython.core.display.Javascript object>"
      ]
     },
     "metadata": {},
     "output_type": "display_data"
    },
    {
     "data": {
      "text/markdown": [
       "<span style=\"color:#33cc99\">Solution:</span> \n",
       "```python\n",
       "(5 - 3) // 2\n",
       "```"
      ],
      "text/plain": [
       "Solution: \n",
       "```python\n",
       "(5 - 3) // 2\n",
       "```"
      ]
     },
     "metadata": {},
     "output_type": "display_data"
    }
   ],
   "source": [
    "# Check your answer (Run this code cell to receive credit!)\n",
    "q3.a.solution()"
   ]
  },
  {
   "cell_type": "markdown",
   "id": "234d4cea",
   "metadata": {
    "papermill": {
     "duration": 0.008563,
     "end_time": "2023-02-17T11:43:17.543780",
     "exception": false,
     "start_time": "2023-02-17T11:43:17.535217",
     "status": "completed"
    },
    "tags": []
   },
   "source": [
    "# 3b.  <span title=\"A bit spicy\" style=\"color: darkgreen \">🌶️</span>\n",
    "\n",
    "<small>Questions, like this one, marked a spicy pepper are a bit harder.</small>\n",
    "\n",
    "Add parentheses to the following expression so that it evaluates to 0."
   ]
  },
  {
   "cell_type": "code",
   "execution_count": 13,
   "id": "f5f0c9e3",
   "metadata": {
    "execution": {
     "iopub.execute_input": "2023-02-17T11:43:17.564219Z",
     "iopub.status.busy": "2023-02-17T11:43:17.563537Z",
     "iopub.status.idle": "2023-02-17T11:43:17.570423Z",
     "shell.execute_reply": "2023-02-17T11:43:17.569418Z"
    },
    "papermill": {
     "duration": 0.019488,
     "end_time": "2023-02-17T11:43:17.572570",
     "exception": false,
     "start_time": "2023-02-17T11:43:17.553082",
     "status": "completed"
    },
    "tags": []
   },
   "outputs": [
    {
     "data": {
      "text/plain": [
       "0"
      ]
     },
     "execution_count": 13,
     "metadata": {},
     "output_type": "execute_result"
    }
   ],
   "source": [
    "( 8 - 3 ) * ( 2 - ( 1 + 1 ) )"
   ]
  },
  {
   "cell_type": "code",
   "execution_count": 14,
   "id": "99eeff0e",
   "metadata": {
    "execution": {
     "iopub.execute_input": "2023-02-17T11:43:17.592080Z",
     "iopub.status.busy": "2023-02-17T11:43:17.591593Z",
     "iopub.status.idle": "2023-02-17T11:43:17.596438Z",
     "shell.execute_reply": "2023-02-17T11:43:17.595335Z"
    },
    "papermill": {
     "duration": 0.017305,
     "end_time": "2023-02-17T11:43:17.598716",
     "exception": false,
     "start_time": "2023-02-17T11:43:17.581411",
     "status": "completed"
    },
    "tags": []
   },
   "outputs": [],
   "source": [
    "#q3.b.hint()"
   ]
  },
  {
   "cell_type": "code",
   "execution_count": 15,
   "id": "443ed8fd",
   "metadata": {
    "execution": {
     "iopub.execute_input": "2023-02-17T11:43:17.618448Z",
     "iopub.status.busy": "2023-02-17T11:43:17.618042Z",
     "iopub.status.idle": "2023-02-17T11:43:17.626112Z",
     "shell.execute_reply": "2023-02-17T11:43:17.625112Z"
    },
    "papermill": {
     "duration": 0.02052,
     "end_time": "2023-02-17T11:43:17.628192",
     "exception": false,
     "start_time": "2023-02-17T11:43:17.607672",
     "status": "completed"
    },
    "tags": []
   },
   "outputs": [
    {
     "data": {
      "application/javascript": [
       "parent.postMessage({\"jupyterEvent\": \"custom.exercise_interaction\", \"data\": {\"interactionType\": 3, \"questionType\": 4, \"questionId\": \"3.2_ArithmeticParensHard\", \"learnToolsVersion\": \"0.3.4\", \"valueTowardsCompletion\": 0.0, \"failureMessage\": \"\", \"exceptionClass\": \"\", \"trace\": \"\", \"outcomeType\": 4}}, \"*\")"
      ],
      "text/plain": [
       "<IPython.core.display.Javascript object>"
      ]
     },
     "metadata": {},
     "output_type": "display_data"
    },
    {
     "data": {
      "text/markdown": [
       "<span style=\"color:#33cc99\">Solution:</span> `(8 - 3) * (2 - (1 + 1))` is one solution. There may be others."
      ],
      "text/plain": [
       "Solution: `(8 - 3) * (2 - (1 + 1))` is one solution. There may be others."
      ]
     },
     "metadata": {},
     "output_type": "display_data"
    }
   ],
   "source": [
    "# Check your answer (Run this code cell to receive credit!)\n",
    "q3.b.solution()"
   ]
  },
  {
   "cell_type": "markdown",
   "id": "2d742598",
   "metadata": {
    "papermill": {
     "duration": 0.008813,
     "end_time": "2023-02-17T11:43:17.646221",
     "exception": false,
     "start_time": "2023-02-17T11:43:17.637408",
     "status": "completed"
    },
    "tags": []
   },
   "source": [
    "<hr/>\n",
    "\n",
    "# 4. \n",
    "Alice, Bob and Carol have agreed to pool their Halloween candy and split it evenly among themselves.\n",
    "For the sake of their friendship, any candies left over will be smashed. For example, if they collectively\n",
    "bring home 91 candies, they'll take 30 each and smash 1.\n",
    "\n",
    "Write an arithmetic expression below to calculate how many candies they must smash for a given haul."
   ]
  },
  {
   "cell_type": "code",
   "execution_count": 16,
   "id": "6a18615a",
   "metadata": {
    "execution": {
     "iopub.execute_input": "2023-02-17T11:43:17.666699Z",
     "iopub.status.busy": "2023-02-17T11:43:17.666033Z",
     "iopub.status.idle": "2023-02-17T11:43:17.673762Z",
     "shell.execute_reply": "2023-02-17T11:43:17.673010Z"
    },
    "papermill": {
     "duration": 0.020457,
     "end_time": "2023-02-17T11:43:17.675765",
     "exception": false,
     "start_time": "2023-02-17T11:43:17.655308",
     "status": "completed"
    },
    "tags": []
   },
   "outputs": [
    {
     "data": {
      "application/javascript": [
       "parent.postMessage({\"jupyterEvent\": \"custom.exercise_interaction\", \"data\": {\"outcomeType\": 1, \"valueTowardsCompletion\": 0.25, \"interactionType\": 1, \"questionType\": 1, \"questionId\": \"4_CandySplitting\", \"learnToolsVersion\": \"0.3.4\", \"failureMessage\": \"\", \"exceptionClass\": \"\", \"trace\": \"\"}}, \"*\")"
      ],
      "text/plain": [
       "<IPython.core.display.Javascript object>"
      ]
     },
     "metadata": {},
     "output_type": "display_data"
    },
    {
     "data": {
      "text/markdown": [
       "<span style=\"color:#33cc33\">Correct</span>"
      ],
      "text/plain": [
       "Correct"
      ]
     },
     "metadata": {},
     "output_type": "display_data"
    }
   ],
   "source": [
    "# Variables representing the number of candies collected by alice, bob, and carol\n",
    "alice_candies = 121\n",
    "bob_candies = 77\n",
    "carol_candies = 109\n",
    "\n",
    "# Your code goes here! Replace the right-hand side of this assignment with an expression\n",
    "# involving alice_candies, bob_candies, and carol_candies\n",
    "to_smash = ( alice_candies + bob_candies + carol_candies ) % 3\n",
    "\n",
    "# Check your answer\n",
    "q4.check()"
   ]
  },
  {
   "cell_type": "code",
   "execution_count": 17,
   "id": "1befcc13",
   "metadata": {
    "execution": {
     "iopub.execute_input": "2023-02-17T11:43:17.696288Z",
     "iopub.status.busy": "2023-02-17T11:43:17.695847Z",
     "iopub.status.idle": "2023-02-17T11:43:17.700410Z",
     "shell.execute_reply": "2023-02-17T11:43:17.699432Z"
    },
    "papermill": {
     "duration": 0.017369,
     "end_time": "2023-02-17T11:43:17.702592",
     "exception": false,
     "start_time": "2023-02-17T11:43:17.685223",
     "status": "completed"
    },
    "tags": []
   },
   "outputs": [],
   "source": [
    "#q4.hint()\n",
    "#q4.solution()"
   ]
  },
  {
   "cell_type": "markdown",
   "id": "ada3169f",
   "metadata": {
    "papermill": {
     "duration": 0.009428,
     "end_time": "2023-02-17T11:43:17.721487",
     "exception": false,
     "start_time": "2023-02-17T11:43:17.712059",
     "status": "completed"
    },
    "tags": []
   },
   "source": [
    "# Keep Going\n",
    "\n",
    "Next up, you'll **[learn to write new functions and understand functions others write](https://www.kaggle.com/colinmorris/functions-and-getting-help)**. This will make you at least 10 times more productive as a Python programmer. "
   ]
  },
  {
   "cell_type": "markdown",
   "id": "00d8c42d",
   "metadata": {
    "papermill": {
     "duration": 0.009306,
     "end_time": "2023-02-17T11:43:17.740144",
     "exception": false,
     "start_time": "2023-02-17T11:43:17.730838",
     "status": "completed"
    },
    "tags": []
   },
   "source": [
    "---\n",
    "\n",
    "\n",
    "\n",
    "\n",
    "*Have questions or comments? Visit the [course discussion forum](https://www.kaggle.com/learn/python/discussion) to chat with other learners.*"
   ]
  }
 ],
 "metadata": {
  "kernelspec": {
   "display_name": "Python 3",
   "language": "python",
   "name": "python3"
  },
  "language_info": {
   "codemirror_mode": {
    "name": "ipython",
    "version": 3
   },
   "file_extension": ".py",
   "mimetype": "text/x-python",
   "name": "python",
   "nbconvert_exporter": "python",
   "pygments_lexer": "ipython3",
   "version": "3.7.12"
  },
  "papermill": {
   "default_parameters": {},
   "duration": 11.213861,
   "end_time": "2023-02-17T11:43:18.472680",
   "environment_variables": {},
   "exception": null,
   "input_path": "__notebook__.ipynb",
   "output_path": "__notebook__.ipynb",
   "parameters": {},
   "start_time": "2023-02-17T11:43:07.258819",
   "version": "2.3.4"
  }
 },
 "nbformat": 4,
 "nbformat_minor": 5
}
