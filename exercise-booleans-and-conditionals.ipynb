{
 "cells": [
  {
   "cell_type": "markdown",
   "id": "499f08f6",
   "metadata": {
    "papermill": {
     "duration": 0.010397,
     "end_time": "2023-02-17T13:23:20.019949",
     "exception": false,
     "start_time": "2023-02-17T13:23:20.009552",
     "status": "completed"
    },
    "tags": []
   },
   "source": [
    "**This notebook is an exercise in the [Python](https://www.kaggle.com/learn/python) course.  You can reference the tutorial at [this link](https://www.kaggle.com/colinmorris/booleans-and-conditionals).**\n",
    "\n",
    "---\n"
   ]
  },
  {
   "cell_type": "markdown",
   "id": "eadb0450",
   "metadata": {
    "papermill": {
     "duration": 0.00858,
     "end_time": "2023-02-17T13:23:20.037544",
     "exception": false,
     "start_time": "2023-02-17T13:23:20.028964",
     "status": "completed"
    },
    "tags": []
   },
   "source": [
    "In this exercise, you'll put to work what you have learned about booleans and conditionals.\n",
    "\n",
    "To get started, **run the setup code below** before writing your own code (and if you leave this notebook and come back later, don't forget to run the setup code again)."
   ]
  },
  {
   "cell_type": "code",
   "execution_count": 1,
   "id": "5674ed2d",
   "metadata": {
    "execution": {
     "iopub.execute_input": "2023-02-17T13:23:20.057193Z",
     "iopub.status.busy": "2023-02-17T13:23:20.056724Z",
     "iopub.status.idle": "2023-02-17T13:23:20.100695Z",
     "shell.execute_reply": "2023-02-17T13:23:20.099912Z"
    },
    "papermill": {
     "duration": 0.057223,
     "end_time": "2023-02-17T13:23:20.103696",
     "exception": false,
     "start_time": "2023-02-17T13:23:20.046473",
     "status": "completed"
    },
    "tags": []
   },
   "outputs": [
    {
     "name": "stdout",
     "output_type": "stream",
     "text": [
      "Setup complete.\n"
     ]
    }
   ],
   "source": [
    "from learntools.core import binder; binder.bind(globals())\n",
    "from learntools.python.ex3 import *\n",
    "print('Setup complete.')"
   ]
  },
  {
   "cell_type": "markdown",
   "id": "c555d243",
   "metadata": {
    "papermill": {
     "duration": 0.00889,
     "end_time": "2023-02-17T13:23:20.121565",
     "exception": false,
     "start_time": "2023-02-17T13:23:20.112675",
     "status": "completed"
    },
    "tags": []
   },
   "source": [
    "# 1.\n",
    "\n",
    "Many programming languages have [`sign`](https://en.wikipedia.org/wiki/Sign_function) available as a built-in function. Python doesn't, but we can define our own!\n",
    "\n",
    "In the cell below, define a function called `sign` which takes a numerical argument and returns -1 if it's negative, 1 if it's positive, and 0 if it's 0."
   ]
  },
  {
   "cell_type": "code",
   "execution_count": 2,
   "id": "bfe1922a",
   "metadata": {
    "execution": {
     "iopub.execute_input": "2023-02-17T13:23:20.142073Z",
     "iopub.status.busy": "2023-02-17T13:23:20.141049Z",
     "iopub.status.idle": "2023-02-17T13:23:20.151842Z",
     "shell.execute_reply": "2023-02-17T13:23:20.150817Z"
    },
    "papermill": {
     "duration": 0.023535,
     "end_time": "2023-02-17T13:23:20.154264",
     "exception": false,
     "start_time": "2023-02-17T13:23:20.130729",
     "status": "completed"
    },
    "tags": []
   },
   "outputs": [
    {
     "data": {
      "application/javascript": [
       "parent.postMessage({\"jupyterEvent\": \"custom.exercise_interaction\", \"data\": {\"outcomeType\": 1, \"valueTowardsCompletion\": 0.2, \"interactionType\": 1, \"questionType\": 2, \"questionId\": \"1_SignFunctionProblem\", \"learnToolsVersion\": \"0.3.4\", \"failureMessage\": \"\", \"exceptionClass\": \"\", \"trace\": \"\"}}, \"*\")"
      ],
      "text/plain": [
       "<IPython.core.display.Javascript object>"
      ]
     },
     "metadata": {},
     "output_type": "display_data"
    },
    {
     "data": {
      "text/markdown": [
       "<span style=\"color:#33cc33\">Correct</span>"
      ],
      "text/plain": [
       "Correct"
      ]
     },
     "metadata": {},
     "output_type": "display_data"
    }
   ],
   "source": [
    "# Your code goes here. Define a function called 'sign'\n",
    "def sign(num) :\n",
    "    if num == 0 :\n",
    "        return 0\n",
    "    elif num > 0 :\n",
    "        return 1\n",
    "    else :\n",
    "        return -1\n",
    "\n",
    "\n",
    "# Check your answer\n",
    "q1.check()"
   ]
  },
  {
   "cell_type": "code",
   "execution_count": 3,
   "id": "f8bc500d",
   "metadata": {
    "execution": {
     "iopub.execute_input": "2023-02-17T13:23:20.174973Z",
     "iopub.status.busy": "2023-02-17T13:23:20.173833Z",
     "iopub.status.idle": "2023-02-17T13:23:20.178691Z",
     "shell.execute_reply": "2023-02-17T13:23:20.177876Z"
    },
    "papermill": {
     "duration": 0.017113,
     "end_time": "2023-02-17T13:23:20.180669",
     "exception": false,
     "start_time": "2023-02-17T13:23:20.163556",
     "status": "completed"
    },
    "tags": []
   },
   "outputs": [],
   "source": [
    "# q1.solution()"
   ]
  },
  {
   "cell_type": "markdown",
   "id": "6d52c93b",
   "metadata": {
    "papermill": {
     "duration": 0.008928,
     "end_time": "2023-02-17T13:23:20.198780",
     "exception": false,
     "start_time": "2023-02-17T13:23:20.189852",
     "status": "completed"
    },
    "tags": []
   },
   "source": [
    "# 2.\n",
    "\n",
    "We've decided to add \"logging\" to our `to_smash` function from the previous exercise."
   ]
  },
  {
   "cell_type": "code",
   "execution_count": 4,
   "id": "9297da8c",
   "metadata": {
    "execution": {
     "iopub.execute_input": "2023-02-17T13:23:20.219333Z",
     "iopub.status.busy": "2023-02-17T13:23:20.218227Z",
     "iopub.status.idle": "2023-02-17T13:23:20.232242Z",
     "shell.execute_reply": "2023-02-17T13:23:20.230872Z"
    },
    "papermill": {
     "duration": 0.026494,
     "end_time": "2023-02-17T13:23:20.234361",
     "exception": false,
     "start_time": "2023-02-17T13:23:20.207867",
     "status": "completed"
    },
    "tags": []
   },
   "outputs": [
    {
     "name": "stdout",
     "output_type": "stream",
     "text": [
      "Splitting 91 candies\n"
     ]
    },
    {
     "data": {
      "text/plain": [
       "1"
      ]
     },
     "execution_count": 4,
     "metadata": {},
     "output_type": "execute_result"
    }
   ],
   "source": [
    "def to_smash(total_candies):\n",
    "    \"\"\"Return the number of leftover candies that must be smashed after distributing\n",
    "    the given number of candies evenly between 3 friends.\n",
    "    \n",
    "    >>> to_smash(91)\n",
    "    1\n",
    "    \"\"\"\n",
    "    print(\"Splitting\", total_candies, \"candies\")\n",
    "    return total_candies % 3\n",
    "\n",
    "to_smash(91)"
   ]
  },
  {
   "cell_type": "markdown",
   "id": "c73cb4b2",
   "metadata": {
    "papermill": {
     "duration": 0.008979,
     "end_time": "2023-02-17T13:23:20.252863",
     "exception": false,
     "start_time": "2023-02-17T13:23:20.243884",
     "status": "completed"
    },
    "tags": []
   },
   "source": [
    "What happens if we call it with `total_candies = 1`?"
   ]
  },
  {
   "cell_type": "code",
   "execution_count": 5,
   "id": "9702565f",
   "metadata": {
    "execution": {
     "iopub.execute_input": "2023-02-17T13:23:20.273282Z",
     "iopub.status.busy": "2023-02-17T13:23:20.272396Z",
     "iopub.status.idle": "2023-02-17T13:23:20.280207Z",
     "shell.execute_reply": "2023-02-17T13:23:20.278854Z"
    },
    "papermill": {
     "duration": 0.020463,
     "end_time": "2023-02-17T13:23:20.282591",
     "exception": false,
     "start_time": "2023-02-17T13:23:20.262128",
     "status": "completed"
    },
    "tags": []
   },
   "outputs": [
    {
     "name": "stdout",
     "output_type": "stream",
     "text": [
      "Splitting 1 candies\n"
     ]
    },
    {
     "data": {
      "text/plain": [
       "1"
      ]
     },
     "execution_count": 5,
     "metadata": {},
     "output_type": "execute_result"
    }
   ],
   "source": [
    "to_smash(1)"
   ]
  },
  {
   "cell_type": "markdown",
   "id": "ac4db18e",
   "metadata": {
    "papermill": {
     "duration": 0.009334,
     "end_time": "2023-02-17T13:23:20.301562",
     "exception": false,
     "start_time": "2023-02-17T13:23:20.292228",
     "status": "completed"
    },
    "tags": []
   },
   "source": [
    "That isn't great grammar!\n",
    "\n",
    "Modify the definition in the cell below to correct the grammar of our print statement. (If there's only one candy, we should use the singular \"candy\" instead of the plural \"candies\")"
   ]
  },
  {
   "cell_type": "code",
   "execution_count": 6,
   "id": "97e398cd",
   "metadata": {
    "execution": {
     "iopub.execute_input": "2023-02-17T13:23:20.322739Z",
     "iopub.status.busy": "2023-02-17T13:23:20.321997Z",
     "iopub.status.idle": "2023-02-17T13:23:20.331776Z",
     "shell.execute_reply": "2023-02-17T13:23:20.330566Z"
    },
    "papermill": {
     "duration": 0.022775,
     "end_time": "2023-02-17T13:23:20.333912",
     "exception": false,
     "start_time": "2023-02-17T13:23:20.311137",
     "status": "completed"
    },
    "tags": []
   },
   "outputs": [
    {
     "name": "stdout",
     "output_type": "stream",
     "text": [
      "Splitting 91 candies\n",
      "Splitting 1 candy \n"
     ]
    },
    {
     "data": {
      "text/plain": [
       "1"
      ]
     },
     "execution_count": 6,
     "metadata": {},
     "output_type": "execute_result"
    }
   ],
   "source": [
    "def to_smash(total_candies):\n",
    "    \"\"\"Return the number of leftover candies that must be smashed after distributing\n",
    "    the given number of candies evenly between 3 friends.\n",
    "    \n",
    "    >>> to_smash(91)\n",
    "    1\n",
    "    \"\"\"\n",
    "#     if total_candies > 1 :\n",
    "#         print(\"Splitting\", total_candies, \"candies\")\n",
    "#     else :\n",
    "#         print(\"Splitting\", total_candies, \"candy\")\n",
    "\n",
    "    print(\"Splitting\", total_candies, \"candy \" if total_candies == 1 else \"candies\")\n",
    "        \n",
    "    return total_candies % 3\n",
    "\n",
    "to_smash(91)\n",
    "to_smash(1)"
   ]
  },
  {
   "cell_type": "markdown",
   "id": "d875751a",
   "metadata": {
    "papermill": {
     "duration": 0.00928,
     "end_time": "2023-02-17T13:23:20.352995",
     "exception": false,
     "start_time": "2023-02-17T13:23:20.343715",
     "status": "completed"
    },
    "tags": []
   },
   "source": [
    "To get credit for completing this problem, and to see the official answer, run the code cell below."
   ]
  },
  {
   "cell_type": "code",
   "execution_count": 7,
   "id": "a01492eb",
   "metadata": {
    "execution": {
     "iopub.execute_input": "2023-02-17T13:23:20.373811Z",
     "iopub.status.busy": "2023-02-17T13:23:20.373406Z",
     "iopub.status.idle": "2023-02-17T13:23:20.382081Z",
     "shell.execute_reply": "2023-02-17T13:23:20.380982Z"
    },
    "papermill": {
     "duration": 0.021402,
     "end_time": "2023-02-17T13:23:20.384081",
     "exception": false,
     "start_time": "2023-02-17T13:23:20.362679",
     "status": "completed"
    },
    "tags": []
   },
   "outputs": [
    {
     "data": {
      "application/javascript": [
       "parent.postMessage({\"jupyterEvent\": \"custom.exercise_interaction\", \"data\": {\"interactionType\": 3, \"questionType\": 4, \"questionId\": \"2_PluralizationProblem\", \"learnToolsVersion\": \"0.3.4\", \"valueTowardsCompletion\": 0.0, \"failureMessage\": \"\", \"exceptionClass\": \"\", \"trace\": \"\", \"outcomeType\": 4}}, \"*\")"
      ],
      "text/plain": [
       "<IPython.core.display.Javascript object>"
      ]
     },
     "metadata": {},
     "output_type": "display_data"
    },
    {
     "data": {
      "text/markdown": [
       "<span style=\"color:#33cc99\">Solution:</span> A straightforward (and totally fine) solution is to replace the original `print` call with:\n",
       "\n",
       "```python\n",
       "if total_candies == 1:\n",
       "    print(\"Splitting 1 candy\")\n",
       "else:\n",
       "    print(\"Splitting\", total_candies, \"candies\")\n",
       "```\n",
       "\n",
       "Here's a slightly more succinct solution using a conditional expression:\n",
       "\n",
       "```python\n",
       "print(\"Splitting\", total_candies, \"candy\" if total_candies == 1 else \"candies\")\n",
       "```"
      ],
      "text/plain": [
       "Solution: A straightforward (and totally fine) solution is to replace the original `print` call with:\n",
       "\n",
       "```python\n",
       "if total_candies == 1:\n",
       "    print(\"Splitting 1 candy\")\n",
       "else:\n",
       "    print(\"Splitting\", total_candies, \"candies\")\n",
       "```\n",
       "\n",
       "Here's a slightly more succinct solution using a conditional expression:\n",
       "\n",
       "```python\n",
       "print(\"Splitting\", total_candies, \"candy\" if total_candies == 1 else \"candies\")\n",
       "```"
      ]
     },
     "metadata": {},
     "output_type": "display_data"
    }
   ],
   "source": [
    "# Check your answer (Run this code cell to receive credit!)\n",
    "q2.solution()"
   ]
  },
  {
   "cell_type": "markdown",
   "id": "85546efb",
   "metadata": {
    "papermill": {
     "duration": 0.009614,
     "end_time": "2023-02-17T13:23:20.403593",
     "exception": false,
     "start_time": "2023-02-17T13:23:20.393979",
     "status": "completed"
    },
    "tags": []
   },
   "source": [
    "# 3. <span title=\"A bit spicy\" style=\"color: darkgreen \">🌶️</span>\n",
    "\n",
    "In the tutorial, we talked about deciding whether we're prepared for the weather. I said that I'm safe from today's weather if...\n",
    "- I have an umbrella...\n",
    "- or if the rain isn't too heavy and I have a hood...\n",
    "- otherwise, I'm still fine unless it's raining *and* it's a workday\n",
    "\n",
    "The function below uses our first attempt at turning this logic into a Python expression. I claimed that there was a bug in that code. Can you find it?\n",
    "\n",
    "To prove that `prepared_for_weather` is buggy, come up with a set of inputs where either:\n",
    "- the function returns `False` (but should have returned `True`), or\n",
    "- the function returned `True` (but should have returned `False`).\n",
    "\n",
    "To get credit for completing this question, your code should return a <font color='#33cc33'>Correct</font> result."
   ]
  },
  {
   "cell_type": "code",
   "execution_count": 8,
   "id": "59eab665",
   "metadata": {
    "execution": {
     "iopub.execute_input": "2023-02-17T13:23:20.425901Z",
     "iopub.status.busy": "2023-02-17T13:23:20.424777Z",
     "iopub.status.idle": "2023-02-17T13:23:20.437263Z",
     "shell.execute_reply": "2023-02-17T13:23:20.435842Z"
    },
    "papermill": {
     "duration": 0.026076,
     "end_time": "2023-02-17T13:23:20.439516",
     "exception": false,
     "start_time": "2023-02-17T13:23:20.413440",
     "status": "completed"
    },
    "tags": []
   },
   "outputs": [
    {
     "name": "stdout",
     "output_type": "stream",
     "text": [
      "False\n"
     ]
    },
    {
     "data": {
      "application/javascript": [
       "parent.postMessage({\"jupyterEvent\": \"custom.exercise_interaction\", \"data\": {\"outcomeType\": 1, \"valueTowardsCompletion\": 0.2, \"interactionType\": 1, \"questionType\": 1, \"questionId\": \"3_WeatherDebug\", \"learnToolsVersion\": \"0.3.4\", \"failureMessage\": \"\", \"exceptionClass\": \"\", \"trace\": \"\"}}, \"*\")"
      ],
      "text/plain": [
       "<IPython.core.display.Javascript object>"
      ]
     },
     "metadata": {},
     "output_type": "display_data"
    },
    {
     "data": {
      "text/markdown": [
       "<span style=\"color:#33cc33\">Correct:</span> \n",
       "\n",
       "One example of a failing test case is:\n",
       "\n",
       "```python\n",
       "have_umbrella = False\n",
       "rain_level = 0.0\n",
       "have_hood = False\n",
       "is_workday = False\n",
       "```\n",
       "\n",
       "Clearly we're prepared for the weather in this case. It's not raining. Not only that, it's not a workday, so we don't even need to leave the house! But our function will return False on these inputs.\n",
       "\n",
       "The key problem is that Python implictly parenthesizes the last part as:\n",
       "\n",
       "```python\n",
       "(not (rain_level > 0)) and is_workday\n",
       "```\n",
       "\n",
       "Whereas what we were trying to express would look more like:\n",
       "\n",
       "```python\n",
       "not (rain_level > 0 and is_workday)\n",
       "```\n"
      ],
      "text/plain": [
       "Correct: \n",
       "\n",
       "One example of a failing test case is:\n",
       "\n",
       "```python\n",
       "have_umbrella = False\n",
       "rain_level = 0.0\n",
       "have_hood = False\n",
       "is_workday = False\n",
       "```\n",
       "\n",
       "Clearly we're prepared for the weather in this case. It's not raining. Not only that, it's not a workday, so we don't even need to leave the house! But our function will return False on these inputs.\n",
       "\n",
       "The key problem is that Python implictly parenthesizes the last part as:\n",
       "\n",
       "```python\n",
       "(not (rain_level > 0)) and is_workday\n",
       "```\n",
       "\n",
       "Whereas what we were trying to express would look more like:\n",
       "\n",
       "```python\n",
       "not (rain_level > 0 and is_workday)\n",
       "```"
      ]
     },
     "metadata": {},
     "output_type": "display_data"
    }
   ],
   "source": [
    "def prepared_for_weather(have_umbrella, rain_level, have_hood, is_workday):\n",
    "    # Don't change this code. Our goal is just to find the bug, not fix it!\n",
    "    return have_umbrella or rain_level < 5 and have_hood or not rain_level > 0 and is_workday\n",
    "\n",
    "# Change the values of these inputs so they represent a case where prepared_for_weather\n",
    "# returns the wrong answer.\n",
    "have_umbrella = False\n",
    "rain_level = 6\n",
    "have_hood = False\n",
    "is_workday = False\n",
    "\n",
    "# Check what the function returns given the current values of the variables above\n",
    "actual = prepared_for_weather(have_umbrella, rain_level, have_hood, is_workday)\n",
    "print(actual)\n",
    "\n",
    "# Check your answer\n",
    "q3.check()"
   ]
  },
  {
   "cell_type": "code",
   "execution_count": 9,
   "id": "acd60755",
   "metadata": {
    "execution": {
     "iopub.execute_input": "2023-02-17T13:23:20.462259Z",
     "iopub.status.busy": "2023-02-17T13:23:20.461829Z",
     "iopub.status.idle": "2023-02-17T13:23:20.466405Z",
     "shell.execute_reply": "2023-02-17T13:23:20.465184Z"
    },
    "papermill": {
     "duration": 0.018466,
     "end_time": "2023-02-17T13:23:20.468874",
     "exception": false,
     "start_time": "2023-02-17T13:23:20.450408",
     "status": "completed"
    },
    "tags": []
   },
   "outputs": [],
   "source": [
    "#q3.hint()\n",
    "#q3.solution()"
   ]
  },
  {
   "cell_type": "markdown",
   "id": "03d0159b",
   "metadata": {
    "papermill": {
     "duration": 0.009793,
     "end_time": "2023-02-17T13:23:20.488992",
     "exception": false,
     "start_time": "2023-02-17T13:23:20.479199",
     "status": "completed"
    },
    "tags": []
   },
   "source": [
    "# 4.\n",
    "\n",
    "The function `is_negative` below is implemented correctly - it returns True if the given number is negative and False otherwise.\n",
    "\n",
    "However, it's more verbose than it needs to be. We can actually reduce the number of lines of code in this function by *75%* while keeping the same behaviour. \n",
    "\n",
    "See if you can come up with an equivalent body that uses just **one line** of code, and put it in the function `concise_is_negative`. (HINT: you don't even need Python's ternary syntax)"
   ]
  },
  {
   "cell_type": "code",
   "execution_count": 10,
   "id": "c9728499",
   "metadata": {
    "execution": {
     "iopub.execute_input": "2023-02-17T13:23:20.510936Z",
     "iopub.status.busy": "2023-02-17T13:23:20.510529Z",
     "iopub.status.idle": "2023-02-17T13:23:20.520394Z",
     "shell.execute_reply": "2023-02-17T13:23:20.519444Z"
    },
    "papermill": {
     "duration": 0.023512,
     "end_time": "2023-02-17T13:23:20.522659",
     "exception": false,
     "start_time": "2023-02-17T13:23:20.499147",
     "status": "completed"
    },
    "tags": []
   },
   "outputs": [
    {
     "data": {
      "application/javascript": [
       "parent.postMessage({\"jupyterEvent\": \"custom.exercise_interaction\", \"data\": {\"outcomeType\": 1, \"valueTowardsCompletion\": 0.2, \"interactionType\": 1, \"questionType\": 2, \"questionId\": \"4_ConciseIsNegative\", \"learnToolsVersion\": \"0.3.4\", \"failureMessage\": \"\", \"exceptionClass\": \"\", \"trace\": \"\"}}, \"*\")"
      ],
      "text/plain": [
       "<IPython.core.display.Javascript object>"
      ]
     },
     "metadata": {},
     "output_type": "display_data"
    },
    {
     "data": {
      "text/markdown": [
       "<span style=\"color:#33cc33\">Correct</span>"
      ],
      "text/plain": [
       "Correct"
      ]
     },
     "metadata": {},
     "output_type": "display_data"
    }
   ],
   "source": [
    "def is_negative(number):\n",
    "    if number < 0:\n",
    "        return True\n",
    "    else:\n",
    "        return False\n",
    "\n",
    "def concise_is_negative(number):\n",
    "    return number < 0\n",
    "    pass # Your code goes here (try to keep it to one line!)\n",
    "\n",
    "# Check your answer\n",
    "q4.check()"
   ]
  },
  {
   "cell_type": "code",
   "execution_count": 11,
   "id": "352182fc",
   "metadata": {
    "execution": {
     "iopub.execute_input": "2023-02-17T13:23:20.545175Z",
     "iopub.status.busy": "2023-02-17T13:23:20.544783Z",
     "iopub.status.idle": "2023-02-17T13:23:20.548886Z",
     "shell.execute_reply": "2023-02-17T13:23:20.547831Z"
    },
    "papermill": {
     "duration": 0.017848,
     "end_time": "2023-02-17T13:23:20.551009",
     "exception": false,
     "start_time": "2023-02-17T13:23:20.533161",
     "status": "completed"
    },
    "tags": []
   },
   "outputs": [],
   "source": [
    "#q4.hint()\n",
    "#q4.solution()"
   ]
  },
  {
   "cell_type": "markdown",
   "id": "6f79e8e0",
   "metadata": {
    "papermill": {
     "duration": 0.010078,
     "end_time": "2023-02-17T13:23:20.571671",
     "exception": false,
     "start_time": "2023-02-17T13:23:20.561593",
     "status": "completed"
    },
    "tags": []
   },
   "source": [
    "# 5a.\n",
    "\n",
    "The boolean variables `ketchup`, `mustard` and `onion` represent whether a customer wants a particular topping on their hot dog. We want to implement a number of boolean functions that correspond to some yes-or-no questions about the customer's order. For example:"
   ]
  },
  {
   "cell_type": "code",
   "execution_count": 12,
   "id": "c07c0a63",
   "metadata": {
    "execution": {
     "iopub.execute_input": "2023-02-17T13:23:20.594128Z",
     "iopub.status.busy": "2023-02-17T13:23:20.593718Z",
     "iopub.status.idle": "2023-02-17T13:23:20.598464Z",
     "shell.execute_reply": "2023-02-17T13:23:20.597308Z"
    },
    "papermill": {
     "duration": 0.018598,
     "end_time": "2023-02-17T13:23:20.600556",
     "exception": false,
     "start_time": "2023-02-17T13:23:20.581958",
     "status": "completed"
    },
    "tags": []
   },
   "outputs": [],
   "source": [
    "def onionless(ketchup, mustard, onion):\n",
    "    \"\"\"Return whether the customer doesn't want onions.\n",
    "    \"\"\"\n",
    "    return not onion"
   ]
  },
  {
   "cell_type": "code",
   "execution_count": 13,
   "id": "7bf5b61d",
   "metadata": {
    "execution": {
     "iopub.execute_input": "2023-02-17T13:23:20.623695Z",
     "iopub.status.busy": "2023-02-17T13:23:20.622790Z",
     "iopub.status.idle": "2023-02-17T13:23:20.631420Z",
     "shell.execute_reply": "2023-02-17T13:23:20.630389Z"
    },
    "papermill": {
     "duration": 0.023124,
     "end_time": "2023-02-17T13:23:20.634391",
     "exception": false,
     "start_time": "2023-02-17T13:23:20.611267",
     "status": "completed"
    },
    "tags": []
   },
   "outputs": [
    {
     "data": {
      "application/javascript": [
       "parent.postMessage({\"jupyterEvent\": \"custom.exercise_interaction\", \"data\": {\"outcomeType\": 4, \"interactionType\": 1, \"questionType\": 2, \"questionId\": \"5.1_AllToppings\", \"learnToolsVersion\": \"0.3.4\", \"valueTowardsCompletion\": 0.0, \"failureMessage\": \"\", \"exceptionClass\": \"\", \"trace\": \"\"}}, \"*\")"
      ],
      "text/plain": [
       "<IPython.core.display.Javascript object>"
      ]
     },
     "metadata": {},
     "output_type": "display_data"
    },
    {
     "data": {
      "text/markdown": [
       "<span style=\"color:#ccaa33\">Check:</span> When you've updated the starter code, `check()` will tell you whether your code is correct. "
      ],
      "text/plain": [
       "Check: When you've updated the starter code, `check()` will tell you whether your code is correct. "
      ]
     },
     "metadata": {},
     "output_type": "display_data"
    }
   ],
   "source": [
    "def wants_all_toppings(ketchup, mustard, onion):\n",
    "    \"\"\"Return whether the customer wants \"the works\" (all 3 toppings)\n",
    "    \"\"\"\n",
    "    pass\n",
    "\n",
    "# Check your answer\n",
    "q5.a.check()"
   ]
  },
  {
   "cell_type": "code",
   "execution_count": 14,
   "id": "177b1b25",
   "metadata": {
    "execution": {
     "iopub.execute_input": "2023-02-17T13:23:20.660783Z",
     "iopub.status.busy": "2023-02-17T13:23:20.659984Z",
     "iopub.status.idle": "2023-02-17T13:23:20.664612Z",
     "shell.execute_reply": "2023-02-17T13:23:20.663800Z"
    },
    "papermill": {
     "duration": 0.019907,
     "end_time": "2023-02-17T13:23:20.666618",
     "exception": false,
     "start_time": "2023-02-17T13:23:20.646711",
     "status": "completed"
    },
    "tags": []
   },
   "outputs": [],
   "source": [
    "#q5.a.hint()\n",
    "#q5.a.solution()"
   ]
  },
  {
   "cell_type": "markdown",
   "id": "2b3ef1bb",
   "metadata": {
    "papermill": {
     "duration": 0.01036,
     "end_time": "2023-02-17T13:23:20.687711",
     "exception": false,
     "start_time": "2023-02-17T13:23:20.677351",
     "status": "completed"
    },
    "tags": []
   },
   "source": [
    "# 5b.\n",
    "\n",
    "For the next function, fill in the body to match the English description in the docstring. "
   ]
  },
  {
   "cell_type": "code",
   "execution_count": 15,
   "id": "b14bcfd4",
   "metadata": {
    "execution": {
     "iopub.execute_input": "2023-02-17T13:23:20.711284Z",
     "iopub.status.busy": "2023-02-17T13:23:20.710588Z",
     "iopub.status.idle": "2023-02-17T13:23:20.718419Z",
     "shell.execute_reply": "2023-02-17T13:23:20.717518Z"
    },
    "papermill": {
     "duration": 0.022034,
     "end_time": "2023-02-17T13:23:20.720407",
     "exception": false,
     "start_time": "2023-02-17T13:23:20.698373",
     "status": "completed"
    },
    "tags": []
   },
   "outputs": [
    {
     "data": {
      "application/javascript": [
       "parent.postMessage({\"jupyterEvent\": \"custom.exercise_interaction\", \"data\": {\"outcomeType\": 1, \"valueTowardsCompletion\": 0.2, \"interactionType\": 1, \"questionType\": 2, \"questionId\": \"5.2_PlainDog\", \"learnToolsVersion\": \"0.3.4\", \"failureMessage\": \"\", \"exceptionClass\": \"\", \"trace\": \"\"}}, \"*\")"
      ],
      "text/plain": [
       "<IPython.core.display.Javascript object>"
      ]
     },
     "metadata": {},
     "output_type": "display_data"
    },
    {
     "data": {
      "text/markdown": [
       "<span style=\"color:#33cc33\">Correct:</span> \n",
       "\n",
       "One solution looks like:\n",
       "```python\n",
       "return not ketchup and not mustard and not onion\n",
       "```\n",
       "\n",
       "We can also [\"factor out\" the nots](https://en.wikipedia.org/wiki/De_Morgan%27s_laws) to get:\n",
       "\n",
       "```python\n",
       "return not (ketchup or mustard or onion)\n",
       "```"
      ],
      "text/plain": [
       "Correct: \n",
       "\n",
       "One solution looks like:\n",
       "```python\n",
       "return not ketchup and not mustard and not onion\n",
       "```\n",
       "\n",
       "We can also [\"factor out\" the nots](https://en.wikipedia.org/wiki/De_Morgan%27s_laws) to get:\n",
       "\n",
       "```python\n",
       "return not (ketchup or mustard or onion)\n",
       "```"
      ]
     },
     "metadata": {},
     "output_type": "display_data"
    }
   ],
   "source": [
    "def wants_plain_hotdog(ketchup, mustard, onion):\n",
    "    \"\"\"Return whether the customer wants a plain hot dog with no toppings.\n",
    "    \"\"\"\n",
    "    return not (ketchup or mustard or onion)\n",
    "\n",
    "# Check your answer\n",
    "q5.b.check()"
   ]
  },
  {
   "cell_type": "code",
   "execution_count": 16,
   "id": "7aadbb19",
   "metadata": {
    "execution": {
     "iopub.execute_input": "2023-02-17T13:23:20.744747Z",
     "iopub.status.busy": "2023-02-17T13:23:20.743991Z",
     "iopub.status.idle": "2023-02-17T13:23:20.747710Z",
     "shell.execute_reply": "2023-02-17T13:23:20.746984Z"
    },
    "papermill": {
     "duration": 0.01817,
     "end_time": "2023-02-17T13:23:20.749697",
     "exception": false,
     "start_time": "2023-02-17T13:23:20.731527",
     "status": "completed"
    },
    "tags": []
   },
   "outputs": [],
   "source": [
    "#q5.b.hint()\n",
    "#q5.b.solution()"
   ]
  },
  {
   "cell_type": "markdown",
   "id": "79feb01d",
   "metadata": {
    "papermill": {
     "duration": 0.010693,
     "end_time": "2023-02-17T13:23:20.771537",
     "exception": false,
     "start_time": "2023-02-17T13:23:20.760844",
     "status": "completed"
    },
    "tags": []
   },
   "source": [
    "# 5c.\n",
    "\n",
    "You know what to do: for the next function, fill in the body to match the English description in the docstring."
   ]
  },
  {
   "cell_type": "code",
   "execution_count": 17,
   "id": "cfb84ce9",
   "metadata": {
    "execution": {
     "iopub.execute_input": "2023-02-17T13:23:20.796108Z",
     "iopub.status.busy": "2023-02-17T13:23:20.795328Z",
     "iopub.status.idle": "2023-02-17T13:23:20.803774Z",
     "shell.execute_reply": "2023-02-17T13:23:20.802946Z"
    },
    "papermill": {
     "duration": 0.022924,
     "end_time": "2023-02-17T13:23:20.805739",
     "exception": false,
     "start_time": "2023-02-17T13:23:20.782815",
     "status": "completed"
    },
    "tags": []
   },
   "outputs": [
    {
     "data": {
      "application/javascript": [
       "parent.postMessage({\"jupyterEvent\": \"custom.exercise_interaction\", \"data\": {\"outcomeType\": 1, \"valueTowardsCompletion\": 0.2, \"interactionType\": 1, \"questionType\": 2, \"questionId\": \"5.3_OneSauce\", \"learnToolsVersion\": \"0.3.4\", \"failureMessage\": \"\", \"exceptionClass\": \"\", \"trace\": \"\"}}, \"*\")"
      ],
      "text/plain": [
       "<IPython.core.display.Javascript object>"
      ]
     },
     "metadata": {},
     "output_type": "display_data"
    },
    {
     "data": {
      "text/markdown": [
       "<span style=\"color:#33cc33\">Correct</span>"
      ],
      "text/plain": [
       "Correct"
      ]
     },
     "metadata": {},
     "output_type": "display_data"
    }
   ],
   "source": [
    "def exactly_one_sauce(ketchup, mustard, onion):\n",
    "    \"\"\"Return whether the customer wants either ketchup or mustard, but not both.\n",
    "    (You may be familiar with this operation under the name \"exclusive or\")\n",
    "    \"\"\"\n",
    "    return (ketchup and not mustard) or (not ketchup and mustard)\n",
    "\n",
    "# Check your answer\n",
    "q5.c.check()"
   ]
  },
  {
   "cell_type": "code",
   "execution_count": 18,
   "id": "6ef69c58",
   "metadata": {
    "execution": {
     "iopub.execute_input": "2023-02-17T13:23:20.830230Z",
     "iopub.status.busy": "2023-02-17T13:23:20.829791Z",
     "iopub.status.idle": "2023-02-17T13:23:20.834574Z",
     "shell.execute_reply": "2023-02-17T13:23:20.833406Z"
    },
    "papermill": {
     "duration": 0.019761,
     "end_time": "2023-02-17T13:23:20.836988",
     "exception": false,
     "start_time": "2023-02-17T13:23:20.817227",
     "status": "completed"
    },
    "tags": []
   },
   "outputs": [],
   "source": [
    "#q5.c.hint()\n",
    "#q5.c.solution()"
   ]
  },
  {
   "cell_type": "markdown",
   "id": "5c666a9f",
   "metadata": {
    "papermill": {
     "duration": 0.011087,
     "end_time": "2023-02-17T13:23:20.859548",
     "exception": false,
     "start_time": "2023-02-17T13:23:20.848461",
     "status": "completed"
    },
    "tags": []
   },
   "source": [
    "# 6. <span title=\"A bit spicy\" style=\"color: darkgreen \">🌶️</span>\n",
    "\n",
    "We’ve seen that calling `bool()` on an integer returns `False` if it’s equal to 0 and `True` otherwise. What happens if we call `int()` on a bool? Try it out in the notebook cell below.\n",
    "\n",
    "Can you take advantage of this to write a succinct function that corresponds to the English sentence \"does the customer want exactly one topping?\"?"
   ]
  },
  {
   "cell_type": "code",
   "execution_count": 19,
   "id": "c2468f04",
   "metadata": {
    "execution": {
     "iopub.execute_input": "2023-02-17T13:23:20.883826Z",
     "iopub.status.busy": "2023-02-17T13:23:20.883423Z",
     "iopub.status.idle": "2023-02-17T13:23:20.893058Z",
     "shell.execute_reply": "2023-02-17T13:23:20.891878Z"
    },
    "papermill": {
     "duration": 0.02457,
     "end_time": "2023-02-17T13:23:20.895454",
     "exception": false,
     "start_time": "2023-02-17T13:23:20.870884",
     "status": "completed"
    },
    "tags": []
   },
   "outputs": [
    {
     "data": {
      "application/javascript": [
       "parent.postMessage({\"jupyterEvent\": \"custom.exercise_interaction\", \"data\": {\"outcomeType\": 1, \"valueTowardsCompletion\": 0.2, \"interactionType\": 1, \"questionType\": 2, \"questionId\": \"6_OneTopping\", \"learnToolsVersion\": \"0.3.4\", \"failureMessage\": \"\", \"exceptionClass\": \"\", \"trace\": \"\"}}, \"*\")"
      ],
      "text/plain": [
       "<IPython.core.display.Javascript object>"
      ]
     },
     "metadata": {},
     "output_type": "display_data"
    },
    {
     "data": {
      "text/markdown": [
       "<span style=\"color:#33cc33\">Correct:</span> \n",
       "\n",
       "This condition would be pretty complicated to express using just `and`, `or` and `not`, but using boolean-to-integer conversion gives us this short solution:\n",
       "```python\n",
       "return (int(ketchup) + int(mustard) + int(onion)) == 1\n",
       "```\n",
       "\n",
       "Fun fact: we don't technically need to call `int` on the arguments. Just by doing addition with booleans, Python implicitly does the integer conversion. So we could also write...\n",
       "\n",
       "```python\n",
       "return (ketchup + mustard + onion) == 1\n",
       "```"
      ],
      "text/plain": [
       "Correct: \n",
       "\n",
       "This condition would be pretty complicated to express using just `and`, `or` and `not`, but using boolean-to-integer conversion gives us this short solution:\n",
       "```python\n",
       "return (int(ketchup) + int(mustard) + int(onion)) == 1\n",
       "```\n",
       "\n",
       "Fun fact: we don't technically need to call `int` on the arguments. Just by doing addition with booleans, Python implicitly does the integer conversion. So we could also write...\n",
       "\n",
       "```python\n",
       "return (ketchup + mustard + onion) == 1\n",
       "```"
      ]
     },
     "metadata": {},
     "output_type": "display_data"
    }
   ],
   "source": [
    "def exactly_one_topping(ketchup, mustard, onion):\n",
    "    \"\"\"Return whether the customer wants exactly one of the three available toppings\n",
    "    on their hot dog.\n",
    "    \"\"\"\n",
    "    if int(ketchup + mustard + onion) == 1 :\n",
    "        return True\n",
    "    else : \n",
    "        return False\n",
    "\n",
    "# Check your answer\n",
    "q6.check()"
   ]
  },
  {
   "cell_type": "code",
   "execution_count": 20,
   "id": "47187f90",
   "metadata": {
    "execution": {
     "iopub.execute_input": "2023-02-17T13:23:20.921088Z",
     "iopub.status.busy": "2023-02-17T13:23:20.920683Z",
     "iopub.status.idle": "2023-02-17T13:23:20.924851Z",
     "shell.execute_reply": "2023-02-17T13:23:20.923831Z"
    },
    "papermill": {
     "duration": 0.019705,
     "end_time": "2023-02-17T13:23:20.927007",
     "exception": false,
     "start_time": "2023-02-17T13:23:20.907302",
     "status": "completed"
    },
    "tags": []
   },
   "outputs": [],
   "source": [
    "#q6.hint()\n",
    "#q6.solution()"
   ]
  },
  {
   "cell_type": "markdown",
   "id": "c1537ba9",
   "metadata": {
    "papermill": {
     "duration": 0.011369,
     "end_time": "2023-02-17T13:23:20.950173",
     "exception": false,
     "start_time": "2023-02-17T13:23:20.938804",
     "status": "completed"
    },
    "tags": []
   },
   "source": [
    "# 7. <span title=\"A bit spicy\" style=\"color: darkgreen \">🌶️</span> (Optional)\n",
    "\n",
    "In this problem we'll be working with a simplified version of [blackjack](https://en.wikipedia.org/wiki/Blackjack) (aka twenty-one). In this version there is one player (who you'll control) and a dealer. Play proceeds as follows:\n",
    "\n",
    "- The player is dealt two face-up cards. The dealer is dealt one face-up card.\n",
    "- The player may ask to be dealt another card ('hit') as many times as they wish. If the sum of their cards exceeds 21, they lose the round immediately.\n",
    "- The dealer then deals additional cards to himself until either:\n",
    "    - the sum of the dealer's cards exceeds 21, in which case the player wins the round\n",
    "    - the sum of the dealer's cards is greater than or equal to 17. If the player's total is greater than the dealer's, the player wins. Otherwise, the dealer wins (even in case of a tie).\n",
    "    \n",
    "When calculating the sum of cards, Jack, Queen, and King count for 10. Aces can count as 1 or 11 (when referring to a player's \"total\" above, we mean the largest total that can be made without exceeding 21. So e.g. A+8 = 19, A+8+8 = 17)\n",
    "\n",
    "For this problem, you'll write a function representing the player's decision-making strategy in this game. We've provided a very unintelligent implementation below:"
   ]
  },
  {
   "cell_type": "code",
   "execution_count": 21,
   "id": "e47acccf",
   "metadata": {
    "execution": {
     "iopub.execute_input": "2023-02-17T13:23:20.975787Z",
     "iopub.status.busy": "2023-02-17T13:23:20.975067Z",
     "iopub.status.idle": "2023-02-17T13:23:20.979725Z",
     "shell.execute_reply": "2023-02-17T13:23:20.979009Z"
    },
    "papermill": {
     "duration": 0.019917,
     "end_time": "2023-02-17T13:23:20.981697",
     "exception": false,
     "start_time": "2023-02-17T13:23:20.961780",
     "status": "completed"
    },
    "tags": []
   },
   "outputs": [],
   "source": [
    "def should_hit(dealer_total, player_total, player_low_aces, player_high_aces):\n",
    "    \"\"\"Return True if the player should hit (request another card) given the current game\n",
    "    state, or False if the player should stay.\n",
    "    When calculating a hand's total value, we count aces as \"high\" (with value 11) if doing so\n",
    "    doesn't bring the total above 21, otherwise we count them as low (with value 1). \n",
    "    For example, if the player's hand is {A, A, A, 7}, we will count it as 11 + 1 + 1 + 7,\n",
    "    and therefore set player_total=20, player_low_aces=2, player_high_aces=1.\n",
    "    \"\"\"\n",
    "    return False"
   ]
  },
  {
   "cell_type": "markdown",
   "id": "31c06a1d",
   "metadata": {
    "papermill": {
     "duration": 0.011917,
     "end_time": "2023-02-17T13:23:21.005100",
     "exception": false,
     "start_time": "2023-02-17T13:23:20.993183",
     "status": "completed"
    },
    "tags": []
   },
   "source": [
    "This very conservative agent *always* sticks with the hand of two cards that they're dealt.\n",
    "\n",
    "We'll be simulating games between your player agent and our own dealer agent by calling your function.\n",
    "\n",
    "Try running the function below to see an example of a simulated game:"
   ]
  },
  {
   "cell_type": "code",
   "execution_count": 22,
   "id": "a6bd48e3",
   "metadata": {
    "execution": {
     "iopub.execute_input": "2023-02-17T13:23:21.030898Z",
     "iopub.status.busy": "2023-02-17T13:23:21.030217Z",
     "iopub.status.idle": "2023-02-17T13:23:21.035919Z",
     "shell.execute_reply": "2023-02-17T13:23:21.034740Z"
    },
    "papermill": {
     "duration": 0.021349,
     "end_time": "2023-02-17T13:23:21.038166",
     "exception": false,
     "start_time": "2023-02-17T13:23:21.016817",
     "status": "completed"
    },
    "tags": []
   },
   "outputs": [
    {
     "name": "stdout",
     "output_type": "stream",
     "text": [
      "Player starts with 10 and 2 (total = 12)\n",
      "Dealer starts with 4\n",
      "\n",
      "__Player's turn__\n",
      "Player stays\n",
      "\n",
      "__Dealer's turn__\n",
      "Dealer hits and receives 7. (total = 11)\n",
      "Dealer hits and receives 7. (total = 18)\n",
      "Dealer stands.\n",
      "Dealer wins. 18 >= 12\n"
     ]
    }
   ],
   "source": [
    "q7.simulate_one_game()"
   ]
  },
  {
   "cell_type": "markdown",
   "id": "0f4f611d",
   "metadata": {
    "papermill": {
     "duration": 0.014151,
     "end_time": "2023-02-17T13:23:21.066221",
     "exception": false,
     "start_time": "2023-02-17T13:23:21.052070",
     "status": "completed"
    },
    "tags": []
   },
   "source": [
    "The real test of your agent's mettle is their average win rate over many games. Try calling the function below to simulate 50000 games of blackjack (it may take a couple seconds):"
   ]
  },
  {
   "cell_type": "code",
   "execution_count": 23,
   "id": "bc145f56",
   "metadata": {
    "execution": {
     "iopub.execute_input": "2023-02-17T13:23:21.104521Z",
     "iopub.status.busy": "2023-02-17T13:23:21.102634Z",
     "iopub.status.idle": "2023-02-17T13:23:22.744392Z",
     "shell.execute_reply": "2023-02-17T13:23:22.742996Z"
    },
    "papermill": {
     "duration": 1.664446,
     "end_time": "2023-02-17T13:23:22.747068",
     "exception": false,
     "start_time": "2023-02-17T13:23:21.082622",
     "status": "completed"
    },
    "tags": []
   },
   "outputs": [
    {
     "name": "stdout",
     "output_type": "stream",
     "text": [
      "Player won 18974 out of 50000 games (win rate = 37.9%)\n"
     ]
    }
   ],
   "source": [
    "q7.simulate(n_games=50000)"
   ]
  },
  {
   "cell_type": "markdown",
   "id": "5159583d",
   "metadata": {
    "papermill": {
     "duration": 0.011552,
     "end_time": "2023-02-17T13:23:22.770742",
     "exception": false,
     "start_time": "2023-02-17T13:23:22.759190",
     "status": "completed"
    },
    "tags": []
   },
   "source": [
    "Our dumb agent that completely ignores the game state still manages to win shockingly often!\n",
    "\n",
    "Try adding some more smarts to the `should_hit` function and see how it affects the results."
   ]
  },
  {
   "cell_type": "code",
   "execution_count": 24,
   "id": "4f13794c",
   "metadata": {
    "execution": {
     "iopub.execute_input": "2023-02-17T13:23:22.797138Z",
     "iopub.status.busy": "2023-02-17T13:23:22.795866Z",
     "iopub.status.idle": "2023-02-17T13:23:24.564438Z",
     "shell.execute_reply": "2023-02-17T13:23:24.563403Z"
    },
    "papermill": {
     "duration": 1.784523,
     "end_time": "2023-02-17T13:23:24.567113",
     "exception": false,
     "start_time": "2023-02-17T13:23:22.782590",
     "status": "completed"
    },
    "tags": []
   },
   "outputs": [
    {
     "name": "stdout",
     "output_type": "stream",
     "text": [
      "Player won 20562 out of 50000 games (win rate = 41.1%)\n"
     ]
    }
   ],
   "source": [
    "def should_hit(dealer_total, player_total, player_low_aces, player_high_aces):\n",
    "    \"\"\"Return True if the player should hit (request another card) given the current game\n",
    "    state, or False if the player should stay.\n",
    "    When calculating a hand's total value, we count aces as \"high\" (with value 11) if doing so\n",
    "    doesn't bring the total above 21, otherwise we count them as low (with value 1). \n",
    "    For example, if the player's hand is {A, A, A, 7}, we will count it as 11 + 1 + 1 + 7,\n",
    "    and therefore set player_total=20, player_low_aces=2, player_high_aces=1.\n",
    "    \"\"\"\n",
    "    if(dealer_total < 7):\n",
    "        return False\n",
    "    elif (player_total > 16):\n",
    "        return False\n",
    "    return True\n",
    "\n",
    "q7.simulate(n_games=50000)"
   ]
  },
  {
   "cell_type": "markdown",
   "id": "3a3daa47",
   "metadata": {
    "papermill": {
     "duration": 0.011638,
     "end_time": "2023-02-17T13:23:24.590912",
     "exception": false,
     "start_time": "2023-02-17T13:23:24.579274",
     "status": "completed"
    },
    "tags": []
   },
   "source": [
    "# Keep Going\n",
    "\n",
    "Learn about **[lists and tuples](https://www.kaggle.com/colinmorris/lists)** to handle multiple items of data in a systematic way."
   ]
  },
  {
   "cell_type": "markdown",
   "id": "dd8b805b",
   "metadata": {
    "papermill": {
     "duration": 0.011558,
     "end_time": "2023-02-17T13:23:24.614544",
     "exception": false,
     "start_time": "2023-02-17T13:23:24.602986",
     "status": "completed"
    },
    "tags": []
   },
   "source": [
    "---\n",
    "\n",
    "\n",
    "\n",
    "\n",
    "*Have questions or comments? Visit the [course discussion forum](https://www.kaggle.com/learn/python/discussion) to chat with other learners.*"
   ]
  }
 ],
 "metadata": {
  "kernelspec": {
   "display_name": "Python 3",
   "language": "python",
   "name": "python3"
  },
  "language_info": {
   "codemirror_mode": {
    "name": "ipython",
    "version": 3
   },
   "file_extension": ".py",
   "mimetype": "text/x-python",
   "name": "python",
   "nbconvert_exporter": "python",
   "pygments_lexer": "ipython3",
   "version": "3.7.12"
  },
  "papermill": {
   "default_parameters": {},
   "duration": 13.35235,
   "end_time": "2023-02-17T13:23:25.247429",
   "environment_variables": {},
   "exception": null,
   "input_path": "__notebook__.ipynb",
   "output_path": "__notebook__.ipynb",
   "parameters": {},
   "start_time": "2023-02-17T13:23:11.895079",
   "version": "2.3.4"
  }
 },
 "nbformat": 4,
 "nbformat_minor": 5
}
