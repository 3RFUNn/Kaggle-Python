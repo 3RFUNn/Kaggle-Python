{
 "cells": [
  {
   "cell_type": "markdown",
   "id": "4f3a6fe0",
   "metadata": {
    "papermill": {
     "duration": 0.010717,
     "end_time": "2023-02-17T13:26:23.350715",
     "exception": false,
     "start_time": "2023-02-17T13:26:23.339998",
     "status": "completed"
    },
    "tags": []
   },
   "source": [
    "**This notebook is an exercise in the [Python](https://www.kaggle.com/learn/python) course.  You can reference the tutorial at [this link](https://www.kaggle.com/colinmorris/booleans-and-conditionals).**\n",
    "\n",
    "---\n"
   ]
  },
  {
   "cell_type": "markdown",
   "id": "ff266bb3",
   "metadata": {
    "papermill": {
     "duration": 0.009024,
     "end_time": "2023-02-17T13:26:23.369242",
     "exception": false,
     "start_time": "2023-02-17T13:26:23.360218",
     "status": "completed"
    },
    "tags": []
   },
   "source": [
    "In this exercise, you'll put to work what you have learned about booleans and conditionals.\n",
    "\n",
    "To get started, **run the setup code below** before writing your own code (and if you leave this notebook and come back later, don't forget to run the setup code again)."
   ]
  },
  {
   "cell_type": "code",
   "execution_count": 1,
   "id": "40be39e5",
   "metadata": {
    "execution": {
     "iopub.execute_input": "2023-02-17T13:26:23.390753Z",
     "iopub.status.busy": "2023-02-17T13:26:23.389874Z",
     "iopub.status.idle": "2023-02-17T13:26:23.443630Z",
     "shell.execute_reply": "2023-02-17T13:26:23.442005Z"
    },
    "papermill": {
     "duration": 0.06786,
     "end_time": "2023-02-17T13:26:23.446898",
     "exception": false,
     "start_time": "2023-02-17T13:26:23.379038",
     "status": "completed"
    },
    "tags": []
   },
   "outputs": [
    {
     "name": "stdout",
     "output_type": "stream",
     "text": [
      "Setup complete.\n"
     ]
    }
   ],
   "source": [
    "from learntools.core import binder; binder.bind(globals())\n",
    "from learntools.python.ex3 import *\n",
    "print('Setup complete.')"
   ]
  },
  {
   "cell_type": "markdown",
   "id": "0f8dbaec",
   "metadata": {
    "papermill": {
     "duration": 0.009027,
     "end_time": "2023-02-17T13:26:23.466033",
     "exception": false,
     "start_time": "2023-02-17T13:26:23.457006",
     "status": "completed"
    },
    "tags": []
   },
   "source": [
    "# 1.\n",
    "\n",
    "Many programming languages have [`sign`](https://en.wikipedia.org/wiki/Sign_function) available as a built-in function. Python doesn't, but we can define our own!\n",
    "\n",
    "In the cell below, define a function called `sign` which takes a numerical argument and returns -1 if it's negative, 1 if it's positive, and 0 if it's 0."
   ]
  },
  {
   "cell_type": "code",
   "execution_count": 2,
   "id": "c24e8b6e",
   "metadata": {
    "execution": {
     "iopub.execute_input": "2023-02-17T13:26:23.486796Z",
     "iopub.status.busy": "2023-02-17T13:26:23.486304Z",
     "iopub.status.idle": "2023-02-17T13:26:23.499527Z",
     "shell.execute_reply": "2023-02-17T13:26:23.498170Z"
    },
    "papermill": {
     "duration": 0.026856,
     "end_time": "2023-02-17T13:26:23.502234",
     "exception": false,
     "start_time": "2023-02-17T13:26:23.475378",
     "status": "completed"
    },
    "tags": []
   },
   "outputs": [
    {
     "data": {
      "application/javascript": [
       "parent.postMessage({\"jupyterEvent\": \"custom.exercise_interaction\", \"data\": {\"outcomeType\": 1, \"valueTowardsCompletion\": 0.2, \"interactionType\": 1, \"questionType\": 2, \"questionId\": \"1_SignFunctionProblem\", \"learnToolsVersion\": \"0.3.4\", \"failureMessage\": \"\", \"exceptionClass\": \"\", \"trace\": \"\"}}, \"*\")"
      ],
      "text/plain": [
       "<IPython.core.display.Javascript object>"
      ]
     },
     "metadata": {},
     "output_type": "display_data"
    },
    {
     "data": {
      "text/markdown": [
       "<span style=\"color:#33cc33\">Correct</span>"
      ],
      "text/plain": [
       "Correct"
      ]
     },
     "metadata": {},
     "output_type": "display_data"
    }
   ],
   "source": [
    "# Your code goes here. Define a function called 'sign'\n",
    "def sign(num) :\n",
    "    if num == 0 :\n",
    "        return 0\n",
    "    elif num > 0 :\n",
    "        return 1\n",
    "    else :\n",
    "        return -1\n",
    "\n",
    "\n",
    "# Check your answer\n",
    "q1.check()"
   ]
  },
  {
   "cell_type": "code",
   "execution_count": 3,
   "id": "f03f7d44",
   "metadata": {
    "execution": {
     "iopub.execute_input": "2023-02-17T13:26:23.523869Z",
     "iopub.status.busy": "2023-02-17T13:26:23.523430Z",
     "iopub.status.idle": "2023-02-17T13:26:23.528734Z",
     "shell.execute_reply": "2023-02-17T13:26:23.527449Z"
    },
    "papermill": {
     "duration": 0.019331,
     "end_time": "2023-02-17T13:26:23.531445",
     "exception": false,
     "start_time": "2023-02-17T13:26:23.512114",
     "status": "completed"
    },
    "tags": []
   },
   "outputs": [],
   "source": [
    "# q1.solution()"
   ]
  },
  {
   "cell_type": "markdown",
   "id": "d850e9d8",
   "metadata": {
    "papermill": {
     "duration": 0.009106,
     "end_time": "2023-02-17T13:26:23.550151",
     "exception": false,
     "start_time": "2023-02-17T13:26:23.541045",
     "status": "completed"
    },
    "tags": []
   },
   "source": [
    "# 2.\n",
    "\n",
    "We've decided to add \"logging\" to our `to_smash` function from the previous exercise."
   ]
  },
  {
   "cell_type": "code",
   "execution_count": 4,
   "id": "ca7bc3aa",
   "metadata": {
    "execution": {
     "iopub.execute_input": "2023-02-17T13:26:23.571404Z",
     "iopub.status.busy": "2023-02-17T13:26:23.570937Z",
     "iopub.status.idle": "2023-02-17T13:26:23.587553Z",
     "shell.execute_reply": "2023-02-17T13:26:23.585957Z"
    },
    "papermill": {
     "duration": 0.030888,
     "end_time": "2023-02-17T13:26:23.590552",
     "exception": false,
     "start_time": "2023-02-17T13:26:23.559664",
     "status": "completed"
    },
    "tags": []
   },
   "outputs": [
    {
     "name": "stdout",
     "output_type": "stream",
     "text": [
      "Splitting 91 candies\n"
     ]
    },
    {
     "data": {
      "text/plain": [
       "1"
      ]
     },
     "execution_count": 4,
     "metadata": {},
     "output_type": "execute_result"
    }
   ],
   "source": [
    "def to_smash(total_candies):\n",
    "    \"\"\"Return the number of leftover candies that must be smashed after distributing\n",
    "    the given number of candies evenly between 3 friends.\n",
    "    \n",
    "    >>> to_smash(91)\n",
    "    1\n",
    "    \"\"\"\n",
    "    print(\"Splitting\", total_candies, \"candies\")\n",
    "    return total_candies % 3\n",
    "\n",
    "to_smash(91)"
   ]
  },
  {
   "cell_type": "markdown",
   "id": "e90e4ca7",
   "metadata": {
    "papermill": {
     "duration": 0.009167,
     "end_time": "2023-02-17T13:26:23.609518",
     "exception": false,
     "start_time": "2023-02-17T13:26:23.600351",
     "status": "completed"
    },
    "tags": []
   },
   "source": [
    "What happens if we call it with `total_candies = 1`?"
   ]
  },
  {
   "cell_type": "code",
   "execution_count": 5,
   "id": "8d537d1a",
   "metadata": {
    "execution": {
     "iopub.execute_input": "2023-02-17T13:26:23.630778Z",
     "iopub.status.busy": "2023-02-17T13:26:23.630304Z",
     "iopub.status.idle": "2023-02-17T13:26:23.638908Z",
     "shell.execute_reply": "2023-02-17T13:26:23.637372Z"
    },
    "papermill": {
     "duration": 0.022122,
     "end_time": "2023-02-17T13:26:23.641356",
     "exception": false,
     "start_time": "2023-02-17T13:26:23.619234",
     "status": "completed"
    },
    "tags": []
   },
   "outputs": [
    {
     "name": "stdout",
     "output_type": "stream",
     "text": [
      "Splitting 1 candies\n"
     ]
    },
    {
     "data": {
      "text/plain": [
       "1"
      ]
     },
     "execution_count": 5,
     "metadata": {},
     "output_type": "execute_result"
    }
   ],
   "source": [
    "to_smash(1)"
   ]
  },
  {
   "cell_type": "markdown",
   "id": "248f5243",
   "metadata": {
    "papermill": {
     "duration": 0.009589,
     "end_time": "2023-02-17T13:26:23.661031",
     "exception": false,
     "start_time": "2023-02-17T13:26:23.651442",
     "status": "completed"
    },
    "tags": []
   },
   "source": [
    "That isn't great grammar!\n",
    "\n",
    "Modify the definition in the cell below to correct the grammar of our print statement. (If there's only one candy, we should use the singular \"candy\" instead of the plural \"candies\")"
   ]
  },
  {
   "cell_type": "code",
   "execution_count": 6,
   "id": "ac28583f",
   "metadata": {
    "execution": {
     "iopub.execute_input": "2023-02-17T13:26:23.682930Z",
     "iopub.status.busy": "2023-02-17T13:26:23.682411Z",
     "iopub.status.idle": "2023-02-17T13:26:23.693933Z",
     "shell.execute_reply": "2023-02-17T13:26:23.691451Z"
    },
    "papermill": {
     "duration": 0.026746,
     "end_time": "2023-02-17T13:26:23.697793",
     "exception": false,
     "start_time": "2023-02-17T13:26:23.671047",
     "status": "completed"
    },
    "tags": []
   },
   "outputs": [
    {
     "name": "stdout",
     "output_type": "stream",
     "text": [
      "Splitting 91 candies\n",
      "Splitting 1 candy \n"
     ]
    },
    {
     "data": {
      "text/plain": [
       "1"
      ]
     },
     "execution_count": 6,
     "metadata": {},
     "output_type": "execute_result"
    }
   ],
   "source": [
    "def to_smash(total_candies):\n",
    "    \"\"\"Return the number of leftover candies that must be smashed after distributing\n",
    "    the given number of candies evenly between 3 friends.\n",
    "    \n",
    "    >>> to_smash(91)\n",
    "    1\n",
    "    \"\"\"\n",
    "#     if total_candies > 1 :\n",
    "#         print(\"Splitting\", total_candies, \"candies\")\n",
    "#     else :\n",
    "#         print(\"Splitting\", total_candies, \"candy\")\n",
    "\n",
    "    print(\"Splitting\", total_candies, \"candy \" if total_candies == 1 else \"candies\")\n",
    "        \n",
    "    return total_candies % 3\n",
    "\n",
    "to_smash(91)\n",
    "to_smash(1)"
   ]
  },
  {
   "cell_type": "markdown",
   "id": "d18aa65e",
   "metadata": {
    "papermill": {
     "duration": 0.009588,
     "end_time": "2023-02-17T13:26:23.717845",
     "exception": false,
     "start_time": "2023-02-17T13:26:23.708257",
     "status": "completed"
    },
    "tags": []
   },
   "source": [
    "To get credit for completing this problem, and to see the official answer, run the code cell below."
   ]
  },
  {
   "cell_type": "code",
   "execution_count": 7,
   "id": "d7406984",
   "metadata": {
    "execution": {
     "iopub.execute_input": "2023-02-17T13:26:23.739718Z",
     "iopub.status.busy": "2023-02-17T13:26:23.739137Z",
     "iopub.status.idle": "2023-02-17T13:26:23.749188Z",
     "shell.execute_reply": "2023-02-17T13:26:23.747797Z"
    },
    "papermill": {
     "duration": 0.023891,
     "end_time": "2023-02-17T13:26:23.751674",
     "exception": false,
     "start_time": "2023-02-17T13:26:23.727783",
     "status": "completed"
    },
    "tags": []
   },
   "outputs": [
    {
     "data": {
      "application/javascript": [
       "parent.postMessage({\"jupyterEvent\": \"custom.exercise_interaction\", \"data\": {\"interactionType\": 3, \"questionType\": 4, \"questionId\": \"2_PluralizationProblem\", \"learnToolsVersion\": \"0.3.4\", \"valueTowardsCompletion\": 0.0, \"failureMessage\": \"\", \"exceptionClass\": \"\", \"trace\": \"\", \"outcomeType\": 4}}, \"*\")"
      ],
      "text/plain": [
       "<IPython.core.display.Javascript object>"
      ]
     },
     "metadata": {},
     "output_type": "display_data"
    },
    {
     "data": {
      "text/markdown": [
       "<span style=\"color:#33cc99\">Solution:</span> A straightforward (and totally fine) solution is to replace the original `print` call with:\n",
       "\n",
       "```python\n",
       "if total_candies == 1:\n",
       "    print(\"Splitting 1 candy\")\n",
       "else:\n",
       "    print(\"Splitting\", total_candies, \"candies\")\n",
       "```\n",
       "\n",
       "Here's a slightly more succinct solution using a conditional expression:\n",
       "\n",
       "```python\n",
       "print(\"Splitting\", total_candies, \"candy\" if total_candies == 1 else \"candies\")\n",
       "```"
      ],
      "text/plain": [
       "Solution: A straightforward (and totally fine) solution is to replace the original `print` call with:\n",
       "\n",
       "```python\n",
       "if total_candies == 1:\n",
       "    print(\"Splitting 1 candy\")\n",
       "else:\n",
       "    print(\"Splitting\", total_candies, \"candies\")\n",
       "```\n",
       "\n",
       "Here's a slightly more succinct solution using a conditional expression:\n",
       "\n",
       "```python\n",
       "print(\"Splitting\", total_candies, \"candy\" if total_candies == 1 else \"candies\")\n",
       "```"
      ]
     },
     "metadata": {},
     "output_type": "display_data"
    }
   ],
   "source": [
    "# Check your answer (Run this code cell to receive credit!)\n",
    "q2.solution()"
   ]
  },
  {
   "cell_type": "markdown",
   "id": "0f557731",
   "metadata": {
    "papermill": {
     "duration": 0.010065,
     "end_time": "2023-02-17T13:26:23.772327",
     "exception": false,
     "start_time": "2023-02-17T13:26:23.762262",
     "status": "completed"
    },
    "tags": []
   },
   "source": [
    "# 3. <span title=\"A bit spicy\" style=\"color: darkgreen \">🌶️</span>\n",
    "\n",
    "In the tutorial, we talked about deciding whether we're prepared for the weather. I said that I'm safe from today's weather if...\n",
    "- I have an umbrella...\n",
    "- or if the rain isn't too heavy and I have a hood...\n",
    "- otherwise, I'm still fine unless it's raining *and* it's a workday\n",
    "\n",
    "The function below uses our first attempt at turning this logic into a Python expression. I claimed that there was a bug in that code. Can you find it?\n",
    "\n",
    "To prove that `prepared_for_weather` is buggy, come up with a set of inputs where either:\n",
    "- the function returns `False` (but should have returned `True`), or\n",
    "- the function returned `True` (but should have returned `False`).\n",
    "\n",
    "To get credit for completing this question, your code should return a <font color='#33cc33'>Correct</font> result."
   ]
  },
  {
   "cell_type": "code",
   "execution_count": 8,
   "id": "5dee6e95",
   "metadata": {
    "execution": {
     "iopub.execute_input": "2023-02-17T13:26:23.795715Z",
     "iopub.status.busy": "2023-02-17T13:26:23.795293Z",
     "iopub.status.idle": "2023-02-17T13:26:23.809049Z",
     "shell.execute_reply": "2023-02-17T13:26:23.807477Z"
    },
    "papermill": {
     "duration": 0.028243,
     "end_time": "2023-02-17T13:26:23.811482",
     "exception": false,
     "start_time": "2023-02-17T13:26:23.783239",
     "status": "completed"
    },
    "tags": []
   },
   "outputs": [
    {
     "name": "stdout",
     "output_type": "stream",
     "text": [
      "False\n"
     ]
    },
    {
     "data": {
      "application/javascript": [
       "parent.postMessage({\"jupyterEvent\": \"custom.exercise_interaction\", \"data\": {\"outcomeType\": 1, \"valueTowardsCompletion\": 0.2, \"interactionType\": 1, \"questionType\": 1, \"questionId\": \"3_WeatherDebug\", \"learnToolsVersion\": \"0.3.4\", \"failureMessage\": \"\", \"exceptionClass\": \"\", \"trace\": \"\"}}, \"*\")"
      ],
      "text/plain": [
       "<IPython.core.display.Javascript object>"
      ]
     },
     "metadata": {},
     "output_type": "display_data"
    },
    {
     "data": {
      "text/markdown": [
       "<span style=\"color:#33cc33\">Correct:</span> \n",
       "\n",
       "One example of a failing test case is:\n",
       "\n",
       "```python\n",
       "have_umbrella = False\n",
       "rain_level = 0.0\n",
       "have_hood = False\n",
       "is_workday = False\n",
       "```\n",
       "\n",
       "Clearly we're prepared for the weather in this case. It's not raining. Not only that, it's not a workday, so we don't even need to leave the house! But our function will return False on these inputs.\n",
       "\n",
       "The key problem is that Python implictly parenthesizes the last part as:\n",
       "\n",
       "```python\n",
       "(not (rain_level > 0)) and is_workday\n",
       "```\n",
       "\n",
       "Whereas what we were trying to express would look more like:\n",
       "\n",
       "```python\n",
       "not (rain_level > 0 and is_workday)\n",
       "```\n"
      ],
      "text/plain": [
       "Correct: \n",
       "\n",
       "One example of a failing test case is:\n",
       "\n",
       "```python\n",
       "have_umbrella = False\n",
       "rain_level = 0.0\n",
       "have_hood = False\n",
       "is_workday = False\n",
       "```\n",
       "\n",
       "Clearly we're prepared for the weather in this case. It's not raining. Not only that, it's not a workday, so we don't even need to leave the house! But our function will return False on these inputs.\n",
       "\n",
       "The key problem is that Python implictly parenthesizes the last part as:\n",
       "\n",
       "```python\n",
       "(not (rain_level > 0)) and is_workday\n",
       "```\n",
       "\n",
       "Whereas what we were trying to express would look more like:\n",
       "\n",
       "```python\n",
       "not (rain_level > 0 and is_workday)\n",
       "```"
      ]
     },
     "metadata": {},
     "output_type": "display_data"
    }
   ],
   "source": [
    "def prepared_for_weather(have_umbrella, rain_level, have_hood, is_workday):\n",
    "    # Don't change this code. Our goal is just to find the bug, not fix it!\n",
    "    return have_umbrella or rain_level < 5 and have_hood or not rain_level > 0 and is_workday\n",
    "\n",
    "# Change the values of these inputs so they represent a case where prepared_for_weather\n",
    "# returns the wrong answer.\n",
    "have_umbrella = False\n",
    "rain_level = 6\n",
    "have_hood = False\n",
    "is_workday = False\n",
    "\n",
    "# Check what the function returns given the current values of the variables above\n",
    "actual = prepared_for_weather(have_umbrella, rain_level, have_hood, is_workday)\n",
    "print(actual)\n",
    "\n",
    "# Check your answer\n",
    "q3.check()"
   ]
  },
  {
   "cell_type": "code",
   "execution_count": 9,
   "id": "3aa50c04",
   "metadata": {
    "execution": {
     "iopub.execute_input": "2023-02-17T13:26:23.835270Z",
     "iopub.status.busy": "2023-02-17T13:26:23.834779Z",
     "iopub.status.idle": "2023-02-17T13:26:23.839943Z",
     "shell.execute_reply": "2023-02-17T13:26:23.838468Z"
    },
    "papermill": {
     "duration": 0.019996,
     "end_time": "2023-02-17T13:26:23.842578",
     "exception": false,
     "start_time": "2023-02-17T13:26:23.822582",
     "status": "completed"
    },
    "tags": []
   },
   "outputs": [],
   "source": [
    "#q3.hint()\n",
    "#q3.solution()"
   ]
  },
  {
   "cell_type": "markdown",
   "id": "a3e4d73b",
   "metadata": {
    "papermill": {
     "duration": 0.010089,
     "end_time": "2023-02-17T13:26:23.863298",
     "exception": false,
     "start_time": "2023-02-17T13:26:23.853209",
     "status": "completed"
    },
    "tags": []
   },
   "source": [
    "# 4.\n",
    "\n",
    "The function `is_negative` below is implemented correctly - it returns True if the given number is negative and False otherwise.\n",
    "\n",
    "However, it's more verbose than it needs to be. We can actually reduce the number of lines of code in this function by *75%* while keeping the same behaviour. \n",
    "\n",
    "See if you can come up with an equivalent body that uses just **one line** of code, and put it in the function `concise_is_negative`. (HINT: you don't even need Python's ternary syntax)"
   ]
  },
  {
   "cell_type": "code",
   "execution_count": 10,
   "id": "708e8bbc",
   "metadata": {
    "execution": {
     "iopub.execute_input": "2023-02-17T13:26:23.886249Z",
     "iopub.status.busy": "2023-02-17T13:26:23.885787Z",
     "iopub.status.idle": "2023-02-17T13:26:23.897527Z",
     "shell.execute_reply": "2023-02-17T13:26:23.896177Z"
    },
    "papermill": {
     "duration": 0.026607,
     "end_time": "2023-02-17T13:26:23.900363",
     "exception": false,
     "start_time": "2023-02-17T13:26:23.873756",
     "status": "completed"
    },
    "tags": []
   },
   "outputs": [
    {
     "data": {
      "application/javascript": [
       "parent.postMessage({\"jupyterEvent\": \"custom.exercise_interaction\", \"data\": {\"outcomeType\": 1, \"valueTowardsCompletion\": 0.2, \"interactionType\": 1, \"questionType\": 2, \"questionId\": \"4_ConciseIsNegative\", \"learnToolsVersion\": \"0.3.4\", \"failureMessage\": \"\", \"exceptionClass\": \"\", \"trace\": \"\"}}, \"*\")"
      ],
      "text/plain": [
       "<IPython.core.display.Javascript object>"
      ]
     },
     "metadata": {},
     "output_type": "display_data"
    },
    {
     "data": {
      "text/markdown": [
       "<span style=\"color:#33cc33\">Correct</span>"
      ],
      "text/plain": [
       "Correct"
      ]
     },
     "metadata": {},
     "output_type": "display_data"
    }
   ],
   "source": [
    "def is_negative(number):\n",
    "    if number < 0:\n",
    "        return True\n",
    "    else:\n",
    "        return False\n",
    "\n",
    "def concise_is_negative(number):\n",
    "    return number < 0\n",
    "    pass # Your code goes here (try to keep it to one line!)\n",
    "\n",
    "# Check your answer\n",
    "q4.check()"
   ]
  },
  {
   "cell_type": "code",
   "execution_count": 11,
   "id": "32e1d4ee",
   "metadata": {
    "execution": {
     "iopub.execute_input": "2023-02-17T13:26:23.925020Z",
     "iopub.status.busy": "2023-02-17T13:26:23.924387Z",
     "iopub.status.idle": "2023-02-17T13:26:23.929766Z",
     "shell.execute_reply": "2023-02-17T13:26:23.928408Z"
    },
    "papermill": {
     "duration": 0.02028,
     "end_time": "2023-02-17T13:26:23.932370",
     "exception": false,
     "start_time": "2023-02-17T13:26:23.912090",
     "status": "completed"
    },
    "tags": []
   },
   "outputs": [],
   "source": [
    "#q4.hint()\n",
    "#q4.solution()"
   ]
  },
  {
   "cell_type": "markdown",
   "id": "0ae0df9f",
   "metadata": {
    "papermill": {
     "duration": 0.01034,
     "end_time": "2023-02-17T13:26:23.953587",
     "exception": false,
     "start_time": "2023-02-17T13:26:23.943247",
     "status": "completed"
    },
    "tags": []
   },
   "source": [
    "# 5a.\n",
    "\n",
    "The boolean variables `ketchup`, `mustard` and `onion` represent whether a customer wants a particular topping on their hot dog. We want to implement a number of boolean functions that correspond to some yes-or-no questions about the customer's order. For example:"
   ]
  },
  {
   "cell_type": "code",
   "execution_count": 12,
   "id": "cbc7ab25",
   "metadata": {
    "execution": {
     "iopub.execute_input": "2023-02-17T13:26:23.977267Z",
     "iopub.status.busy": "2023-02-17T13:26:23.976793Z",
     "iopub.status.idle": "2023-02-17T13:26:23.982537Z",
     "shell.execute_reply": "2023-02-17T13:26:23.981196Z"
    },
    "papermill": {
     "duration": 0.020652,
     "end_time": "2023-02-17T13:26:23.985257",
     "exception": false,
     "start_time": "2023-02-17T13:26:23.964605",
     "status": "completed"
    },
    "tags": []
   },
   "outputs": [],
   "source": [
    "def onionless(ketchup, mustard, onion):\n",
    "    \"\"\"Return whether the customer doesn't want onions.\n",
    "    \"\"\"\n",
    "    return not onion"
   ]
  },
  {
   "cell_type": "code",
   "execution_count": 13,
   "id": "881d95c1",
   "metadata": {
    "execution": {
     "iopub.execute_input": "2023-02-17T13:26:24.009057Z",
     "iopub.status.busy": "2023-02-17T13:26:24.008494Z",
     "iopub.status.idle": "2023-02-17T13:26:24.020042Z",
     "shell.execute_reply": "2023-02-17T13:26:24.018608Z"
    },
    "papermill": {
     "duration": 0.026455,
     "end_time": "2023-02-17T13:26:24.022826",
     "exception": false,
     "start_time": "2023-02-17T13:26:23.996371",
     "status": "completed"
    },
    "tags": []
   },
   "outputs": [
    {
     "data": {
      "application/javascript": [
       "parent.postMessage({\"jupyterEvent\": \"custom.exercise_interaction\", \"data\": {\"outcomeType\": 1, \"valueTowardsCompletion\": 0.2, \"interactionType\": 1, \"questionType\": 2, \"questionId\": \"5.1_AllToppings\", \"learnToolsVersion\": \"0.3.4\", \"failureMessage\": \"\", \"exceptionClass\": \"\", \"trace\": \"\"}}, \"*\")"
      ],
      "text/plain": [
       "<IPython.core.display.Javascript object>"
      ]
     },
     "metadata": {},
     "output_type": "display_data"
    },
    {
     "data": {
      "text/markdown": [
       "<span style=\"color:#33cc33\">Correct</span>"
      ],
      "text/plain": [
       "Correct"
      ]
     },
     "metadata": {},
     "output_type": "display_data"
    }
   ],
   "source": [
    "def wants_all_toppings(ketchup, mustard, onion):\n",
    "    \"\"\"Return whether the customer wants \"the works\" (all 3 toppings)\n",
    "    \"\"\"\n",
    "    return ketchup and mustard and onion\n",
    "\n",
    "# Check your answer\n",
    "q5.a.check()"
   ]
  },
  {
   "cell_type": "code",
   "execution_count": 14,
   "id": "a180c9bd",
   "metadata": {
    "execution": {
     "iopub.execute_input": "2023-02-17T13:26:24.047663Z",
     "iopub.status.busy": "2023-02-17T13:26:24.047220Z",
     "iopub.status.idle": "2023-02-17T13:26:24.052469Z",
     "shell.execute_reply": "2023-02-17T13:26:24.051176Z"
    },
    "papermill": {
     "duration": 0.020439,
     "end_time": "2023-02-17T13:26:24.054930",
     "exception": false,
     "start_time": "2023-02-17T13:26:24.034491",
     "status": "completed"
    },
    "tags": []
   },
   "outputs": [],
   "source": [
    "#q5.a.hint()\n",
    "#q5.a.solution()"
   ]
  },
  {
   "cell_type": "markdown",
   "id": "5e5144f2",
   "metadata": {
    "papermill": {
     "duration": 0.010768,
     "end_time": "2023-02-17T13:26:24.076975",
     "exception": false,
     "start_time": "2023-02-17T13:26:24.066207",
     "status": "completed"
    },
    "tags": []
   },
   "source": [
    "# 5b.\n",
    "\n",
    "For the next function, fill in the body to match the English description in the docstring. "
   ]
  },
  {
   "cell_type": "code",
   "execution_count": 15,
   "id": "ae44a68a",
   "metadata": {
    "execution": {
     "iopub.execute_input": "2023-02-17T13:26:24.101174Z",
     "iopub.status.busy": "2023-02-17T13:26:24.100700Z",
     "iopub.status.idle": "2023-02-17T13:26:24.111697Z",
     "shell.execute_reply": "2023-02-17T13:26:24.110417Z"
    },
    "papermill": {
     "duration": 0.02591,
     "end_time": "2023-02-17T13:26:24.114099",
     "exception": false,
     "start_time": "2023-02-17T13:26:24.088189",
     "status": "completed"
    },
    "tags": []
   },
   "outputs": [
    {
     "data": {
      "application/javascript": [
       "parent.postMessage({\"jupyterEvent\": \"custom.exercise_interaction\", \"data\": {\"outcomeType\": 1, \"valueTowardsCompletion\": 0.2, \"interactionType\": 1, \"questionType\": 2, \"questionId\": \"5.2_PlainDog\", \"learnToolsVersion\": \"0.3.4\", \"failureMessage\": \"\", \"exceptionClass\": \"\", \"trace\": \"\"}}, \"*\")"
      ],
      "text/plain": [
       "<IPython.core.display.Javascript object>"
      ]
     },
     "metadata": {},
     "output_type": "display_data"
    },
    {
     "data": {
      "text/markdown": [
       "<span style=\"color:#33cc33\">Correct:</span> \n",
       "\n",
       "One solution looks like:\n",
       "```python\n",
       "return not ketchup and not mustard and not onion\n",
       "```\n",
       "\n",
       "We can also [\"factor out\" the nots](https://en.wikipedia.org/wiki/De_Morgan%27s_laws) to get:\n",
       "\n",
       "```python\n",
       "return not (ketchup or mustard or onion)\n",
       "```"
      ],
      "text/plain": [
       "Correct: \n",
       "\n",
       "One solution looks like:\n",
       "```python\n",
       "return not ketchup and not mustard and not onion\n",
       "```\n",
       "\n",
       "We can also [\"factor out\" the nots](https://en.wikipedia.org/wiki/De_Morgan%27s_laws) to get:\n",
       "\n",
       "```python\n",
       "return not (ketchup or mustard or onion)\n",
       "```"
      ]
     },
     "metadata": {},
     "output_type": "display_data"
    }
   ],
   "source": [
    "def wants_plain_hotdog(ketchup, mustard, onion):\n",
    "    \"\"\"Return whether the customer wants a plain hot dog with no toppings.\n",
    "    \"\"\"\n",
    "    return not (ketchup or mustard or onion)\n",
    "\n",
    "# Check your answer\n",
    "q5.b.check()"
   ]
  },
  {
   "cell_type": "code",
   "execution_count": 16,
   "id": "2925117d",
   "metadata": {
    "execution": {
     "iopub.execute_input": "2023-02-17T13:26:24.138867Z",
     "iopub.status.busy": "2023-02-17T13:26:24.138413Z",
     "iopub.status.idle": "2023-02-17T13:26:24.143045Z",
     "shell.execute_reply": "2023-02-17T13:26:24.141979Z"
    },
    "papermill": {
     "duration": 0.020008,
     "end_time": "2023-02-17T13:26:24.145595",
     "exception": false,
     "start_time": "2023-02-17T13:26:24.125587",
     "status": "completed"
    },
    "tags": []
   },
   "outputs": [],
   "source": [
    "#q5.b.hint()\n",
    "#q5.b.solution()"
   ]
  },
  {
   "cell_type": "markdown",
   "id": "ab9f5aae",
   "metadata": {
    "papermill": {
     "duration": 0.011166,
     "end_time": "2023-02-17T13:26:24.168426",
     "exception": false,
     "start_time": "2023-02-17T13:26:24.157260",
     "status": "completed"
    },
    "tags": []
   },
   "source": [
    "# 5c.\n",
    "\n",
    "You know what to do: for the next function, fill in the body to match the English description in the docstring."
   ]
  },
  {
   "cell_type": "code",
   "execution_count": 17,
   "id": "bac117ae",
   "metadata": {
    "execution": {
     "iopub.execute_input": "2023-02-17T13:26:24.193098Z",
     "iopub.status.busy": "2023-02-17T13:26:24.192625Z",
     "iopub.status.idle": "2023-02-17T13:26:24.203529Z",
     "shell.execute_reply": "2023-02-17T13:26:24.202195Z"
    },
    "papermill": {
     "duration": 0.026524,
     "end_time": "2023-02-17T13:26:24.206293",
     "exception": false,
     "start_time": "2023-02-17T13:26:24.179769",
     "status": "completed"
    },
    "tags": []
   },
   "outputs": [
    {
     "data": {
      "application/javascript": [
       "parent.postMessage({\"jupyterEvent\": \"custom.exercise_interaction\", \"data\": {\"outcomeType\": 1, \"valueTowardsCompletion\": 0.2, \"interactionType\": 1, \"questionType\": 2, \"questionId\": \"5.3_OneSauce\", \"learnToolsVersion\": \"0.3.4\", \"failureMessage\": \"\", \"exceptionClass\": \"\", \"trace\": \"\"}}, \"*\")"
      ],
      "text/plain": [
       "<IPython.core.display.Javascript object>"
      ]
     },
     "metadata": {},
     "output_type": "display_data"
    },
    {
     "data": {
      "text/markdown": [
       "<span style=\"color:#33cc33\">Correct</span>"
      ],
      "text/plain": [
       "Correct"
      ]
     },
     "metadata": {},
     "output_type": "display_data"
    }
   ],
   "source": [
    "def exactly_one_sauce(ketchup, mustard, onion):\n",
    "    \"\"\"Return whether the customer wants either ketchup or mustard, but not both.\n",
    "    (You may be familiar with this operation under the name \"exclusive or\")\n",
    "    \"\"\"\n",
    "    return (ketchup and not mustard) or (not ketchup and mustard)\n",
    "\n",
    "# Check your answer\n",
    "q5.c.check()"
   ]
  },
  {
   "cell_type": "code",
   "execution_count": 18,
   "id": "33317240",
   "metadata": {
    "execution": {
     "iopub.execute_input": "2023-02-17T13:26:24.232527Z",
     "iopub.status.busy": "2023-02-17T13:26:24.232093Z",
     "iopub.status.idle": "2023-02-17T13:26:24.237602Z",
     "shell.execute_reply": "2023-02-17T13:26:24.236334Z"
    },
    "papermill": {
     "duration": 0.021977,
     "end_time": "2023-02-17T13:26:24.240676",
     "exception": false,
     "start_time": "2023-02-17T13:26:24.218699",
     "status": "completed"
    },
    "tags": []
   },
   "outputs": [],
   "source": [
    "#q5.c.hint()\n",
    "#q5.c.solution()"
   ]
  },
  {
   "cell_type": "markdown",
   "id": "5c6ff412",
   "metadata": {
    "papermill": {
     "duration": 0.011753,
     "end_time": "2023-02-17T13:26:24.264270",
     "exception": false,
     "start_time": "2023-02-17T13:26:24.252517",
     "status": "completed"
    },
    "tags": []
   },
   "source": [
    "# 6. <span title=\"A bit spicy\" style=\"color: darkgreen \">🌶️</span>\n",
    "\n",
    "We’ve seen that calling `bool()` on an integer returns `False` if it’s equal to 0 and `True` otherwise. What happens if we call `int()` on a bool? Try it out in the notebook cell below.\n",
    "\n",
    "Can you take advantage of this to write a succinct function that corresponds to the English sentence \"does the customer want exactly one topping?\"?"
   ]
  },
  {
   "cell_type": "code",
   "execution_count": 19,
   "id": "334ca0c6",
   "metadata": {
    "execution": {
     "iopub.execute_input": "2023-02-17T13:26:24.290862Z",
     "iopub.status.busy": "2023-02-17T13:26:24.290427Z",
     "iopub.status.idle": "2023-02-17T13:26:24.301389Z",
     "shell.execute_reply": "2023-02-17T13:26:24.300165Z"
    },
    "papermill": {
     "duration": 0.026702,
     "end_time": "2023-02-17T13:26:24.303706",
     "exception": false,
     "start_time": "2023-02-17T13:26:24.277004",
     "status": "completed"
    },
    "tags": []
   },
   "outputs": [
    {
     "data": {
      "application/javascript": [
       "parent.postMessage({\"jupyterEvent\": \"custom.exercise_interaction\", \"data\": {\"outcomeType\": 1, \"valueTowardsCompletion\": 0.2, \"interactionType\": 1, \"questionType\": 2, \"questionId\": \"6_OneTopping\", \"learnToolsVersion\": \"0.3.4\", \"failureMessage\": \"\", \"exceptionClass\": \"\", \"trace\": \"\"}}, \"*\")"
      ],
      "text/plain": [
       "<IPython.core.display.Javascript object>"
      ]
     },
     "metadata": {},
     "output_type": "display_data"
    },
    {
     "data": {
      "text/markdown": [
       "<span style=\"color:#33cc33\">Correct:</span> \n",
       "\n",
       "This condition would be pretty complicated to express using just `and`, `or` and `not`, but using boolean-to-integer conversion gives us this short solution:\n",
       "```python\n",
       "return (int(ketchup) + int(mustard) + int(onion)) == 1\n",
       "```\n",
       "\n",
       "Fun fact: we don't technically need to call `int` on the arguments. Just by doing addition with booleans, Python implicitly does the integer conversion. So we could also write...\n",
       "\n",
       "```python\n",
       "return (ketchup + mustard + onion) == 1\n",
       "```"
      ],
      "text/plain": [
       "Correct: \n",
       "\n",
       "This condition would be pretty complicated to express using just `and`, `or` and `not`, but using boolean-to-integer conversion gives us this short solution:\n",
       "```python\n",
       "return (int(ketchup) + int(mustard) + int(onion)) == 1\n",
       "```\n",
       "\n",
       "Fun fact: we don't technically need to call `int` on the arguments. Just by doing addition with booleans, Python implicitly does the integer conversion. So we could also write...\n",
       "\n",
       "```python\n",
       "return (ketchup + mustard + onion) == 1\n",
       "```"
      ]
     },
     "metadata": {},
     "output_type": "display_data"
    }
   ],
   "source": [
    "def exactly_one_topping(ketchup, mustard, onion):\n",
    "    \"\"\"Return whether the customer wants exactly one of the three available toppings\n",
    "    on their hot dog.\n",
    "    \"\"\"\n",
    "    if int(ketchup + mustard + onion) == 1 :\n",
    "        return True\n",
    "    else : \n",
    "        return False\n",
    "\n",
    "# Check your answer\n",
    "q6.check()"
   ]
  },
  {
   "cell_type": "code",
   "execution_count": 20,
   "id": "13c2ec86",
   "metadata": {
    "execution": {
     "iopub.execute_input": "2023-02-17T13:26:24.330056Z",
     "iopub.status.busy": "2023-02-17T13:26:24.329570Z",
     "iopub.status.idle": "2023-02-17T13:26:24.335156Z",
     "shell.execute_reply": "2023-02-17T13:26:24.333732Z"
    },
    "papermill": {
     "duration": 0.022188,
     "end_time": "2023-02-17T13:26:24.338113",
     "exception": false,
     "start_time": "2023-02-17T13:26:24.315925",
     "status": "completed"
    },
    "tags": []
   },
   "outputs": [],
   "source": [
    "#q6.hint()\n",
    "#q6.solution()"
   ]
  },
  {
   "cell_type": "markdown",
   "id": "889b027d",
   "metadata": {
    "papermill": {
     "duration": 0.015317,
     "end_time": "2023-02-17T13:26:24.368566",
     "exception": false,
     "start_time": "2023-02-17T13:26:24.353249",
     "status": "completed"
    },
    "tags": []
   },
   "source": [
    "# 7. <span title=\"A bit spicy\" style=\"color: darkgreen \">🌶️</span> (Optional)\n",
    "\n",
    "In this problem we'll be working with a simplified version of [blackjack](https://en.wikipedia.org/wiki/Blackjack) (aka twenty-one). In this version there is one player (who you'll control) and a dealer. Play proceeds as follows:\n",
    "\n",
    "- The player is dealt two face-up cards. The dealer is dealt one face-up card.\n",
    "- The player may ask to be dealt another card ('hit') as many times as they wish. If the sum of their cards exceeds 21, they lose the round immediately.\n",
    "- The dealer then deals additional cards to himself until either:\n",
    "    - the sum of the dealer's cards exceeds 21, in which case the player wins the round\n",
    "    - the sum of the dealer's cards is greater than or equal to 17. If the player's total is greater than the dealer's, the player wins. Otherwise, the dealer wins (even in case of a tie).\n",
    "    \n",
    "When calculating the sum of cards, Jack, Queen, and King count for 10. Aces can count as 1 or 11 (when referring to a player's \"total\" above, we mean the largest total that can be made without exceeding 21. So e.g. A+8 = 19, A+8+8 = 17)\n",
    "\n",
    "For this problem, you'll write a function representing the player's decision-making strategy in this game. We've provided a very unintelligent implementation below:"
   ]
  },
  {
   "cell_type": "code",
   "execution_count": 21,
   "id": "0219a224",
   "metadata": {
    "execution": {
     "iopub.execute_input": "2023-02-17T13:26:24.397552Z",
     "iopub.status.busy": "2023-02-17T13:26:24.397102Z",
     "iopub.status.idle": "2023-02-17T13:26:24.404822Z",
     "shell.execute_reply": "2023-02-17T13:26:24.403817Z"
    },
    "papermill": {
     "duration": 0.025354,
     "end_time": "2023-02-17T13:26:24.407451",
     "exception": false,
     "start_time": "2023-02-17T13:26:24.382097",
     "status": "completed"
    },
    "tags": []
   },
   "outputs": [],
   "source": [
    "def should_hit(dealer_total, player_total, player_low_aces, player_high_aces):\n",
    "    \"\"\"Return True if the player should hit (request another card) given the current game\n",
    "    state, or False if the player should stay.\n",
    "    When calculating a hand's total value, we count aces as \"high\" (with value 11) if doing so\n",
    "    doesn't bring the total above 21, otherwise we count them as low (with value 1). \n",
    "    For example, if the player's hand is {A, A, A, 7}, we will count it as 11 + 1 + 1 + 7,\n",
    "    and therefore set player_total=20, player_low_aces=2, player_high_aces=1.\n",
    "    \"\"\"\n",
    "    return False"
   ]
  },
  {
   "cell_type": "markdown",
   "id": "89e3665e",
   "metadata": {
    "papermill": {
     "duration": 0.012249,
     "end_time": "2023-02-17T13:26:24.432856",
     "exception": false,
     "start_time": "2023-02-17T13:26:24.420607",
     "status": "completed"
    },
    "tags": []
   },
   "source": [
    "This very conservative agent *always* sticks with the hand of two cards that they're dealt.\n",
    "\n",
    "We'll be simulating games between your player agent and our own dealer agent by calling your function.\n",
    "\n",
    "Try running the function below to see an example of a simulated game:"
   ]
  },
  {
   "cell_type": "code",
   "execution_count": 22,
   "id": "6206f978",
   "metadata": {
    "execution": {
     "iopub.execute_input": "2023-02-17T13:26:24.460017Z",
     "iopub.status.busy": "2023-02-17T13:26:24.459547Z",
     "iopub.status.idle": "2023-02-17T13:26:24.467128Z",
     "shell.execute_reply": "2023-02-17T13:26:24.464712Z"
    },
    "papermill": {
     "duration": 0.024757,
     "end_time": "2023-02-17T13:26:24.470188",
     "exception": false,
     "start_time": "2023-02-17T13:26:24.445431",
     "status": "completed"
    },
    "tags": []
   },
   "outputs": [
    {
     "name": "stdout",
     "output_type": "stream",
     "text": [
      "Player starts with 6 and 8 (total = 14)\n",
      "Dealer starts with K\n",
      "\n",
      "__Player's turn__\n",
      "Player stays\n",
      "\n",
      "__Dealer's turn__\n",
      "Dealer hits and receives K. (total = 20)\n",
      "Dealer stands.\n",
      "Dealer wins. 20 >= 14\n"
     ]
    }
   ],
   "source": [
    "q7.simulate_one_game()"
   ]
  },
  {
   "cell_type": "markdown",
   "id": "e3d94ed9",
   "metadata": {
    "papermill": {
     "duration": 0.011894,
     "end_time": "2023-02-17T13:26:24.494333",
     "exception": false,
     "start_time": "2023-02-17T13:26:24.482439",
     "status": "completed"
    },
    "tags": []
   },
   "source": [
    "The real test of your agent's mettle is their average win rate over many games. Try calling the function below to simulate 50000 games of blackjack (it may take a couple seconds):"
   ]
  },
  {
   "cell_type": "code",
   "execution_count": 23,
   "id": "16a3d872",
   "metadata": {
    "execution": {
     "iopub.execute_input": "2023-02-17T13:26:24.521830Z",
     "iopub.status.busy": "2023-02-17T13:26:24.520233Z",
     "iopub.status.idle": "2023-02-17T13:26:26.209131Z",
     "shell.execute_reply": "2023-02-17T13:26:26.207251Z"
    },
    "papermill": {
     "duration": 1.705725,
     "end_time": "2023-02-17T13:26:26.212244",
     "exception": false,
     "start_time": "2023-02-17T13:26:24.506519",
     "status": "completed"
    },
    "tags": []
   },
   "outputs": [
    {
     "name": "stdout",
     "output_type": "stream",
     "text": [
      "Player won 18857 out of 50000 games (win rate = 37.7%)\n"
     ]
    }
   ],
   "source": [
    "q7.simulate(n_games=50000)"
   ]
  },
  {
   "cell_type": "markdown",
   "id": "c39308db",
   "metadata": {
    "papermill": {
     "duration": 0.011914,
     "end_time": "2023-02-17T13:26:26.236771",
     "exception": false,
     "start_time": "2023-02-17T13:26:26.224857",
     "status": "completed"
    },
    "tags": []
   },
   "source": [
    "Our dumb agent that completely ignores the game state still manages to win shockingly often!\n",
    "\n",
    "Try adding some more smarts to the `should_hit` function and see how it affects the results."
   ]
  },
  {
   "cell_type": "code",
   "execution_count": 24,
   "id": "5a437cde",
   "metadata": {
    "execution": {
     "iopub.execute_input": "2023-02-17T13:26:26.265908Z",
     "iopub.status.busy": "2023-02-17T13:26:26.265440Z",
     "iopub.status.idle": "2023-02-17T13:26:28.121566Z",
     "shell.execute_reply": "2023-02-17T13:26:28.120251Z"
    },
    "papermill": {
     "duration": 1.873929,
     "end_time": "2023-02-17T13:26:28.124425",
     "exception": false,
     "start_time": "2023-02-17T13:26:26.250496",
     "status": "completed"
    },
    "tags": []
   },
   "outputs": [
    {
     "name": "stdout",
     "output_type": "stream",
     "text": [
      "Player won 20820 out of 50000 games (win rate = 41.6%)\n"
     ]
    }
   ],
   "source": [
    "def should_hit(dealer_total, player_total, player_low_aces, player_high_aces):\n",
    "    \"\"\"Return True if the player should hit (request another card) given the current game\n",
    "    state, or False if the player should stay.\n",
    "    When calculating a hand's total value, we count aces as \"high\" (with value 11) if doing so\n",
    "    doesn't bring the total above 21, otherwise we count them as low (with value 1). \n",
    "    For example, if the player's hand is {A, A, A, 7}, we will count it as 11 + 1 + 1 + 7,\n",
    "    and therefore set player_total=20, player_low_aces=2, player_high_aces=1.\n",
    "    \"\"\"\n",
    "    if(dealer_total < 7):\n",
    "        return False\n",
    "    elif (player_total > 16):\n",
    "        return False\n",
    "    return True\n",
    "\n",
    "q7.simulate(n_games=50000)"
   ]
  },
  {
   "cell_type": "markdown",
   "id": "084e43b3",
   "metadata": {
    "papermill": {
     "duration": 0.012107,
     "end_time": "2023-02-17T13:26:28.149056",
     "exception": false,
     "start_time": "2023-02-17T13:26:28.136949",
     "status": "completed"
    },
    "tags": []
   },
   "source": [
    "# Keep Going\n",
    "\n",
    "Learn about **[lists and tuples](https://www.kaggle.com/colinmorris/lists)** to handle multiple items of data in a systematic way."
   ]
  },
  {
   "cell_type": "markdown",
   "id": "5b4cc84b",
   "metadata": {
    "papermill": {
     "duration": 0.012084,
     "end_time": "2023-02-17T13:26:28.173550",
     "exception": false,
     "start_time": "2023-02-17T13:26:28.161466",
     "status": "completed"
    },
    "tags": []
   },
   "source": [
    "---\n",
    "\n",
    "\n",
    "\n",
    "\n",
    "*Have questions or comments? Visit the [course discussion forum](https://www.kaggle.com/learn/python/discussion) to chat with other learners.*"
   ]
  }
 ],
 "metadata": {
  "kernelspec": {
   "display_name": "Python 3",
   "language": "python",
   "name": "python3"
  },
  "language_info": {
   "codemirror_mode": {
    "name": "ipython",
    "version": 3
   },
   "file_extension": ".py",
   "mimetype": "text/x-python",
   "name": "python",
   "nbconvert_exporter": "python",
   "pygments_lexer": "ipython3",
   "version": "3.7.12"
  },
  "papermill": {
   "default_parameters": {},
   "duration": 16.880509,
   "end_time": "2023-02-17T13:26:28.910583",
   "environment_variables": {},
   "exception": null,
   "input_path": "__notebook__.ipynb",
   "output_path": "__notebook__.ipynb",
   "parameters": {},
   "start_time": "2023-02-17T13:26:12.030074",
   "version": "2.3.4"
  }
 },
 "nbformat": 4,
 "nbformat_minor": 5
}
