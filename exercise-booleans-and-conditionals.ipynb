{
 "cells": [
  {
   "cell_type": "markdown",
   "id": "5cbc0ce4",
   "metadata": {
    "papermill": {
     "duration": 0.010291,
     "end_time": "2023-02-17T13:11:58.576194",
     "exception": false,
     "start_time": "2023-02-17T13:11:58.565903",
     "status": "completed"
    },
    "tags": []
   },
   "source": [
    "**This notebook is an exercise in the [Python](https://www.kaggle.com/learn/python) course.  You can reference the tutorial at [this link](https://www.kaggle.com/colinmorris/booleans-and-conditionals).**\n",
    "\n",
    "---\n"
   ]
  },
  {
   "cell_type": "markdown",
   "id": "de3552e9",
   "metadata": {
    "papermill": {
     "duration": 0.008555,
     "end_time": "2023-02-17T13:11:58.593780",
     "exception": false,
     "start_time": "2023-02-17T13:11:58.585225",
     "status": "completed"
    },
    "tags": []
   },
   "source": [
    "In this exercise, you'll put to work what you have learned about booleans and conditionals.\n",
    "\n",
    "To get started, **run the setup code below** before writing your own code (and if you leave this notebook and come back later, don't forget to run the setup code again)."
   ]
  },
  {
   "cell_type": "code",
   "execution_count": 1,
   "id": "6dc879b2",
   "metadata": {
    "execution": {
     "iopub.execute_input": "2023-02-17T13:11:58.613921Z",
     "iopub.status.busy": "2023-02-17T13:11:58.613166Z",
     "iopub.status.idle": "2023-02-17T13:11:58.654023Z",
     "shell.execute_reply": "2023-02-17T13:11:58.653086Z"
    },
    "papermill": {
     "duration": 0.0551,
     "end_time": "2023-02-17T13:11:58.657694",
     "exception": false,
     "start_time": "2023-02-17T13:11:58.602594",
     "status": "completed"
    },
    "tags": []
   },
   "outputs": [
    {
     "name": "stdout",
     "output_type": "stream",
     "text": [
      "Setup complete.\n"
     ]
    }
   ],
   "source": [
    "from learntools.core import binder; binder.bind(globals())\n",
    "from learntools.python.ex3 import *\n",
    "print('Setup complete.')"
   ]
  },
  {
   "cell_type": "markdown",
   "id": "a3f4b00e",
   "metadata": {
    "papermill": {
     "duration": 0.008884,
     "end_time": "2023-02-17T13:11:58.676606",
     "exception": false,
     "start_time": "2023-02-17T13:11:58.667722",
     "status": "completed"
    },
    "tags": []
   },
   "source": [
    "# 1.\n",
    "\n",
    "Many programming languages have [`sign`](https://en.wikipedia.org/wiki/Sign_function) available as a built-in function. Python doesn't, but we can define our own!\n",
    "\n",
    "In the cell below, define a function called `sign` which takes a numerical argument and returns -1 if it's negative, 1 if it's positive, and 0 if it's 0."
   ]
  },
  {
   "cell_type": "code",
   "execution_count": 2,
   "id": "c6247bd7",
   "metadata": {
    "execution": {
     "iopub.execute_input": "2023-02-17T13:11:58.696497Z",
     "iopub.status.busy": "2023-02-17T13:11:58.695739Z",
     "iopub.status.idle": "2023-02-17T13:11:58.706711Z",
     "shell.execute_reply": "2023-02-17T13:11:58.705708Z"
    },
    "papermill": {
     "duration": 0.023293,
     "end_time": "2023-02-17T13:11:58.708886",
     "exception": false,
     "start_time": "2023-02-17T13:11:58.685593",
     "status": "completed"
    },
    "tags": []
   },
   "outputs": [
    {
     "data": {
      "application/javascript": [
       "parent.postMessage({\"jupyterEvent\": \"custom.exercise_interaction\", \"data\": {\"outcomeType\": 1, \"valueTowardsCompletion\": 0.2, \"interactionType\": 1, \"questionType\": 2, \"questionId\": \"1_SignFunctionProblem\", \"learnToolsVersion\": \"0.3.4\", \"failureMessage\": \"\", \"exceptionClass\": \"\", \"trace\": \"\"}}, \"*\")"
      ],
      "text/plain": [
       "<IPython.core.display.Javascript object>"
      ]
     },
     "metadata": {},
     "output_type": "display_data"
    },
    {
     "data": {
      "text/markdown": [
       "<span style=\"color:#33cc33\">Correct</span>"
      ],
      "text/plain": [
       "Correct"
      ]
     },
     "metadata": {},
     "output_type": "display_data"
    }
   ],
   "source": [
    "# Your code goes here. Define a function called 'sign'\n",
    "def sign(num) :\n",
    "    if num == 0 :\n",
    "        return 0\n",
    "    elif num > 0 :\n",
    "        return 1\n",
    "    else :\n",
    "        return -1\n",
    "\n",
    "\n",
    "# Check your answer\n",
    "q1.check()"
   ]
  },
  {
   "cell_type": "code",
   "execution_count": 3,
   "id": "9ef98fc9",
   "metadata": {
    "execution": {
     "iopub.execute_input": "2023-02-17T13:11:58.729279Z",
     "iopub.status.busy": "2023-02-17T13:11:58.728540Z",
     "iopub.status.idle": "2023-02-17T13:11:58.732827Z",
     "shell.execute_reply": "2023-02-17T13:11:58.731882Z"
    },
    "papermill": {
     "duration": 0.016753,
     "end_time": "2023-02-17T13:11:58.734884",
     "exception": false,
     "start_time": "2023-02-17T13:11:58.718131",
     "status": "completed"
    },
    "tags": []
   },
   "outputs": [],
   "source": [
    "# q1.solution()"
   ]
  },
  {
   "cell_type": "markdown",
   "id": "2d4359ad",
   "metadata": {
    "papermill": {
     "duration": 0.00882,
     "end_time": "2023-02-17T13:11:58.752861",
     "exception": false,
     "start_time": "2023-02-17T13:11:58.744041",
     "status": "completed"
    },
    "tags": []
   },
   "source": [
    "# 2.\n",
    "\n",
    "We've decided to add \"logging\" to our `to_smash` function from the previous exercise."
   ]
  },
  {
   "cell_type": "code",
   "execution_count": 4,
   "id": "27b947e5",
   "metadata": {
    "execution": {
     "iopub.execute_input": "2023-02-17T13:11:58.773375Z",
     "iopub.status.busy": "2023-02-17T13:11:58.772624Z",
     "iopub.status.idle": "2023-02-17T13:11:58.787422Z",
     "shell.execute_reply": "2023-02-17T13:11:58.786493Z"
    },
    "papermill": {
     "duration": 0.027774,
     "end_time": "2023-02-17T13:11:58.789736",
     "exception": false,
     "start_time": "2023-02-17T13:11:58.761962",
     "status": "completed"
    },
    "tags": []
   },
   "outputs": [
    {
     "name": "stdout",
     "output_type": "stream",
     "text": [
      "Splitting 91 candies\n"
     ]
    },
    {
     "data": {
      "text/plain": [
       "1"
      ]
     },
     "execution_count": 4,
     "metadata": {},
     "output_type": "execute_result"
    }
   ],
   "source": [
    "def to_smash(total_candies):\n",
    "    \"\"\"Return the number of leftover candies that must be smashed after distributing\n",
    "    the given number of candies evenly between 3 friends.\n",
    "    \n",
    "    >>> to_smash(91)\n",
    "    1\n",
    "    \"\"\"\n",
    "    print(\"Splitting\", total_candies, \"candies\")\n",
    "    return total_candies % 3\n",
    "\n",
    "to_smash(91)"
   ]
  },
  {
   "cell_type": "markdown",
   "id": "686b5554",
   "metadata": {
    "papermill": {
     "duration": 0.008961,
     "end_time": "2023-02-17T13:11:58.808032",
     "exception": false,
     "start_time": "2023-02-17T13:11:58.799071",
     "status": "completed"
    },
    "tags": []
   },
   "source": [
    "What happens if we call it with `total_candies = 1`?"
   ]
  },
  {
   "cell_type": "code",
   "execution_count": 5,
   "id": "9de0d84b",
   "metadata": {
    "execution": {
     "iopub.execute_input": "2023-02-17T13:11:58.828743Z",
     "iopub.status.busy": "2023-02-17T13:11:58.828110Z",
     "iopub.status.idle": "2023-02-17T13:11:58.834598Z",
     "shell.execute_reply": "2023-02-17T13:11:58.833455Z"
    },
    "papermill": {
     "duration": 0.01933,
     "end_time": "2023-02-17T13:11:58.836745",
     "exception": false,
     "start_time": "2023-02-17T13:11:58.817415",
     "status": "completed"
    },
    "tags": []
   },
   "outputs": [
    {
     "name": "stdout",
     "output_type": "stream",
     "text": [
      "Splitting 1 candies\n"
     ]
    },
    {
     "data": {
      "text/plain": [
       "1"
      ]
     },
     "execution_count": 5,
     "metadata": {},
     "output_type": "execute_result"
    }
   ],
   "source": [
    "to_smash(1)"
   ]
  },
  {
   "cell_type": "markdown",
   "id": "5b637237",
   "metadata": {
    "papermill": {
     "duration": 0.009368,
     "end_time": "2023-02-17T13:11:58.855768",
     "exception": false,
     "start_time": "2023-02-17T13:11:58.846400",
     "status": "completed"
    },
    "tags": []
   },
   "source": [
    "That isn't great grammar!\n",
    "\n",
    "Modify the definition in the cell below to correct the grammar of our print statement. (If there's only one candy, we should use the singular \"candy\" instead of the plural \"candies\")"
   ]
  },
  {
   "cell_type": "code",
   "execution_count": 6,
   "id": "7ca2c825",
   "metadata": {
    "execution": {
     "iopub.execute_input": "2023-02-17T13:11:58.876883Z",
     "iopub.status.busy": "2023-02-17T13:11:58.876150Z",
     "iopub.status.idle": "2023-02-17T13:11:58.885642Z",
     "shell.execute_reply": "2023-02-17T13:11:58.884507Z"
    },
    "papermill": {
     "duration": 0.022453,
     "end_time": "2023-02-17T13:11:58.887730",
     "exception": false,
     "start_time": "2023-02-17T13:11:58.865277",
     "status": "completed"
    },
    "tags": []
   },
   "outputs": [
    {
     "name": "stdout",
     "output_type": "stream",
     "text": [
      "Splitting 91 candies\n",
      "Splitting 1 candy \n"
     ]
    },
    {
     "data": {
      "text/plain": [
       "1"
      ]
     },
     "execution_count": 6,
     "metadata": {},
     "output_type": "execute_result"
    }
   ],
   "source": [
    "def to_smash(total_candies):\n",
    "    \"\"\"Return the number of leftover candies that must be smashed after distributing\n",
    "    the given number of candies evenly between 3 friends.\n",
    "    \n",
    "    >>> to_smash(91)\n",
    "    1\n",
    "    \"\"\"\n",
    "#     if total_candies > 1 :\n",
    "#         print(\"Splitting\", total_candies, \"candies\")\n",
    "#     else :\n",
    "#         print(\"Splitting\", total_candies, \"candy\")\n",
    "\n",
    "    print(\"Splitting\", total_candies, \"candy \" if total_candies == 1 else \"candies\")\n",
    "        \n",
    "    return total_candies % 3\n",
    "\n",
    "to_smash(91)\n",
    "to_smash(1)"
   ]
  },
  {
   "cell_type": "markdown",
   "id": "4aa468bd",
   "metadata": {
    "papermill": {
     "duration": 0.009805,
     "end_time": "2023-02-17T13:11:58.907386",
     "exception": false,
     "start_time": "2023-02-17T13:11:58.897581",
     "status": "completed"
    },
    "tags": []
   },
   "source": [
    "To get credit for completing this problem, and to see the official answer, run the code cell below."
   ]
  },
  {
   "cell_type": "code",
   "execution_count": 7,
   "id": "0211e4c0",
   "metadata": {
    "execution": {
     "iopub.execute_input": "2023-02-17T13:11:58.929351Z",
     "iopub.status.busy": "2023-02-17T13:11:58.928513Z",
     "iopub.status.idle": "2023-02-17T13:11:58.937772Z",
     "shell.execute_reply": "2023-02-17T13:11:58.936892Z"
    },
    "papermill": {
     "duration": 0.022371,
     "end_time": "2023-02-17T13:11:58.940031",
     "exception": false,
     "start_time": "2023-02-17T13:11:58.917660",
     "status": "completed"
    },
    "tags": []
   },
   "outputs": [
    {
     "data": {
      "application/javascript": [
       "parent.postMessage({\"jupyterEvent\": \"custom.exercise_interaction\", \"data\": {\"interactionType\": 3, \"questionType\": 4, \"questionId\": \"2_PluralizationProblem\", \"learnToolsVersion\": \"0.3.4\", \"valueTowardsCompletion\": 0.0, \"failureMessage\": \"\", \"exceptionClass\": \"\", \"trace\": \"\", \"outcomeType\": 4}}, \"*\")"
      ],
      "text/plain": [
       "<IPython.core.display.Javascript object>"
      ]
     },
     "metadata": {},
     "output_type": "display_data"
    },
    {
     "data": {
      "text/markdown": [
       "<span style=\"color:#33cc99\">Solution:</span> A straightforward (and totally fine) solution is to replace the original `print` call with:\n",
       "\n",
       "```python\n",
       "if total_candies == 1:\n",
       "    print(\"Splitting 1 candy\")\n",
       "else:\n",
       "    print(\"Splitting\", total_candies, \"candies\")\n",
       "```\n",
       "\n",
       "Here's a slightly more succinct solution using a conditional expression:\n",
       "\n",
       "```python\n",
       "print(\"Splitting\", total_candies, \"candy\" if total_candies == 1 else \"candies\")\n",
       "```"
      ],
      "text/plain": [
       "Solution: A straightforward (and totally fine) solution is to replace the original `print` call with:\n",
       "\n",
       "```python\n",
       "if total_candies == 1:\n",
       "    print(\"Splitting 1 candy\")\n",
       "else:\n",
       "    print(\"Splitting\", total_candies, \"candies\")\n",
       "```\n",
       "\n",
       "Here's a slightly more succinct solution using a conditional expression:\n",
       "\n",
       "```python\n",
       "print(\"Splitting\", total_candies, \"candy\" if total_candies == 1 else \"candies\")\n",
       "```"
      ]
     },
     "metadata": {},
     "output_type": "display_data"
    }
   ],
   "source": [
    "# Check your answer (Run this code cell to receive credit!)\n",
    "q2.solution()"
   ]
  },
  {
   "cell_type": "markdown",
   "id": "0e45c61b",
   "metadata": {
    "papermill": {
     "duration": 0.009576,
     "end_time": "2023-02-17T13:11:58.960974",
     "exception": false,
     "start_time": "2023-02-17T13:11:58.951398",
     "status": "completed"
    },
    "tags": []
   },
   "source": [
    "# 3. <span title=\"A bit spicy\" style=\"color: darkgreen \">🌶️</span>\n",
    "\n",
    "In the tutorial, we talked about deciding whether we're prepared for the weather. I said that I'm safe from today's weather if...\n",
    "- I have an umbrella...\n",
    "- or if the rain isn't too heavy and I have a hood...\n",
    "- otherwise, I'm still fine unless it's raining *and* it's a workday\n",
    "\n",
    "The function below uses our first attempt at turning this logic into a Python expression. I claimed that there was a bug in that code. Can you find it?\n",
    "\n",
    "To prove that `prepared_for_weather` is buggy, come up with a set of inputs where either:\n",
    "- the function returns `False` (but should have returned `True`), or\n",
    "- the function returned `True` (but should have returned `False`).\n",
    "\n",
    "To get credit for completing this question, your code should return a <font color='#33cc33'>Correct</font> result."
   ]
  },
  {
   "cell_type": "code",
   "execution_count": 8,
   "id": "aece0e8e",
   "metadata": {
    "execution": {
     "iopub.execute_input": "2023-02-17T13:11:58.983036Z",
     "iopub.status.busy": "2023-02-17T13:11:58.982217Z",
     "iopub.status.idle": "2023-02-17T13:11:58.995315Z",
     "shell.execute_reply": "2023-02-17T13:11:58.994218Z"
    },
    "papermill": {
     "duration": 0.026803,
     "end_time": "2023-02-17T13:11:58.997716",
     "exception": false,
     "start_time": "2023-02-17T13:11:58.970913",
     "status": "completed"
    },
    "tags": []
   },
   "outputs": [
    {
     "name": "stdout",
     "output_type": "stream",
     "text": [
      "False\n"
     ]
    },
    {
     "data": {
      "application/javascript": [
       "parent.postMessage({\"jupyterEvent\": \"custom.exercise_interaction\", \"data\": {\"outcomeType\": 1, \"valueTowardsCompletion\": 0.2, \"interactionType\": 1, \"questionType\": 1, \"questionId\": \"3_WeatherDebug\", \"learnToolsVersion\": \"0.3.4\", \"failureMessage\": \"\", \"exceptionClass\": \"\", \"trace\": \"\"}}, \"*\")"
      ],
      "text/plain": [
       "<IPython.core.display.Javascript object>"
      ]
     },
     "metadata": {},
     "output_type": "display_data"
    },
    {
     "data": {
      "text/markdown": [
       "<span style=\"color:#33cc33\">Correct:</span> \n",
       "\n",
       "One example of a failing test case is:\n",
       "\n",
       "```python\n",
       "have_umbrella = False\n",
       "rain_level = 0.0\n",
       "have_hood = False\n",
       "is_workday = False\n",
       "```\n",
       "\n",
       "Clearly we're prepared for the weather in this case. It's not raining. Not only that, it's not a workday, so we don't even need to leave the house! But our function will return False on these inputs.\n",
       "\n",
       "The key problem is that Python implictly parenthesizes the last part as:\n",
       "\n",
       "```python\n",
       "(not (rain_level > 0)) and is_workday\n",
       "```\n",
       "\n",
       "Whereas what we were trying to express would look more like:\n",
       "\n",
       "```python\n",
       "not (rain_level > 0 and is_workday)\n",
       "```\n"
      ],
      "text/plain": [
       "Correct: \n",
       "\n",
       "One example of a failing test case is:\n",
       "\n",
       "```python\n",
       "have_umbrella = False\n",
       "rain_level = 0.0\n",
       "have_hood = False\n",
       "is_workday = False\n",
       "```\n",
       "\n",
       "Clearly we're prepared for the weather in this case. It's not raining. Not only that, it's not a workday, so we don't even need to leave the house! But our function will return False on these inputs.\n",
       "\n",
       "The key problem is that Python implictly parenthesizes the last part as:\n",
       "\n",
       "```python\n",
       "(not (rain_level > 0)) and is_workday\n",
       "```\n",
       "\n",
       "Whereas what we were trying to express would look more like:\n",
       "\n",
       "```python\n",
       "not (rain_level > 0 and is_workday)\n",
       "```"
      ]
     },
     "metadata": {},
     "output_type": "display_data"
    }
   ],
   "source": [
    "def prepared_for_weather(have_umbrella, rain_level, have_hood, is_workday):\n",
    "    # Don't change this code. Our goal is just to find the bug, not fix it!\n",
    "    return have_umbrella or rain_level < 5 and have_hood or not rain_level > 0 and is_workday\n",
    "\n",
    "# Change the values of these inputs so they represent a case where prepared_for_weather\n",
    "# returns the wrong answer.\n",
    "have_umbrella = False\n",
    "rain_level = 6\n",
    "have_hood = False\n",
    "is_workday = False\n",
    "\n",
    "# Check what the function returns given the current values of the variables above\n",
    "actual = prepared_for_weather(have_umbrella, rain_level, have_hood, is_workday)\n",
    "print(actual)\n",
    "\n",
    "# Check your answer\n",
    "q3.check()"
   ]
  },
  {
   "cell_type": "code",
   "execution_count": 9,
   "id": "7971fb09",
   "metadata": {
    "execution": {
     "iopub.execute_input": "2023-02-17T13:11:59.020709Z",
     "iopub.status.busy": "2023-02-17T13:11:59.020248Z",
     "iopub.status.idle": "2023-02-17T13:11:59.024119Z",
     "shell.execute_reply": "2023-02-17T13:11:59.023187Z"
    },
    "papermill": {
     "duration": 0.017857,
     "end_time": "2023-02-17T13:11:59.026335",
     "exception": false,
     "start_time": "2023-02-17T13:11:59.008478",
     "status": "completed"
    },
    "tags": []
   },
   "outputs": [],
   "source": [
    "#q3.hint()\n",
    "#q3.solution()"
   ]
  },
  {
   "cell_type": "markdown",
   "id": "b668d829",
   "metadata": {
    "papermill": {
     "duration": 0.010055,
     "end_time": "2023-02-17T13:11:59.046899",
     "exception": false,
     "start_time": "2023-02-17T13:11:59.036844",
     "status": "completed"
    },
    "tags": []
   },
   "source": [
    "# 4.\n",
    "\n",
    "The function `is_negative` below is implemented correctly - it returns True if the given number is negative and False otherwise.\n",
    "\n",
    "However, it's more verbose than it needs to be. We can actually reduce the number of lines of code in this function by *75%* while keeping the same behaviour. \n",
    "\n",
    "See if you can come up with an equivalent body that uses just **one line** of code, and put it in the function `concise_is_negative`. (HINT: you don't even need Python's ternary syntax)"
   ]
  },
  {
   "cell_type": "code",
   "execution_count": 10,
   "id": "1a06a4bb",
   "metadata": {
    "execution": {
     "iopub.execute_input": "2023-02-17T13:11:59.069864Z",
     "iopub.status.busy": "2023-02-17T13:11:59.069078Z",
     "iopub.status.idle": "2023-02-17T13:11:59.080033Z",
     "shell.execute_reply": "2023-02-17T13:11:59.078857Z"
    },
    "papermill": {
     "duration": 0.025103,
     "end_time": "2023-02-17T13:11:59.082493",
     "exception": false,
     "start_time": "2023-02-17T13:11:59.057390",
     "status": "completed"
    },
    "tags": []
   },
   "outputs": [
    {
     "data": {
      "application/javascript": [
       "parent.postMessage({\"jupyterEvent\": \"custom.exercise_interaction\", \"data\": {\"outcomeType\": 1, \"valueTowardsCompletion\": 0.2, \"interactionType\": 1, \"questionType\": 2, \"questionId\": \"4_ConciseIsNegative\", \"learnToolsVersion\": \"0.3.4\", \"failureMessage\": \"\", \"exceptionClass\": \"\", \"trace\": \"\"}}, \"*\")"
      ],
      "text/plain": [
       "<IPython.core.display.Javascript object>"
      ]
     },
     "metadata": {},
     "output_type": "display_data"
    },
    {
     "data": {
      "text/markdown": [
       "<span style=\"color:#33cc33\">Correct</span>"
      ],
      "text/plain": [
       "Correct"
      ]
     },
     "metadata": {},
     "output_type": "display_data"
    }
   ],
   "source": [
    "def is_negative(number):\n",
    "    if number < 0:\n",
    "        return True\n",
    "    else:\n",
    "        return False\n",
    "\n",
    "def concise_is_negative(number):\n",
    "    return number < 0\n",
    "    pass # Your code goes here (try to keep it to one line!)\n",
    "\n",
    "# Check your answer\n",
    "q4.check()"
   ]
  },
  {
   "cell_type": "code",
   "execution_count": 11,
   "id": "f059c4b6",
   "metadata": {
    "execution": {
     "iopub.execute_input": "2023-02-17T13:11:59.106386Z",
     "iopub.status.busy": "2023-02-17T13:11:59.105506Z",
     "iopub.status.idle": "2023-02-17T13:11:59.110277Z",
     "shell.execute_reply": "2023-02-17T13:11:59.109427Z"
    },
    "papermill": {
     "duration": 0.019146,
     "end_time": "2023-02-17T13:11:59.112602",
     "exception": false,
     "start_time": "2023-02-17T13:11:59.093456",
     "status": "completed"
    },
    "tags": []
   },
   "outputs": [],
   "source": [
    "#q4.hint()\n",
    "#q4.solution()"
   ]
  },
  {
   "cell_type": "markdown",
   "id": "ebcc4087",
   "metadata": {
    "papermill": {
     "duration": 0.010686,
     "end_time": "2023-02-17T13:11:59.134071",
     "exception": false,
     "start_time": "2023-02-17T13:11:59.123385",
     "status": "completed"
    },
    "tags": []
   },
   "source": [
    "# 5a.\n",
    "\n",
    "The boolean variables `ketchup`, `mustard` and `onion` represent whether a customer wants a particular topping on their hot dog. We want to implement a number of boolean functions that correspond to some yes-or-no questions about the customer's order. For example:"
   ]
  },
  {
   "cell_type": "code",
   "execution_count": 12,
   "id": "aee03f3c",
   "metadata": {
    "execution": {
     "iopub.execute_input": "2023-02-17T13:11:59.157209Z",
     "iopub.status.busy": "2023-02-17T13:11:59.156800Z",
     "iopub.status.idle": "2023-02-17T13:11:59.162083Z",
     "shell.execute_reply": "2023-02-17T13:11:59.160836Z"
    },
    "papermill": {
     "duration": 0.019752,
     "end_time": "2023-02-17T13:11:59.164680",
     "exception": false,
     "start_time": "2023-02-17T13:11:59.144928",
     "status": "completed"
    },
    "tags": []
   },
   "outputs": [],
   "source": [
    "def onionless(ketchup, mustard, onion):\n",
    "    \"\"\"Return whether the customer doesn't want onions.\n",
    "    \"\"\"\n",
    "    return not onion"
   ]
  },
  {
   "cell_type": "code",
   "execution_count": 13,
   "id": "5eaa8a8f",
   "metadata": {
    "execution": {
     "iopub.execute_input": "2023-02-17T13:11:59.187971Z",
     "iopub.status.busy": "2023-02-17T13:11:59.187275Z",
     "iopub.status.idle": "2023-02-17T13:11:59.194986Z",
     "shell.execute_reply": "2023-02-17T13:11:59.194097Z"
    },
    "papermill": {
     "duration": 0.021647,
     "end_time": "2023-02-17T13:11:59.196999",
     "exception": false,
     "start_time": "2023-02-17T13:11:59.175352",
     "status": "completed"
    },
    "tags": []
   },
   "outputs": [
    {
     "data": {
      "application/javascript": [
       "parent.postMessage({\"jupyterEvent\": \"custom.exercise_interaction\", \"data\": {\"outcomeType\": 4, \"interactionType\": 1, \"questionType\": 2, \"questionId\": \"5.1_AllToppings\", \"learnToolsVersion\": \"0.3.4\", \"valueTowardsCompletion\": 0.0, \"failureMessage\": \"\", \"exceptionClass\": \"\", \"trace\": \"\"}}, \"*\")"
      ],
      "text/plain": [
       "<IPython.core.display.Javascript object>"
      ]
     },
     "metadata": {},
     "output_type": "display_data"
    },
    {
     "data": {
      "text/markdown": [
       "<span style=\"color:#ccaa33\">Check:</span> When you've updated the starter code, `check()` will tell you whether your code is correct. "
      ],
      "text/plain": [
       "Check: When you've updated the starter code, `check()` will tell you whether your code is correct. "
      ]
     },
     "metadata": {},
     "output_type": "display_data"
    }
   ],
   "source": [
    "def wants_all_toppings(ketchup, mustard, onion):\n",
    "    \"\"\"Return whether the customer wants \"the works\" (all 3 toppings)\n",
    "    \"\"\"\n",
    "    pass\n",
    "\n",
    "# Check your answer\n",
    "q5.a.check()"
   ]
  },
  {
   "cell_type": "code",
   "execution_count": 14,
   "id": "3ca76b78",
   "metadata": {
    "execution": {
     "iopub.execute_input": "2023-02-17T13:11:59.220686Z",
     "iopub.status.busy": "2023-02-17T13:11:59.219963Z",
     "iopub.status.idle": "2023-02-17T13:11:59.223912Z",
     "shell.execute_reply": "2023-02-17T13:11:59.222938Z"
    },
    "papermill": {
     "duration": 0.018343,
     "end_time": "2023-02-17T13:11:59.226092",
     "exception": false,
     "start_time": "2023-02-17T13:11:59.207749",
     "status": "completed"
    },
    "tags": []
   },
   "outputs": [],
   "source": [
    "#q5.a.hint()\n",
    "#q5.a.solution()"
   ]
  },
  {
   "cell_type": "markdown",
   "id": "a6790848",
   "metadata": {
    "papermill": {
     "duration": 0.01075,
     "end_time": "2023-02-17T13:11:59.247810",
     "exception": false,
     "start_time": "2023-02-17T13:11:59.237060",
     "status": "completed"
    },
    "tags": []
   },
   "source": [
    "# 5b.\n",
    "\n",
    "For the next function, fill in the body to match the English description in the docstring. "
   ]
  },
  {
   "cell_type": "code",
   "execution_count": 15,
   "id": "1016b726",
   "metadata": {
    "execution": {
     "iopub.execute_input": "2023-02-17T13:11:59.271305Z",
     "iopub.status.busy": "2023-02-17T13:11:59.270831Z",
     "iopub.status.idle": "2023-02-17T13:11:59.280061Z",
     "shell.execute_reply": "2023-02-17T13:11:59.278974Z"
    },
    "papermill": {
     "duration": 0.023445,
     "end_time": "2023-02-17T13:11:59.282218",
     "exception": false,
     "start_time": "2023-02-17T13:11:59.258773",
     "status": "completed"
    },
    "tags": []
   },
   "outputs": [
    {
     "data": {
      "application/javascript": [
       "parent.postMessage({\"jupyterEvent\": \"custom.exercise_interaction\", \"data\": {\"outcomeType\": 1, \"valueTowardsCompletion\": 0.2, \"interactionType\": 1, \"questionType\": 2, \"questionId\": \"5.2_PlainDog\", \"learnToolsVersion\": \"0.3.4\", \"failureMessage\": \"\", \"exceptionClass\": \"\", \"trace\": \"\"}}, \"*\")"
      ],
      "text/plain": [
       "<IPython.core.display.Javascript object>"
      ]
     },
     "metadata": {},
     "output_type": "display_data"
    },
    {
     "data": {
      "text/markdown": [
       "<span style=\"color:#33cc33\">Correct:</span> \n",
       "\n",
       "One solution looks like:\n",
       "```python\n",
       "return not ketchup and not mustard and not onion\n",
       "```\n",
       "\n",
       "We can also [\"factor out\" the nots](https://en.wikipedia.org/wiki/De_Morgan%27s_laws) to get:\n",
       "\n",
       "```python\n",
       "return not (ketchup or mustard or onion)\n",
       "```"
      ],
      "text/plain": [
       "Correct: \n",
       "\n",
       "One solution looks like:\n",
       "```python\n",
       "return not ketchup and not mustard and not onion\n",
       "```\n",
       "\n",
       "We can also [\"factor out\" the nots](https://en.wikipedia.org/wiki/De_Morgan%27s_laws) to get:\n",
       "\n",
       "```python\n",
       "return not (ketchup or mustard or onion)\n",
       "```"
      ]
     },
     "metadata": {},
     "output_type": "display_data"
    }
   ],
   "source": [
    "def wants_plain_hotdog(ketchup, mustard, onion):\n",
    "    \"\"\"Return whether the customer wants a plain hot dog with no toppings.\n",
    "    \"\"\"\n",
    "    return not (ketchup or mustard or onion)\n",
    "\n",
    "# Check your answer\n",
    "q5.b.check()"
   ]
  },
  {
   "cell_type": "code",
   "execution_count": 16,
   "id": "5c708a5f",
   "metadata": {
    "execution": {
     "iopub.execute_input": "2023-02-17T13:11:59.307171Z",
     "iopub.status.busy": "2023-02-17T13:11:59.306480Z",
     "iopub.status.idle": "2023-02-17T13:11:59.310147Z",
     "shell.execute_reply": "2023-02-17T13:11:59.309407Z"
    },
    "papermill": {
     "duration": 0.018837,
     "end_time": "2023-02-17T13:11:59.312297",
     "exception": false,
     "start_time": "2023-02-17T13:11:59.293460",
     "status": "completed"
    },
    "tags": []
   },
   "outputs": [],
   "source": [
    "#q5.b.hint()\n",
    "#q5.b.solution()"
   ]
  },
  {
   "cell_type": "markdown",
   "id": "3e2984aa",
   "metadata": {
    "papermill": {
     "duration": 0.010827,
     "end_time": "2023-02-17T13:11:59.334457",
     "exception": false,
     "start_time": "2023-02-17T13:11:59.323630",
     "status": "completed"
    },
    "tags": []
   },
   "source": [
    "# 5c.\n",
    "\n",
    "You know what to do: for the next function, fill in the body to match the English description in the docstring."
   ]
  },
  {
   "cell_type": "code",
   "execution_count": 17,
   "id": "7fcbea46",
   "metadata": {
    "execution": {
     "iopub.execute_input": "2023-02-17T13:11:59.359169Z",
     "iopub.status.busy": "2023-02-17T13:11:59.358459Z",
     "iopub.status.idle": "2023-02-17T13:11:59.367399Z",
     "shell.execute_reply": "2023-02-17T13:11:59.366334Z"
    },
    "papermill": {
     "duration": 0.023895,
     "end_time": "2023-02-17T13:11:59.369603",
     "exception": false,
     "start_time": "2023-02-17T13:11:59.345708",
     "status": "completed"
    },
    "tags": []
   },
   "outputs": [
    {
     "data": {
      "application/javascript": [
       "parent.postMessage({\"jupyterEvent\": \"custom.exercise_interaction\", \"data\": {\"outcomeType\": 1, \"valueTowardsCompletion\": 0.2, \"interactionType\": 1, \"questionType\": 2, \"questionId\": \"5.3_OneSauce\", \"learnToolsVersion\": \"0.3.4\", \"failureMessage\": \"\", \"exceptionClass\": \"\", \"trace\": \"\"}}, \"*\")"
      ],
      "text/plain": [
       "<IPython.core.display.Javascript object>"
      ]
     },
     "metadata": {},
     "output_type": "display_data"
    },
    {
     "data": {
      "text/markdown": [
       "<span style=\"color:#33cc33\">Correct</span>"
      ],
      "text/plain": [
       "Correct"
      ]
     },
     "metadata": {},
     "output_type": "display_data"
    }
   ],
   "source": [
    "def exactly_one_sauce(ketchup, mustard, onion):\n",
    "    \"\"\"Return whether the customer wants either ketchup or mustard, but not both.\n",
    "    (You may be familiar with this operation under the name \"exclusive or\")\n",
    "    \"\"\"\n",
    "    return (ketchup and not mustard) or (not ketchup and mustard)\n",
    "\n",
    "# Check your answer\n",
    "q5.c.check()"
   ]
  },
  {
   "cell_type": "code",
   "execution_count": 18,
   "id": "f03f5700",
   "metadata": {
    "execution": {
     "iopub.execute_input": "2023-02-17T13:11:59.394819Z",
     "iopub.status.busy": "2023-02-17T13:11:59.394146Z",
     "iopub.status.idle": "2023-02-17T13:11:59.398117Z",
     "shell.execute_reply": "2023-02-17T13:11:59.397092Z"
    },
    "papermill": {
     "duration": 0.019157,
     "end_time": "2023-02-17T13:11:59.400393",
     "exception": false,
     "start_time": "2023-02-17T13:11:59.381236",
     "status": "completed"
    },
    "tags": []
   },
   "outputs": [],
   "source": [
    "#q5.c.hint()\n",
    "#q5.c.solution()"
   ]
  },
  {
   "cell_type": "markdown",
   "id": "e607555e",
   "metadata": {
    "papermill": {
     "duration": 0.01125,
     "end_time": "2023-02-17T13:11:59.423417",
     "exception": false,
     "start_time": "2023-02-17T13:11:59.412167",
     "status": "completed"
    },
    "tags": []
   },
   "source": [
    "# 6. <span title=\"A bit spicy\" style=\"color: darkgreen \">🌶️</span>\n",
    "\n",
    "We’ve seen that calling `bool()` on an integer returns `False` if it’s equal to 0 and `True` otherwise. What happens if we call `int()` on a bool? Try it out in the notebook cell below.\n",
    "\n",
    "Can you take advantage of this to write a succinct function that corresponds to the English sentence \"does the customer want exactly one topping?\"?"
   ]
  },
  {
   "cell_type": "code",
   "execution_count": 19,
   "id": "fb0f60a0",
   "metadata": {
    "execution": {
     "iopub.execute_input": "2023-02-17T13:11:59.448149Z",
     "iopub.status.busy": "2023-02-17T13:11:59.447715Z",
     "iopub.status.idle": "2023-02-17T13:11:59.457491Z",
     "shell.execute_reply": "2023-02-17T13:11:59.456388Z"
    },
    "papermill": {
     "duration": 0.024817,
     "end_time": "2023-02-17T13:11:59.459754",
     "exception": false,
     "start_time": "2023-02-17T13:11:59.434937",
     "status": "completed"
    },
    "tags": []
   },
   "outputs": [
    {
     "data": {
      "application/javascript": [
       "parent.postMessage({\"jupyterEvent\": \"custom.exercise_interaction\", \"data\": {\"outcomeType\": 1, \"valueTowardsCompletion\": 0.2, \"interactionType\": 1, \"questionType\": 2, \"questionId\": \"6_OneTopping\", \"learnToolsVersion\": \"0.3.4\", \"failureMessage\": \"\", \"exceptionClass\": \"\", \"trace\": \"\"}}, \"*\")"
      ],
      "text/plain": [
       "<IPython.core.display.Javascript object>"
      ]
     },
     "metadata": {},
     "output_type": "display_data"
    },
    {
     "data": {
      "text/markdown": [
       "<span style=\"color:#33cc33\">Correct:</span> \n",
       "\n",
       "This condition would be pretty complicated to express using just `and`, `or` and `not`, but using boolean-to-integer conversion gives us this short solution:\n",
       "```python\n",
       "return (int(ketchup) + int(mustard) + int(onion)) == 1\n",
       "```\n",
       "\n",
       "Fun fact: we don't technically need to call `int` on the arguments. Just by doing addition with booleans, Python implicitly does the integer conversion. So we could also write...\n",
       "\n",
       "```python\n",
       "return (ketchup + mustard + onion) == 1\n",
       "```"
      ],
      "text/plain": [
       "Correct: \n",
       "\n",
       "This condition would be pretty complicated to express using just `and`, `or` and `not`, but using boolean-to-integer conversion gives us this short solution:\n",
       "```python\n",
       "return (int(ketchup) + int(mustard) + int(onion)) == 1\n",
       "```\n",
       "\n",
       "Fun fact: we don't technically need to call `int` on the arguments. Just by doing addition with booleans, Python implicitly does the integer conversion. So we could also write...\n",
       "\n",
       "```python\n",
       "return (ketchup + mustard + onion) == 1\n",
       "```"
      ]
     },
     "metadata": {},
     "output_type": "display_data"
    }
   ],
   "source": [
    "def exactly_one_topping(ketchup, mustard, onion):\n",
    "    \"\"\"Return whether the customer wants exactly one of the three available toppings\n",
    "    on their hot dog.\n",
    "    \"\"\"\n",
    "    if int(ketchup + mustard + onion) == 1 :\n",
    "        return True\n",
    "    else : \n",
    "        return False\n",
    "\n",
    "# Check your answer\n",
    "q6.check()"
   ]
  },
  {
   "cell_type": "code",
   "execution_count": 20,
   "id": "5e0aa952",
   "metadata": {
    "execution": {
     "iopub.execute_input": "2023-02-17T13:11:59.487502Z",
     "iopub.status.busy": "2023-02-17T13:11:59.487077Z",
     "iopub.status.idle": "2023-02-17T13:11:59.491682Z",
     "shell.execute_reply": "2023-02-17T13:11:59.490464Z"
    },
    "papermill": {
     "duration": 0.019965,
     "end_time": "2023-02-17T13:11:59.493857",
     "exception": false,
     "start_time": "2023-02-17T13:11:59.473892",
     "status": "completed"
    },
    "tags": []
   },
   "outputs": [],
   "source": [
    "#q6.hint()\n",
    "#q6.solution()"
   ]
  },
  {
   "cell_type": "markdown",
   "id": "5f7d8af2",
   "metadata": {
    "papermill": {
     "duration": 0.011531,
     "end_time": "2023-02-17T13:11:59.517219",
     "exception": false,
     "start_time": "2023-02-17T13:11:59.505688",
     "status": "completed"
    },
    "tags": []
   },
   "source": [
    "# 7. <span title=\"A bit spicy\" style=\"color: darkgreen \">🌶️</span> (Optional)\n",
    "\n",
    "In this problem we'll be working with a simplified version of [blackjack](https://en.wikipedia.org/wiki/Blackjack) (aka twenty-one). In this version there is one player (who you'll control) and a dealer. Play proceeds as follows:\n",
    "\n",
    "- The player is dealt two face-up cards. The dealer is dealt one face-up card.\n",
    "- The player may ask to be dealt another card ('hit') as many times as they wish. If the sum of their cards exceeds 21, they lose the round immediately.\n",
    "- The dealer then deals additional cards to himself until either:\n",
    "    - the sum of the dealer's cards exceeds 21, in which case the player wins the round\n",
    "    - the sum of the dealer's cards is greater than or equal to 17. If the player's total is greater than the dealer's, the player wins. Otherwise, the dealer wins (even in case of a tie).\n",
    "    \n",
    "When calculating the sum of cards, Jack, Queen, and King count for 10. Aces can count as 1 or 11 (when referring to a player's \"total\" above, we mean the largest total that can be made without exceeding 21. So e.g. A+8 = 19, A+8+8 = 17)\n",
    "\n",
    "For this problem, you'll write a function representing the player's decision-making strategy in this game. We've provided a very unintelligent implementation below:"
   ]
  },
  {
   "cell_type": "code",
   "execution_count": 21,
   "id": "e92ed5a1",
   "metadata": {
    "execution": {
     "iopub.execute_input": "2023-02-17T13:11:59.542734Z",
     "iopub.status.busy": "2023-02-17T13:11:59.542236Z",
     "iopub.status.idle": "2023-02-17T13:11:59.548114Z",
     "shell.execute_reply": "2023-02-17T13:11:59.546957Z"
    },
    "papermill": {
     "duration": 0.021164,
     "end_time": "2023-02-17T13:11:59.550242",
     "exception": false,
     "start_time": "2023-02-17T13:11:59.529078",
     "status": "completed"
    },
    "tags": []
   },
   "outputs": [],
   "source": [
    "def should_hit(dealer_total, player_total, player_low_aces, player_high_aces):\n",
    "    \"\"\"Return True if the player should hit (request another card) given the current game\n",
    "    state, or False if the player should stay.\n",
    "    When calculating a hand's total value, we count aces as \"high\" (with value 11) if doing so\n",
    "    doesn't bring the total above 21, otherwise we count them as low (with value 1). \n",
    "    For example, if the player's hand is {A, A, A, 7}, we will count it as 11 + 1 + 1 + 7,\n",
    "    and therefore set player_total=20, player_low_aces=2, player_high_aces=1.\n",
    "    \"\"\"\n",
    "    return False"
   ]
  },
  {
   "cell_type": "markdown",
   "id": "3411f986",
   "metadata": {
    "papermill": {
     "duration": 0.011527,
     "end_time": "2023-02-17T13:11:59.573751",
     "exception": false,
     "start_time": "2023-02-17T13:11:59.562224",
     "status": "completed"
    },
    "tags": []
   },
   "source": [
    "This very conservative agent *always* sticks with the hand of two cards that they're dealt.\n",
    "\n",
    "We'll be simulating games between your player agent and our own dealer agent by calling your function.\n",
    "\n",
    "Try running the function below to see an example of a simulated game:"
   ]
  },
  {
   "cell_type": "code",
   "execution_count": 22,
   "id": "99960426",
   "metadata": {
    "execution": {
     "iopub.execute_input": "2023-02-17T13:11:59.598961Z",
     "iopub.status.busy": "2023-02-17T13:11:59.598516Z",
     "iopub.status.idle": "2023-02-17T13:11:59.604497Z",
     "shell.execute_reply": "2023-02-17T13:11:59.603314Z"
    },
    "papermill": {
     "duration": 0.021381,
     "end_time": "2023-02-17T13:11:59.606902",
     "exception": false,
     "start_time": "2023-02-17T13:11:59.585521",
     "status": "completed"
    },
    "tags": []
   },
   "outputs": [
    {
     "name": "stdout",
     "output_type": "stream",
     "text": [
      "Player starts with 4 and A (total = 15)\n",
      "Dealer starts with Q\n",
      "\n",
      "__Player's turn__\n",
      "Player stays\n",
      "\n",
      "__Dealer's turn__\n",
      "Dealer hits and receives 10. (total = 20)\n",
      "Dealer stands.\n",
      "Dealer wins. 20 >= 15\n"
     ]
    }
   ],
   "source": [
    "q7.simulate_one_game()"
   ]
  },
  {
   "cell_type": "markdown",
   "id": "b50b6b5c",
   "metadata": {
    "papermill": {
     "duration": 0.011963,
     "end_time": "2023-02-17T13:11:59.630720",
     "exception": false,
     "start_time": "2023-02-17T13:11:59.618757",
     "status": "completed"
    },
    "tags": []
   },
   "source": [
    "The real test of your agent's mettle is their average win rate over many games. Try calling the function below to simulate 50000 games of blackjack (it may take a couple seconds):"
   ]
  },
  {
   "cell_type": "code",
   "execution_count": 23,
   "id": "904b0c0a",
   "metadata": {
    "execution": {
     "iopub.execute_input": "2023-02-17T13:11:59.658943Z",
     "iopub.status.busy": "2023-02-17T13:11:59.658493Z",
     "iopub.status.idle": "2023-02-17T13:12:01.373132Z",
     "shell.execute_reply": "2023-02-17T13:12:01.371605Z"
    },
    "papermill": {
     "duration": 1.733673,
     "end_time": "2023-02-17T13:12:01.376175",
     "exception": false,
     "start_time": "2023-02-17T13:11:59.642502",
     "status": "completed"
    },
    "tags": []
   },
   "outputs": [
    {
     "name": "stdout",
     "output_type": "stream",
     "text": [
      "Player won 19125 out of 50000 games (win rate = 38.2%)\n"
     ]
    }
   ],
   "source": [
    "q7.simulate(n_games=50000)"
   ]
  },
  {
   "cell_type": "markdown",
   "id": "509d62d1",
   "metadata": {
    "papermill": {
     "duration": 0.012336,
     "end_time": "2023-02-17T13:12:01.401072",
     "exception": false,
     "start_time": "2023-02-17T13:12:01.388736",
     "status": "completed"
    },
    "tags": []
   },
   "source": [
    "Our dumb agent that completely ignores the game state still manages to win shockingly often!\n",
    "\n",
    "Try adding some more smarts to the `should_hit` function and see how it affects the results."
   ]
  },
  {
   "cell_type": "code",
   "execution_count": 24,
   "id": "351dbfcc",
   "metadata": {
    "execution": {
     "iopub.execute_input": "2023-02-17T13:12:01.427807Z",
     "iopub.status.busy": "2023-02-17T13:12:01.427376Z",
     "iopub.status.idle": "2023-02-17T13:12:03.109773Z",
     "shell.execute_reply": "2023-02-17T13:12:03.107890Z"
    },
    "papermill": {
     "duration": 1.699365,
     "end_time": "2023-02-17T13:12:03.112975",
     "exception": false,
     "start_time": "2023-02-17T13:12:01.413610",
     "status": "completed"
    },
    "tags": []
   },
   "outputs": [
    {
     "name": "stdout",
     "output_type": "stream",
     "text": [
      "Player won 18965 out of 50000 games (win rate = 37.9%)\n"
     ]
    }
   ],
   "source": [
    "def should_hit(dealer_total, player_total, player_low_aces, player_high_aces):\n",
    "    \"\"\"Return True if the player should hit (request another card) given the current game\n",
    "    state, or False if the player should stay.\n",
    "    When calculating a hand's total value, we count aces as \"high\" (with value 11) if doing so\n",
    "    doesn't bring the total above 21, otherwise we count them as low (with value 1). \n",
    "    For example, if the player's hand is {A, A, A, 7}, we will count it as 11 + 1 + 1 + 7,\n",
    "    and therefore set player_total=20, player_low_aces=2, player_high_aces=1.\n",
    "    \"\"\"\n",
    "    return False\n",
    "\n",
    "q7.simulate(n_games=50000)"
   ]
  },
  {
   "cell_type": "markdown",
   "id": "29d300f1",
   "metadata": {
    "papermill": {
     "duration": 0.019091,
     "end_time": "2023-02-17T13:12:03.148278",
     "exception": false,
     "start_time": "2023-02-17T13:12:03.129187",
     "status": "completed"
    },
    "tags": []
   },
   "source": [
    "# Keep Going\n",
    "\n",
    "Learn about **[lists and tuples](https://www.kaggle.com/colinmorris/lists)** to handle multiple items of data in a systematic way."
   ]
  },
  {
   "cell_type": "markdown",
   "id": "97113d00",
   "metadata": {
    "papermill": {
     "duration": 0.012706,
     "end_time": "2023-02-17T13:12:03.174493",
     "exception": false,
     "start_time": "2023-02-17T13:12:03.161787",
     "status": "completed"
    },
    "tags": []
   },
   "source": [
    "---\n",
    "\n",
    "\n",
    "\n",
    "\n",
    "*Have questions or comments? Visit the [course discussion forum](https://www.kaggle.com/learn/python/discussion) to chat with other learners.*"
   ]
  }
 ],
 "metadata": {
  "kernelspec": {
   "display_name": "Python 3",
   "language": "python",
   "name": "python3"
  },
  "language_info": {
   "codemirror_mode": {
    "name": "ipython",
    "version": 3
   },
   "file_extension": ".py",
   "mimetype": "text/x-python",
   "name": "python",
   "nbconvert_exporter": "python",
   "pygments_lexer": "ipython3",
   "version": "3.7.12"
  },
  "papermill": {
   "default_parameters": {},
   "duration": 13.857409,
   "end_time": "2023-02-17T13:12:03.912951",
   "environment_variables": {},
   "exception": null,
   "input_path": "__notebook__.ipynb",
   "output_path": "__notebook__.ipynb",
   "parameters": {},
   "start_time": "2023-02-17T13:11:50.055542",
   "version": "2.3.4"
  }
 },
 "nbformat": 4,
 "nbformat_minor": 5
}
