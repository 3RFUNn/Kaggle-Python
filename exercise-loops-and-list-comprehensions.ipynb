{
 "cells": [
  {
   "cell_type": "markdown",
   "id": "8dfc4cd4",
   "metadata": {
    "papermill": {
     "duration": 0.008646,
     "end_time": "2023-02-17T14:58:32.819044",
     "exception": false,
     "start_time": "2023-02-17T14:58:32.810398",
     "status": "completed"
    },
    "tags": []
   },
   "source": [
    "**This notebook is an exercise in the [Python](https://www.kaggle.com/learn/python) course.  You can reference the tutorial at [this link](https://www.kaggle.com/colinmorris/loops-and-list-comprehensions).**\n",
    "\n",
    "---\n"
   ]
  },
  {
   "cell_type": "markdown",
   "id": "4ba39f3d",
   "metadata": {
    "papermill": {
     "duration": 0.004611,
     "end_time": "2023-02-17T14:58:32.828614",
     "exception": false,
     "start_time": "2023-02-17T14:58:32.824003",
     "status": "completed"
    },
    "tags": []
   },
   "source": [
    "With all you've learned, you can start writing much more interesting programs. See if you can solve the problems below.\n",
    "\n",
    "As always, run the setup code below before working on the questions."
   ]
  },
  {
   "cell_type": "code",
   "execution_count": 1,
   "id": "db434e47",
   "metadata": {
    "execution": {
     "iopub.execute_input": "2023-02-17T14:58:32.839831Z",
     "iopub.status.busy": "2023-02-17T14:58:32.839358Z",
     "iopub.status.idle": "2023-02-17T14:58:32.879117Z",
     "shell.execute_reply": "2023-02-17T14:58:32.877996Z"
    },
    "papermill": {
     "duration": 0.04836,
     "end_time": "2023-02-17T14:58:32.881510",
     "exception": false,
     "start_time": "2023-02-17T14:58:32.833150",
     "status": "completed"
    },
    "tags": []
   },
   "outputs": [
    {
     "name": "stdout",
     "output_type": "stream",
     "text": [
      "Setup complete.\n"
     ]
    }
   ],
   "source": [
    "from learntools.core import binder; binder.bind(globals())\n",
    "from learntools.python.ex5 import *\n",
    "print('Setup complete.')"
   ]
  },
  {
   "cell_type": "markdown",
   "id": "b6bf23e9",
   "metadata": {
    "papermill": {
     "duration": 0.004812,
     "end_time": "2023-02-17T14:58:32.891201",
     "exception": false,
     "start_time": "2023-02-17T14:58:32.886389",
     "status": "completed"
    },
    "tags": []
   },
   "source": [
    "# 1.\n",
    "\n",
    "Have you ever felt debugging involved a bit of luck? The following program has a bug. Try to identify the bug and fix it."
   ]
  },
  {
   "cell_type": "code",
   "execution_count": 2,
   "id": "5812e098",
   "metadata": {
    "execution": {
     "iopub.execute_input": "2023-02-17T14:58:32.901836Z",
     "iopub.status.busy": "2023-02-17T14:58:32.901446Z",
     "iopub.status.idle": "2023-02-17T14:58:32.907007Z",
     "shell.execute_reply": "2023-02-17T14:58:32.906063Z"
    },
    "papermill": {
     "duration": 0.013265,
     "end_time": "2023-02-17T14:58:32.909057",
     "exception": false,
     "start_time": "2023-02-17T14:58:32.895792",
     "status": "completed"
    },
    "tags": []
   },
   "outputs": [],
   "source": [
    "def has_lucky_number(nums):\n",
    "    \"\"\"Return whether the given list of numbers is lucky. A lucky list contains\n",
    "    at least one number divisible by 7.\n",
    "    \"\"\"\n",
    "    for num in nums:\n",
    "        if num % 7 == 0:\n",
    "            return True\n",
    "        else:\n",
    "            return False"
   ]
  },
  {
   "cell_type": "markdown",
   "id": "a019e513",
   "metadata": {
    "papermill": {
     "duration": 0.00449,
     "end_time": "2023-02-17T14:58:32.918069",
     "exception": false,
     "start_time": "2023-02-17T14:58:32.913579",
     "status": "completed"
    },
    "tags": []
   },
   "source": [
    "Try to identify the bug and fix it in the cell below:"
   ]
  },
  {
   "cell_type": "code",
   "execution_count": 3,
   "id": "42a281ee",
   "metadata": {
    "execution": {
     "iopub.execute_input": "2023-02-17T14:58:32.928795Z",
     "iopub.status.busy": "2023-02-17T14:58:32.928235Z",
     "iopub.status.idle": "2023-02-17T14:58:32.939141Z",
     "shell.execute_reply": "2023-02-17T14:58:32.938148Z"
    },
    "papermill": {
     "duration": 0.018214,
     "end_time": "2023-02-17T14:58:32.941064",
     "exception": false,
     "start_time": "2023-02-17T14:58:32.922850",
     "status": "completed"
    },
    "tags": []
   },
   "outputs": [
    {
     "data": {
      "application/javascript": [
       "parent.postMessage({\"jupyterEvent\": \"custom.exercise_interaction\", \"data\": {\"outcomeType\": 1, \"valueTowardsCompletion\": 0.25, \"interactionType\": 1, \"questionType\": 2, \"questionId\": \"1_EarlyExitDebugging\", \"learnToolsVersion\": \"0.3.4\", \"failureMessage\": \"\", \"exceptionClass\": \"\", \"trace\": \"\"}}, \"*\")"
      ],
      "text/plain": [
       "<IPython.core.display.Javascript object>"
      ]
     },
     "metadata": {},
     "output_type": "display_data"
    },
    {
     "data": {
      "text/markdown": [
       "<span style=\"color:#33cc33\">Correct:</span> \n",
       "\n",
       "Remember that `return` causes a function to exit immediately. So our original implementation always ran for just one iteration. We can only return `False` if we've looked at every element of the list (and confirmed that none of them are lucky). Though we can return early if the answer is `True`:\n",
       "\n",
       "```python\n",
       "def has_lucky_number(nums):\n",
       "    for num in nums:\n",
       "        if num % 7 == 0:\n",
       "            return True\n",
       "    # We've exhausted the list without finding a lucky number\n",
       "    return False\n",
       "```\n",
       "\n",
       "Here's a one-line version using a list comprehension with Python's `any` function (you can read about what it does by calling `help(any)`):\n",
       "\n",
       "```python\n",
       "def has_lucky_number(nums):\n",
       "    return any([num % 7 == 0 for num in nums])\n",
       "```\n"
      ],
      "text/plain": [
       "Correct: \n",
       "\n",
       "Remember that `return` causes a function to exit immediately. So our original implementation always ran for just one iteration. We can only return `False` if we've looked at every element of the list (and confirmed that none of them are lucky). Though we can return early if the answer is `True`:\n",
       "\n",
       "```python\n",
       "def has_lucky_number(nums):\n",
       "    for num in nums:\n",
       "        if num % 7 == 0:\n",
       "            return True\n",
       "    # We've exhausted the list without finding a lucky number\n",
       "    return False\n",
       "```\n",
       "\n",
       "Here's a one-line version using a list comprehension with Python's `any` function (you can read about what it does by calling `help(any)`):\n",
       "\n",
       "```python\n",
       "def has_lucky_number(nums):\n",
       "    return any([num % 7 == 0 for num in nums])\n",
       "```"
      ]
     },
     "metadata": {},
     "output_type": "display_data"
    }
   ],
   "source": [
    "def has_lucky_number(nums):\n",
    "    \"\"\"Return whether the given list of numbers is lucky. A lucky list contains\n",
    "    at least one number divisible by 7.\n",
    "    \"\"\"\n",
    "    if len(nums) > 0 :\n",
    "        for num in nums:\n",
    "            if num % 7 == 0:\n",
    "                return True\n",
    "    return False\n",
    "\n",
    "# Check your answer\n",
    "q1.check()"
   ]
  },
  {
   "cell_type": "code",
   "execution_count": 4,
   "id": "be4f5e98",
   "metadata": {
    "execution": {
     "iopub.execute_input": "2023-02-17T14:58:32.951877Z",
     "iopub.status.busy": "2023-02-17T14:58:32.951594Z",
     "iopub.status.idle": "2023-02-17T14:58:32.955435Z",
     "shell.execute_reply": "2023-02-17T14:58:32.954462Z"
    },
    "papermill": {
     "duration": 0.011249,
     "end_time": "2023-02-17T14:58:32.957176",
     "exception": false,
     "start_time": "2023-02-17T14:58:32.945927",
     "status": "completed"
    },
    "tags": []
   },
   "outputs": [],
   "source": [
    "#q1.hint()\n",
    "#q1.solution()"
   ]
  },
  {
   "cell_type": "markdown",
   "id": "76f5fe10",
   "metadata": {
    "papermill": {
     "duration": 0.004763,
     "end_time": "2023-02-17T14:58:32.967116",
     "exception": false,
     "start_time": "2023-02-17T14:58:32.962353",
     "status": "completed"
    },
    "tags": []
   },
   "source": [
    "# 2.\n",
    "Look at the Python expression below. What do you think we'll get when we run it? When you've made your prediction, uncomment the code and run the cell to see if you were right."
   ]
  },
  {
   "cell_type": "code",
   "execution_count": 5,
   "id": "068b1045",
   "metadata": {
    "execution": {
     "iopub.execute_input": "2023-02-17T14:58:32.978426Z",
     "iopub.status.busy": "2023-02-17T14:58:32.978112Z",
     "iopub.status.idle": "2023-02-17T14:58:32.982537Z",
     "shell.execute_reply": "2023-02-17T14:58:32.981647Z"
    },
    "papermill": {
     "duration": 0.012063,
     "end_time": "2023-02-17T14:58:32.984313",
     "exception": false,
     "start_time": "2023-02-17T14:58:32.972250",
     "status": "completed"
    },
    "tags": []
   },
   "outputs": [],
   "source": [
    "# [1, 2, 3, 4] > 2"
   ]
  },
  {
   "cell_type": "markdown",
   "id": "3930ee63",
   "metadata": {
    "papermill": {
     "duration": 0.004685,
     "end_time": "2023-02-17T14:58:32.994084",
     "exception": false,
     "start_time": "2023-02-17T14:58:32.989399",
     "status": "completed"
    },
    "tags": []
   },
   "source": [
    "R and Python have some libraries (like numpy and pandas) compare each element of the list to 2 (i.e. do an 'element-wise' comparison) and give us a list of booleans like `[False, False, True, True]`. \n",
    "\n",
    "Implement a function that reproduces this behaviour, returning a list of booleans corresponding to whether the corresponding element is greater than n."
   ]
  },
  {
   "cell_type": "code",
   "execution_count": 6,
   "id": "59085ea2",
   "metadata": {
    "execution": {
     "iopub.execute_input": "2023-02-17T14:58:33.005579Z",
     "iopub.status.busy": "2023-02-17T14:58:33.005265Z",
     "iopub.status.idle": "2023-02-17T14:58:33.014114Z",
     "shell.execute_reply": "2023-02-17T14:58:33.013092Z"
    },
    "papermill": {
     "duration": 0.016669,
     "end_time": "2023-02-17T14:58:33.016052",
     "exception": false,
     "start_time": "2023-02-17T14:58:32.999383",
     "status": "completed"
    },
    "tags": []
   },
   "outputs": [
    {
     "data": {
      "application/javascript": [
       "parent.postMessage({\"jupyterEvent\": \"custom.exercise_interaction\", \"data\": {\"outcomeType\": 1, \"valueTowardsCompletion\": 0.25, \"interactionType\": 1, \"questionType\": 2, \"questionId\": \"2_ElementWiseComparison\", \"learnToolsVersion\": \"0.3.4\", \"failureMessage\": \"\", \"exceptionClass\": \"\", \"trace\": \"\"}}, \"*\")"
      ],
      "text/plain": [
       "<IPython.core.display.Javascript object>"
      ]
     },
     "metadata": {},
     "output_type": "display_data"
    },
    {
     "data": {
      "text/markdown": [
       "<span style=\"color:#33cc33\">Correct:</span> \n",
       "\n",
       "Here's one solution:\n",
       "```python\n",
       "def elementwise_greater_than(L, thresh):\n",
       "    res = []\n",
       "    for ele in L:\n",
       "        res.append(ele > thresh)\n",
       "    return res\n",
       "```\n",
       "\n",
       "And here's the list comprehension version:\n",
       "```python\n",
       "def elementwise_greater_than(L, thresh):\n",
       "    return [ele > thresh for ele in L]\n",
       "```\n"
      ],
      "text/plain": [
       "Correct: \n",
       "\n",
       "Here's one solution:\n",
       "```python\n",
       "def elementwise_greater_than(L, thresh):\n",
       "    res = []\n",
       "    for ele in L:\n",
       "        res.append(ele > thresh)\n",
       "    return res\n",
       "```\n",
       "\n",
       "And here's the list comprehension version:\n",
       "```python\n",
       "def elementwise_greater_than(L, thresh):\n",
       "    return [ele > thresh for ele in L]\n",
       "```"
      ]
     },
     "metadata": {},
     "output_type": "display_data"
    }
   ],
   "source": [
    "def elementwise_greater_than(L, thresh):\n",
    "    \"\"\"Return a list with the same length as L, where the value at index i is \n",
    "    True if L[i] is greater than thresh, and False otherwise.\n",
    "    \n",
    "    >>> elementwise_greater_than([1, 2, 3, 4], 2)\n",
    "    [False, False, True, True]\n",
    "    \"\"\"\n",
    "    return [ elem > thresh for elem in L ]\n",
    "\n",
    "# Check your answer\n",
    "q2.check()"
   ]
  },
  {
   "cell_type": "code",
   "execution_count": 7,
   "id": "b9812a6b",
   "metadata": {
    "execution": {
     "iopub.execute_input": "2023-02-17T14:58:33.027492Z",
     "iopub.status.busy": "2023-02-17T14:58:33.027185Z",
     "iopub.status.idle": "2023-02-17T14:58:33.031241Z",
     "shell.execute_reply": "2023-02-17T14:58:33.030297Z"
    },
    "papermill": {
     "duration": 0.011887,
     "end_time": "2023-02-17T14:58:33.033153",
     "exception": false,
     "start_time": "2023-02-17T14:58:33.021266",
     "status": "completed"
    },
    "tags": []
   },
   "outputs": [],
   "source": [
    "#q2.solution()"
   ]
  },
  {
   "cell_type": "markdown",
   "id": "310bbddf",
   "metadata": {
    "papermill": {
     "duration": 0.004795,
     "end_time": "2023-02-17T14:58:33.043434",
     "exception": false,
     "start_time": "2023-02-17T14:58:33.038639",
     "status": "completed"
    },
    "tags": []
   },
   "source": [
    "# 3.\n",
    "\n",
    "Complete the body of the function below according to its docstring."
   ]
  },
  {
   "cell_type": "code",
   "execution_count": 8,
   "id": "eb3a7b41",
   "metadata": {
    "execution": {
     "iopub.execute_input": "2023-02-17T14:58:33.055653Z",
     "iopub.status.busy": "2023-02-17T14:58:33.055358Z",
     "iopub.status.idle": "2023-02-17T14:58:33.063714Z",
     "shell.execute_reply": "2023-02-17T14:58:33.062788Z"
    },
    "papermill": {
     "duration": 0.016657,
     "end_time": "2023-02-17T14:58:33.065639",
     "exception": false,
     "start_time": "2023-02-17T14:58:33.048982",
     "status": "completed"
    },
    "tags": []
   },
   "outputs": [
    {
     "data": {
      "application/javascript": [
       "parent.postMessage({\"jupyterEvent\": \"custom.exercise_interaction\", \"data\": {\"outcomeType\": 1, \"valueTowardsCompletion\": 0.25, \"interactionType\": 1, \"questionType\": 2, \"questionId\": \"3_BoringMenu\", \"learnToolsVersion\": \"0.3.4\", \"failureMessage\": \"\", \"exceptionClass\": \"\", \"trace\": \"\"}}, \"*\")"
      ],
      "text/plain": [
       "<IPython.core.display.Javascript object>"
      ]
     },
     "metadata": {},
     "output_type": "display_data"
    },
    {
     "data": {
      "text/markdown": [
       "<span style=\"color:#33cc33\">Correct:</span> \n",
       "\n",
       "\n",
       "\n",
       "```python\n",
       "def menu_is_boring(meals):\n",
       "    # Iterate over all indices of the list, except the last one\n",
       "    for i in range(len(meals)-1):\n",
       "        if meals[i] == meals[i+1]:\n",
       "            return True\n",
       "    return False\n",
       "```\n",
       "\n",
       "The key to our solution is the call to `range`. `range(len(meals))` would give us all the indices of `meals`. If we had used that range, the last iteration of the loop would be comparing the last element to the element after it, which is... `IndexError`! `range(len(meals)-1)` gives us all the indices except the index of the last element.\n",
       "\n",
       "But don't we need to check if `meals` is empty? Turns out that `range(0) == range(-1)` - they're both empty. So if `meals` has length 0 or 1, we just won't do any iterations of our for loop.\n"
      ],
      "text/plain": [
       "Correct: \n",
       "\n",
       "\n",
       "\n",
       "```python\n",
       "def menu_is_boring(meals):\n",
       "    # Iterate over all indices of the list, except the last one\n",
       "    for i in range(len(meals)-1):\n",
       "        if meals[i] == meals[i+1]:\n",
       "            return True\n",
       "    return False\n",
       "```\n",
       "\n",
       "The key to our solution is the call to `range`. `range(len(meals))` would give us all the indices of `meals`. If we had used that range, the last iteration of the loop would be comparing the last element to the element after it, which is... `IndexError`! `range(len(meals)-1)` gives us all the indices except the index of the last element.\n",
       "\n",
       "But don't we need to check if `meals` is empty? Turns out that `range(0) == range(-1)` - they're both empty. So if `meals` has length 0 or 1, we just won't do any iterations of our for loop."
      ]
     },
     "metadata": {},
     "output_type": "display_data"
    }
   ],
   "source": [
    "def menu_is_boring(meals):\n",
    "    \"\"\"Given a list of meals served over some period of time, return True if the\n",
    "    same meal has ever been served two days in a row, and False otherwise.\n",
    "    \"\"\"\n",
    "    for i in range( len(meals) - 1) :\n",
    "        if meals[i] == meals[i+1] : \n",
    "            return True\n",
    "    return False\n",
    "\n",
    "# Check your answer\n",
    "q3.check()"
   ]
  },
  {
   "cell_type": "code",
   "execution_count": 9,
   "id": "430ea200",
   "metadata": {
    "execution": {
     "iopub.execute_input": "2023-02-17T14:58:33.078053Z",
     "iopub.status.busy": "2023-02-17T14:58:33.077755Z",
     "iopub.status.idle": "2023-02-17T14:58:33.081619Z",
     "shell.execute_reply": "2023-02-17T14:58:33.080850Z"
    },
    "papermill": {
     "duration": 0.012015,
     "end_time": "2023-02-17T14:58:33.083463",
     "exception": false,
     "start_time": "2023-02-17T14:58:33.071448",
     "status": "completed"
    },
    "tags": []
   },
   "outputs": [],
   "source": [
    "#q3.hint()\n",
    "#q3.solution()"
   ]
  },
  {
   "cell_type": "markdown",
   "id": "09f37297",
   "metadata": {
    "papermill": {
     "duration": 0.005376,
     "end_time": "2023-02-17T14:58:33.094552",
     "exception": false,
     "start_time": "2023-02-17T14:58:33.089176",
     "status": "completed"
    },
    "tags": []
   },
   "source": [
    "# 4. <span title=\"A bit spicy\" style=\"color: darkgreen \">🌶️</span>\n",
    "\n",
    "Next to the Blackjack table, the Python Challenge Casino has a slot machine. You can get a result from the slot machine by calling `play_slot_machine()`. The number it returns is your winnings in dollars. Usually it returns 0.  But sometimes you'll get lucky and get a big payday. Try running it below:"
   ]
  },
  {
   "cell_type": "code",
   "execution_count": 10,
   "id": "5c8b2dce",
   "metadata": {
    "execution": {
     "iopub.execute_input": "2023-02-17T14:58:33.107025Z",
     "iopub.status.busy": "2023-02-17T14:58:33.106704Z",
     "iopub.status.idle": "2023-02-17T14:58:33.111724Z",
     "shell.execute_reply": "2023-02-17T14:58:33.111118Z"
    },
    "papermill": {
     "duration": 0.012821,
     "end_time": "2023-02-17T14:58:33.113369",
     "exception": false,
     "start_time": "2023-02-17T14:58:33.100548",
     "status": "completed"
    },
    "tags": []
   },
   "outputs": [
    {
     "data": {
      "text/plain": [
       "0"
      ]
     },
     "execution_count": 10,
     "metadata": {},
     "output_type": "execute_result"
    }
   ],
   "source": [
    "play_slot_machine()"
   ]
  },
  {
   "cell_type": "markdown",
   "id": "dc33079c",
   "metadata": {
    "papermill": {
     "duration": 0.005273,
     "end_time": "2023-02-17T14:58:33.124310",
     "exception": false,
     "start_time": "2023-02-17T14:58:33.119037",
     "status": "completed"
    },
    "tags": []
   },
   "source": [
    "By the way, did we mention that each play costs $1? Don't worry, we'll send you the bill later.\n",
    "\n",
    "On average, how much money can you expect to gain (or lose) every time you play the machine?  The casino keeps it a secret, but you can estimate the average value of each pull using a technique called the **Monte Carlo method**. To estimate the average outcome, we simulate the scenario many times, and return the average result.\n",
    "\n",
    "Complete the following function to calculate the average value per play of the slot machine."
   ]
  },
  {
   "cell_type": "code",
   "execution_count": 11,
   "id": "ba85de90",
   "metadata": {
    "execution": {
     "iopub.execute_input": "2023-02-17T14:58:33.137087Z",
     "iopub.status.busy": "2023-02-17T14:58:33.136590Z",
     "iopub.status.idle": "2023-02-17T14:58:33.141195Z",
     "shell.execute_reply": "2023-02-17T14:58:33.140346Z"
    },
    "papermill": {
     "duration": 0.01306,
     "end_time": "2023-02-17T14:58:33.143064",
     "exception": false,
     "start_time": "2023-02-17T14:58:33.130004",
     "status": "completed"
    },
    "tags": []
   },
   "outputs": [],
   "source": [
    "def estimate_average_slot_payout(n_runs):\n",
    "    \"\"\"Run the slot machine n_runs times and return the average net profit per run.\n",
    "    Example calls (note that return value is nondeterministic!):\n",
    "    >>> estimate_average_slot_payout(1)\n",
    "    -1\n",
    "    >>> estimate_average_slot_payout(1)\n",
    "    0.5\n",
    "    \"\"\"\n",
    "    sum = 0\n",
    "    for i in range(n_runs) :\n",
    "        sum = sum + play_slot_machine() - 1\n",
    "    return sum / n_runs\n",
    "        "
   ]
  },
  {
   "cell_type": "markdown",
   "id": "2911a213",
   "metadata": {
    "papermill": {
     "duration": 0.005356,
     "end_time": "2023-02-17T14:58:33.154212",
     "exception": false,
     "start_time": "2023-02-17T14:58:33.148856",
     "status": "completed"
    },
    "tags": []
   },
   "source": [
    "When you think you know the expected value per spin, run the code cell below to view the solution and get credit for answering the question."
   ]
  },
  {
   "cell_type": "code",
   "execution_count": 12,
   "id": "83c12a9c",
   "metadata": {
    "execution": {
     "iopub.execute_input": "2023-02-17T14:58:33.167308Z",
     "iopub.status.busy": "2023-02-17T14:58:33.166311Z",
     "iopub.status.idle": "2023-02-17T14:58:33.173952Z",
     "shell.execute_reply": "2023-02-17T14:58:33.173198Z"
    },
    "papermill": {
     "duration": 0.015985,
     "end_time": "2023-02-17T14:58:33.176022",
     "exception": false,
     "start_time": "2023-02-17T14:58:33.160037",
     "status": "completed"
    },
    "tags": []
   },
   "outputs": [
    {
     "data": {
      "application/javascript": [
       "parent.postMessage({\"jupyterEvent\": \"custom.exercise_interaction\", \"data\": {\"interactionType\": 3, \"questionType\": 4, \"questionId\": \"4_ExpectedSlotsPayout\", \"learnToolsVersion\": \"0.3.4\", \"valueTowardsCompletion\": 0.0, \"failureMessage\": \"\", \"exceptionClass\": \"\", \"trace\": \"\", \"outcomeType\": 4}}, \"*\")"
      ],
      "text/plain": [
       "<IPython.core.display.Javascript object>"
      ]
     },
     "metadata": {},
     "output_type": "display_data"
    },
    {
     "data": {
      "text/markdown": [
       "<span style=\"color:#33cc99\">Solution:</span> \n",
       "    \n",
       "The exact expected value of one pull of the slot machine is 0.025 - i.e. a little more than 2 cents.  See?  Not every game in the Python Challenge Casino is rigged against the player!\n",
       "\n",
       "In order to get this answer, you'll need to implement the `estimate_average_slot_payout(n_runs)` function to simulate pulling the slot machine `n_runs` times.  It should return the payout averaged over those `n_runs`.\n",
       "\n",
       "Then, once the function is defined, in order to estimate the average slot payout, we need only call the function.\n",
       "\n",
       "Because of the high variance of the outcome (there are some very rare high payout results that significantly affect the average) you might need to run your function with a very high value of `n_runs` to get a stable answer close to the true expectation.  For instance, you might use a value for `n_runs` of 1000000.\n",
       "\n",
       "Here's an example for how the function could look:\n",
       "```python\n",
       "def estimate_average_slot_payout(n_runs):\n",
       "    # Play slot machine n_runs times, calculate payout of each\n",
       "    payouts = [play_slot_machine()-1 for i in range(n_runs)]\n",
       "    # Calculate the average value\n",
       "    avg_payout = sum(payouts) / n_runs\n",
       "    return avg_payout\n",
       "    \n",
       "estimate_average_slot_payout(10000000)\n",
       "\n",
       "```\n",
       "\n",
       "This should return an answer close to 0.025!\n",
       "            \n"
      ],
      "text/plain": [
       "Solution: \n",
       "    \n",
       "The exact expected value of one pull of the slot machine is 0.025 - i.e. a little more than 2 cents.  See?  Not every game in the Python Challenge Casino is rigged against the player!\n",
       "\n",
       "In order to get this answer, you'll need to implement the `estimate_average_slot_payout(n_runs)` function to simulate pulling the slot machine `n_runs` times.  It should return the payout averaged over those `n_runs`.\n",
       "\n",
       "Then, once the function is defined, in order to estimate the average slot payout, we need only call the function.\n",
       "\n",
       "Because of the high variance of the outcome (there are some very rare high payout results that significantly affect the average) you might need to run your function with a very high value of `n_runs` to get a stable answer close to the true expectation.  For instance, you might use a value for `n_runs` of 1000000.\n",
       "\n",
       "Here's an example for how the function could look:\n",
       "```python\n",
       "def estimate_average_slot_payout(n_runs):\n",
       "    # Play slot machine n_runs times, calculate payout of each\n",
       "    payouts = [play_slot_machine()-1 for i in range(n_runs)]\n",
       "    # Calculate the average value\n",
       "    avg_payout = sum(payouts) / n_runs\n",
       "    return avg_payout\n",
       "    \n",
       "estimate_average_slot_payout(10000000)\n",
       "\n",
       "```\n",
       "\n",
       "This should return an answer close to 0.025!\n",
       "            "
      ]
     },
     "metadata": {},
     "output_type": "display_data"
    }
   ],
   "source": [
    "# Check your answer (Run this code cell to receive credit!)\n",
    "q4.solution()"
   ]
  },
  {
   "cell_type": "markdown",
   "id": "cf0c503f",
   "metadata": {
    "papermill": {
     "duration": 0.006268,
     "end_time": "2023-02-17T14:58:33.188366",
     "exception": false,
     "start_time": "2023-02-17T14:58:33.182098",
     "status": "completed"
    },
    "tags": []
   },
   "source": [
    "# Keep Going\n",
    "\n",
    "Many programmers report that dictionaries are their favorite data structure. You'll get to **[learn about them](https://www.kaggle.com/colinmorris/strings-and-dictionaries)** (as well as strings) in the next lesson."
   ]
  },
  {
   "cell_type": "markdown",
   "id": "b33794a5",
   "metadata": {
    "papermill": {
     "duration": 0.006227,
     "end_time": "2023-02-17T14:58:33.200726",
     "exception": false,
     "start_time": "2023-02-17T14:58:33.194499",
     "status": "completed"
    },
    "tags": []
   },
   "source": [
    "---\n",
    "\n",
    "\n",
    "\n",
    "\n",
    "*Have questions or comments? Visit the [course discussion forum](https://www.kaggle.com/learn/python/discussion) to chat with other learners.*"
   ]
  }
 ],
 "metadata": {
  "kernelspec": {
   "display_name": "Python 3",
   "language": "python",
   "name": "python3"
  },
  "language_info": {
   "codemirror_mode": {
    "name": "ipython",
    "version": 3
   },
   "file_extension": ".py",
   "mimetype": "text/x-python",
   "name": "python",
   "nbconvert_exporter": "python",
   "pygments_lexer": "ipython3",
   "version": "3.7.12"
  },
  "papermill": {
   "default_parameters": {},
   "duration": 8.548418,
   "end_time": "2023-02-17T14:58:33.725508",
   "environment_variables": {},
   "exception": null,
   "input_path": "__notebook__.ipynb",
   "output_path": "__notebook__.ipynb",
   "parameters": {},
   "start_time": "2023-02-17T14:58:25.177090",
   "version": "2.3.4"
  }
 },
 "nbformat": 4,
 "nbformat_minor": 5
}
